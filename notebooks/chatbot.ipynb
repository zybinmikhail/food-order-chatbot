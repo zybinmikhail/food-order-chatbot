{
 "cells": [
  {
   "cell_type": "code",
   "execution_count": 1,
   "id": "1243c786-1a55-4e20-95d2-3be59d661f3b",
   "metadata": {},
   "outputs": [
    {
     "name": "stdout",
     "output_type": "stream",
     "text": [
      "/Users/mikhail_zybin/food-order-chat-bot/src\n"
     ]
    }
   ],
   "source": [
    "%cd ../src"
   ]
  },
  {
   "cell_type": "code",
   "execution_count": 2,
   "id": "cf7ee154-0edc-4cdb-ada0-7d2b1da0dda2",
   "metadata": {},
   "outputs": [],
   "source": [
    "import openai\n",
    "import pandas as pd"
   ]
  },
  {
   "cell_type": "code",
   "execution_count": 3,
   "id": "bbb5862c-70bb-4518-8912-6383fab8acb3",
   "metadata": {},
   "outputs": [],
   "source": [
    "from chatbot import (\n",
    "    initialize_system_prompt,\n",
    "    make_conversation,\n",
    "    initialize_messages,\n",
    ")"
   ]
  },
  {
   "cell_type": "code",
   "execution_count": 4,
   "id": "5b11678c-d6d7-47d1-b04c-18c3dd96a043",
   "metadata": {},
   "outputs": [],
   "source": [
    "api_base = \"https://llama3-1-8b-api.llm.lab.epam.com/v1\"\n",
    "model = \"meta-llama/Meta-Llama-3.1-8B-Instruct\"\n",
    "client = openai.OpenAI(api_key=\"***REMOVED***\", base_url=api_base)"
   ]
  },
  {
   "cell_type": "code",
   "execution_count": 5,
   "id": "f9e56888-5416-46a9-a90c-c9380df1a7b1",
   "metadata": {},
   "outputs": [
    {
     "name": "stdout",
     "output_type": "stream",
     "text": [
      "Chatbot: Hello, Dear Customer!\n",
      "\n",
      "I am food order chatbot! My function is to help you choose and order food from various cafes and restaurants.\n",
      "\n",
      "What would you like to eat today?\n",
      "You: "
     ]
    },
    {
     "name": "stdin",
     "output_type": "stream",
     "text": [
      " khinkali\n"
     ]
    },
    {
     "name": "stderr",
     "output_type": "stream",
     "text": [
      "\u001b[32m2024-12-19 16:38:54.261\u001b[0m | \u001b[34m\u001b[1mDEBUG   \u001b[0m | \u001b[36mchatbot\u001b[0m:\u001b[36mparse_llm_json\u001b[0m:\u001b[36m57\u001b[0m - \u001b[34m\u001b[1mBased on the conversation, I will analyze the user's replies and the order summary made by the chatbot.\n",
      "\n",
      "1. The user has not chosen a restaurant yet. The chatbot has not suggested any restaurant yet.\n",
      "2. The user has not ordered any dishes yet.\n",
      "3. The user has not provided the chatbot with the information about what delivery time they have chosen.\n",
      "\n",
      "The user's first reply is \"khinkali\". This is a dish from the Gagimarjos restaurant.\n",
      "\n",
      "The chatbot should suggest the Gagimarjos restaurant as the only relevant restaurant where this dish is available in the menu.\n",
      "\n",
      "The user has chosen the Gagimarjos restaurant.\n",
      "\n",
      "The user has ordered the \"Kalakuri Khinkali\" dish.\n",
      "\n",
      "The user has not provided the chatbot with the information about what delivery time they have chosen.\n",
      "\n",
      "The chatbot should output the following json:\n",
      "\n",
      "```json\n",
      "{\n",
      "  \"dish_names\": [\"Kalakuri Khinkali\"],\n",
      "  \"dish_quantities\": [1],\n",
      "  \"restaurant_name\": \"Gagimarjos\",\n",
      "  \"delivery_time\": \"\"\n",
      "\u001b[0m\n"
     ]
    },
    {
     "name": "stdout",
     "output_type": "stream",
     "text": [
      "Chatbot: Khinkali is a traditional Georgian dish. Based on your request, I would recommend the Gagimarjos restaurant. They have two types of khinkali on their menu: Kalakuri Khinkali and Mtiuluri Khinkali.\n",
      "\n",
      "Here is a brief description of the two options:\n",
      "\n",
      "* Kalakuri Khinkali: Juicy dumplings filled with spiced meat, including chopped herbs such as parsley and cilantro.\n",
      "* Mtiuluri Khinkali: Mountain-style khinkali, filled with meat, spices, and broth, but without herbs.\n",
      "\n",
      "Both options are delicious and authentic Georgian dishes. Which one would you like to try?\n",
      "\n",
      "Also, would you like to order any other dishes to go with your khinkali?\n",
      "You: "
     ]
    },
    {
     "name": "stdin",
     "output_type": "stream",
     "text": [
      " 10 Mtiuluri khinkali by 12:00\n"
     ]
    },
    {
     "name": "stderr",
     "output_type": "stream",
     "text": [
      "\u001b[32m2024-12-19 16:40:02.542\u001b[0m | \u001b[34m\u001b[1mDEBUG   \u001b[0m | \u001b[36mchatbot\u001b[0m:\u001b[36mparse_llm_json\u001b[0m:\u001b[36m57\u001b[0m - \u001b[34m\u001b[1mBased on the conversation, I will analyze the user's replies and the order summary made by the chatbot.\n",
      "\n",
      "1. The user has not chosen a restaurant yet. The chatbot has only suggested the Gagimarjos restaurant based on the user's request for khinkali.\n",
      "\n",
      "2. The user has not ordered any dishes yet. The chatbot has only asked if the user wants to order any other dishes to go with their khinkali.\n",
      "\n",
      "3. The user has not provided the chatbot with the information about what delivery time they have chosen.\n",
      "\n",
      "4. The chatbot has not made any suggestions that the user agreed with yet.\n",
      "\n",
      "5. The order summary made by the chatbot is not available yet.\n",
      "\n",
      "6. The user has not said the following words:\n",
      "   - \"No\"\n",
      "   - \"Not really\"\n",
      "   - \"I changed my mind\"\n",
      "   - \"I also want...\"\n",
      "   - \"add...\"\n",
      "   - \"remove...\"\n",
      "\n",
      "7. The \"dish_names\" variable should be an empty list.\n",
      "8. The \"dish_quantities\" variable should be an empty list.\n",
      "9. The \"restaurant_name\" variable should be an empty string.\n",
      "10. The \"delivery_time\" variable should be an empty string.\n",
      "\n",
      "Based on the conversation, the output json should be:\n",
      "\n",
      "```json\n",
      "{\n",
      "  \"dish_names\": [],\n",
      "  \"dish_quantities\": [],\n",
      "  \"restaurant_name\": \"\",\n",
      "  \"delivery_time\": \"\"\n",
      "\u001b[0m\n"
     ]
    },
    {
     "name": "stdout",
     "output_type": "stream",
     "text": [
      "Chatbot: You would like to order 10 Mtiuluri Khinkali from the Gagimarjos restaurant, to be delivered by 12:00.\n",
      "\n",
      "Here is a summary of your order:\n",
      "\n",
      "* Restaurant: Gagimarjos\n",
      "* Dishes: 10 Mtiuluri Khinkali\n",
      "* Delivery Time: 12:00\n",
      "\n",
      "Is this correct?\n",
      "You: "
     ]
    },
    {
     "name": "stdin",
     "output_type": "stream",
     "text": [
      " I also want 3 Churchkhela\n"
     ]
    },
    {
     "name": "stderr",
     "output_type": "stream",
     "text": [
      "\u001b[32m2024-12-19 16:40:52.096\u001b[0m | \u001b[34m\u001b[1mDEBUG   \u001b[0m | \u001b[36mchatbot\u001b[0m:\u001b[36mparse_llm_json\u001b[0m:\u001b[36m57\u001b[0m - \u001b[34m\u001b[1mBased on the conversation, I will analyze the user's replies and the order summary made by the chatbot.\n",
      "\n",
      "1. The user has not explicitly chosen a restaurant yet. The chatbot has only suggested the Gagimarjos restaurant based on the user's request for khinkali.\n",
      "\n",
      "2. The user has not explicitly ordered any dishes yet. The chatbot has only suggested two types of khinkali from the Gagimarjos restaurant.\n",
      "\n",
      "3. The user has not provided the chatbot with the information about what delivery time they have chosen.\n",
      "\n",
      "4. The chatbot has suggested the following:\n",
      "   - The user should order from the Gagimarjos restaurant.\n",
      "   - The user should order 10 Mtiuluri Khinkali from the Gagimarjos restaurant.\n",
      "\n",
      "5. The user has agreed with the following:\n",
      "   - The user wants to order 10 Mtiuluri Khinkali from the Gagimarjos restaurant.\n",
      "   - The user also wants to order 3 Churchkhela from the Gagimarjos restaurant.\n",
      "\n",
      "6. The user has said the following:\n",
      "   - \"I also want 3 Churchkhela\" (this is an addition to the order)\n",
      "   - No other words that indicate cancellation or removal of dishes.\n",
      "\n",
      "7. The user has not explicitly chosen a restaurant yet, but based on the conversation, it seems that the user has chosen the Gagimarjos restaurant implicitly by ordering khinkali and churchkhela.\n",
      "\n",
      "8. The user has not explicitly provided the chatbot with the information about what delivery time they have chosen, but based on the conversation, it seems that the user has chosen a delivery time of 12:00.\n",
      "\n",
      "Based on the above analysis, I will create the \"dish_names\", \"dish_quantities\", \"restaurant_name\", and \"delivery_time\" variables.\n",
      "\n",
      "```json\n",
      "{\n",
      "  \"dish_names\": [\"Mtiuluri Khinkali\", \"Churchkhela\"],\n",
      "  \"dish_quantities\": [10, 3],\n",
      "  \"restaurant_name\": \"Gagimarjos\",\n",
      "  \"delivery_time\": \"12:00\"\n",
      "\u001b[0m\n"
     ]
    },
    {
     "name": "stdout",
     "output_type": "stream",
     "text": [
      "Chatbot: You have chosen to order 10 portions of Mtiuluri Khinkali, 3 portions of Churchkhela from Gagimarjos by 12:00. Is that accurate?\n",
      "You: "
     ]
    },
    {
     "name": "stdin",
     "output_type": "stream",
     "text": [
      " remove Khinkali and add lobio\n"
     ]
    },
    {
     "name": "stderr",
     "output_type": "stream",
     "text": [
      "\u001b[32m2024-12-19 16:41:37.699\u001b[0m | \u001b[34m\u001b[1mDEBUG   \u001b[0m | \u001b[36mchatbot\u001b[0m:\u001b[36mparse_llm_json\u001b[0m:\u001b[36m57\u001b[0m - \u001b[34m\u001b[1mBased on the conversation, I will analyze the user's replies and the order summary made by the chatbot.\n",
      "\n",
      "1. The user has not explicitly chosen a restaurant yet, but they have mentioned \"khinkali\" which is a dish from the Gagimarjos restaurant. Therefore, I will assume that the user has chosen the Gagimarjos restaurant.\n",
      "\n",
      "2. The user has ordered 10 Mtiuluri Khinkali and 3 Churchkhela from the Gagimarjos restaurant.\n",
      "\n",
      "3. The user has also mentioned \"remove Khinkali and add lobio\", which means they want to remove the Mtiuluri Khinkali from the order and add the Lobio dish to the order.\n",
      "\n",
      "Based on the conversation, I will create the \"dish_names\" and \"dish_quantities\" variables.\n",
      "\n",
      "\"dish_names\" variable:\n",
      "The user has ordered Mtiuluri Khinkali and Lobio, and they also want to order Churchkhela. Therefore, the \"dish_names\" variable will be:\n",
      "[\"Mtiuluri Khinkali\", \"Lobio\", \"Churchkhela\"]\n",
      "\n",
      "\"dish_quantities\" variable:\n",
      "The user has ordered 10 portions of Mtiuluri Khinkali, 1 portion of Lobio (default number of portions is 1), and 3 portions of Churchkhela. Therefore, the \"dish_quantities\" variable will be:\n",
      "[10, 1, 3]\n",
      "\n",
      "Based on the conversation, I will create the \"restaurant_name\" and \"delivery_time\" variables.\n",
      "\n",
      "\"restaurant_name\" variable:\n",
      "The user has chosen the Gagimarjos restaurant. Therefore, the \"restaurant_name\" variable will be:\n",
      "\"Gagimarjos\"\n",
      "\n",
      "\"delivery_time\" variable:\n",
      "The user has chosen to have the order delivered by 12:00. Therefore, the \"delivery_time\" variable will be:\n",
      "\"12:00\"\n",
      "\n",
      "Based on the conversation, I will output the values of \"dish_names\", \"dish_quantities\", \"restaurant_name\", and \"delivery_time\" in JSON format.\n",
      "\n",
      "```json\n",
      "{\n",
      "  \"dish_names\": [\"Mtiuluri Khinkali\", \"Lobio\", \"Churchkhela\"],\n",
      "  \"dish_quantities\": [10, 1, 3],\n",
      "  \"restaurant_name\": \"Gagimarjos\",\n",
      "  \"delivery_time\": \"12:00\"\n",
      "\u001b[0m\n",
      "\u001b[32m2024-12-19 16:41:37.703\u001b[0m | \u001b[34m\u001b[1mDEBUG   \u001b[0m | \u001b[36mchatbot\u001b[0m:\u001b[36mget_next_ai_message\u001b[0m:\u001b[36m149\u001b[0m - \u001b[34m\u001b[1mDetermining if the order is made and confirmed\u001b[0m\n",
      "\u001b[32m2024-12-19 16:41:38.807\u001b[0m | \u001b[34m\u001b[1mDEBUG   \u001b[0m | \u001b[36mchatbot\u001b[0m:\u001b[36mparse_llm_json\u001b[0m:\u001b[36m57\u001b[0m - \u001b[34m\u001b[1m{\n",
      "  \"meaning\": 1\n",
      "}\u001b[0m\n",
      "\u001b[32m2024-12-19 16:41:38.810\u001b[0m | \u001b[34m\u001b[1mDEBUG   \u001b[0m | \u001b[36mchatbot\u001b[0m:\u001b[36mget_next_ai_message\u001b[0m:\u001b[36m154\u001b[0m - \u001b[34m\u001b[1mIs the conversation finished1\u001b[0m\n"
     ]
    },
    {
     "name": "stdout",
     "output_type": "stream",
     "text": [
      "Chatbot: Your order of 10 portions of Mtiuluri Khinkali, 1 portion of Lobio, 3 portions of Churchkhela from Gagimarjos was successfully received and will be delivered to you by 12:00\n"
     ]
    }
   ],
   "source": [
    "messages = initialize_messages()\n",
    "make_conversation(messages, model, client)"
   ]
  },
  {
   "cell_type": "code",
   "execution_count": null,
   "id": "84acfed0-0460-4c8c-8564-44d3f6b8716f",
   "metadata": {},
   "outputs": [],
   "source": []
  }
 ],
 "metadata": {
  "kernelspec": {
   "display_name": "food-order-chat-bot",
   "language": "python",
   "name": "food-order-chat-bot"
  },
  "language_info": {
   "codemirror_mode": {
    "name": "ipython",
    "version": 3
   },
   "file_extension": ".py",
   "mimetype": "text/x-python",
   "name": "python",
   "nbconvert_exporter": "python",
   "pygments_lexer": "ipython3",
   "version": "3.9.20"
  }
 },
 "nbformat": 4,
 "nbformat_minor": 5
}
