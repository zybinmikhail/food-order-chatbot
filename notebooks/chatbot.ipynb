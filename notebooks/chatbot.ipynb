{
 "cells": [
  {
   "cell_type": "code",
   "execution_count": null,
   "id": "1243c786-1a55-4e20-95d2-3be59d661f3b",
   "metadata": {},
   "outputs": [],
   "source": [
    "%cd ../src\n",
    "\n",
    "import openai\n",
    "import yaml\n",
    "\n",
    "from chatbot import (\n",
    "    initialize_messages,\n",
    "    make_conversation,\n",
    ")\n",
    "\n",
    "\n",
    "models = yaml.safe_load(open(\"../models.yaml\"))"
   ]
  },
  {
   "cell_type": "code",
   "execution_count": 6,
   "id": "5b11678c-d6d7-47d1-b04c-18c3dd96a043",
   "metadata": {},
   "outputs": [],
   "source": [
    "chatbot_model_dict = models[\"epam\"][\"nemotron-70b\"]\n",
    "analyzer_model_dict = models[\"epam\"][\"nemotron-70b\"]"
   ]
  },
  {
   "cell_type": "code",
   "execution_count": null,
   "id": "0a6605d2-0d68-4764-a37b-076bd489d900",
   "metadata": {},
   "outputs": [],
   "source": [
    "chatbot_client = openai.OpenAI(\n",
    "    api_key=chatbot_model_dict[\"api_key\"],\n",
    "    base_url=chatbot_model_dict[\"api_base\"],\n",
    ")\n",
    "analyzer_client = openai.OpenAI(\n",
    "    api_key=analyzer_model_dict[\"api_key\"], \n",
    "    base_url=analyzer_model_dict[\"api_base\"],\n",
    ")"
   ]
  },
  {
   "cell_type": "code",
   "execution_count": null,
   "id": "f9e56888-5416-46a9-a90c-c9380df1a7b1",
   "metadata": {},
   "outputs": [],
   "source": [
    "messages = initialize_messages()\n",
    "make_conversation(\n",
    "    messages,\n",
    "    chatbot_model_dict[\"model\"],\n",
    "    chatbot_client,\n",
    "    analyzer_model_dict[\"model\"],\n",
    "    analyzer_client,\n",
    ")"
   ]
  }
 ],
 "metadata": {
  "kernelspec": {
   "display_name": "food-order-chat-bot",
   "language": "python",
   "name": "python3"
  },
  "language_info": {
   "codemirror_mode": {
    "name": "ipython",
    "version": 3
   },
   "file_extension": ".py",
   "mimetype": "text/x-python",
   "name": "python",
   "nbconvert_exporter": "python",
   "pygments_lexer": "ipython3",
   "version": "3.9.20"
  }
 },
 "nbformat": 4,
 "nbformat_minor": 5
}
