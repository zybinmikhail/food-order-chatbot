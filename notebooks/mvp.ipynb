{
 "cells": [
  {
   "cell_type": "code",
   "execution_count": 1,
   "id": "1243c786-1a55-4e20-95d2-3be59d661f3b",
   "metadata": {},
   "outputs": [
    {
     "name": "stdout",
     "output_type": "stream",
     "text": [
      "/Users/mikhail_zybin/food-order-chat-bot/src\n"
     ]
    }
   ],
   "source": [
    "%cd ../src"
   ]
  },
  {
   "cell_type": "code",
   "execution_count": 2,
   "id": "cf7ee154-0edc-4cdb-ada0-7d2b1da0dda2",
   "metadata": {},
   "outputs": [],
   "source": [
    "import openai\n",
    "import pandas as pd"
   ]
  },
  {
   "cell_type": "code",
   "execution_count": 3,
   "id": "bbb5862c-70bb-4518-8912-6383fab8acb3",
   "metadata": {},
   "outputs": [],
   "source": [
    "from chatbot import (\n",
    "    initialize_system_prompt,\n",
    "    make_conversation,\n",
    "    initialize_messages,\n",
    ")"
   ]
  },
  {
   "cell_type": "code",
   "execution_count": 4,
   "id": "5b11678c-d6d7-47d1-b04c-18c3dd96a043",
   "metadata": {},
   "outputs": [],
   "source": [
    "api_base = \"https://llama3-1-8b-api.llm.lab.epam.com/v1\"\n",
    "model = \"meta-llama/Meta-Llama-3.1-8B-Instruct\"\n",
    "client = openai.OpenAI(api_key=\"***REMOVED***\", base_url=api_base)"
   ]
  },
  {
   "cell_type": "code",
   "execution_count": 5,
   "id": "f9e56888-5416-46a9-a90c-c9380df1a7b1",
   "metadata": {},
   "outputs": [
    {
     "name": "stdout",
     "output_type": "stream",
     "text": [
      "Chatbot: Hello, Dear Customer!\n",
      "\n",
      "I am food order chatbot! My function is to help you choose and order food from various cafes and restaurants.\n",
      "\n",
      "What would you like to eat today?\n",
      "You: "
     ]
    },
    {
     "name": "stdin",
     "output_type": "stream",
     "text": [
      " I want 3 classical cheeseburgers from Burger Shef by 3 pm today, nothing else, thank you\n"
     ]
    },
    {
     "name": "stderr",
     "output_type": "stream",
     "text": [
      "\u001b[32m2024-12-03 18:28:58.497\u001b[0m | \u001b[34m\u001b[1mDEBUG   \u001b[0m | \u001b[36mchatbot\u001b[0m:\u001b[36mget_next_ai_message\u001b[0m:\u001b[36m103\u001b[0m - \u001b[34m\u001b[1mDetermining the chosen restaurant...\u001b[0m\n",
      "\u001b[32m2024-12-03 18:29:00.812\u001b[0m | \u001b[34m\u001b[1mDEBUG   \u001b[0m | \u001b[36mchatbot\u001b[0m:\u001b[36mparse_llm_json\u001b[0m:\u001b[36m33\u001b[0m - \u001b[34m\u001b[1m{\n",
      "  \"restaurant_name\": \"Burger Shef\"\n",
      "}\u001b[0m\n",
      "\u001b[32m2024-12-03 18:29:00.814\u001b[0m | \u001b[34m\u001b[1mDEBUG   \u001b[0m | \u001b[36mchatbot\u001b[0m:\u001b[36mget_next_ai_message\u001b[0m:\u001b[36m106\u001b[0m - \u001b[34m\u001b[1mHere is the determined chosen restaurant:\u001b[0m\n",
      "\u001b[32m2024-12-03 18:29:00.815\u001b[0m | \u001b[34m\u001b[1mDEBUG   \u001b[0m | \u001b[36mchatbot\u001b[0m:\u001b[36mget_next_ai_message\u001b[0m:\u001b[36m108\u001b[0m - \u001b[34m\u001b[1mDetermining the chosen dishes...\u001b[0m\n",
      "\u001b[32m2024-12-03 18:29:02.974\u001b[0m | \u001b[34m\u001b[1mDEBUG   \u001b[0m | \u001b[36mchatbot\u001b[0m:\u001b[36mparse_llm_json\u001b[0m:\u001b[36m33\u001b[0m - \u001b[34m\u001b[1m```json\n",
      "{\n",
      "  \"dish_names\": [\"Classic Cheeseburger\"],\n",
      "  \"dish_quantities\": [3]\n",
      "}\n",
      "```\u001b[0m\n",
      "\u001b[32m2024-12-03 18:29:02.976\u001b[0m | \u001b[34m\u001b[1mDEBUG   \u001b[0m | \u001b[36mchatbot\u001b[0m:\u001b[36mget_next_ai_message\u001b[0m:\u001b[36m111\u001b[0m - \u001b[34m\u001b[1mHere are the determined dishes:\u001b[0m\n",
      "\u001b[32m2024-12-03 18:29:02.978\u001b[0m | \u001b[34m\u001b[1mDEBUG   \u001b[0m | \u001b[36mchatbot\u001b[0m:\u001b[36mget_next_ai_message\u001b[0m:\u001b[36m113\u001b[0m - \u001b[34m\u001b[1mDetermining the delivery time...\u001b[0m\n",
      "\u001b[32m2024-12-03 18:29:04.664\u001b[0m | \u001b[34m\u001b[1mDEBUG   \u001b[0m | \u001b[36mchatbot\u001b[0m:\u001b[36mparse_llm_json\u001b[0m:\u001b[36m33\u001b[0m - \u001b[34m\u001b[1m{\n",
      "  \"delivery_time\": \"3 pm today\"\n",
      "}\u001b[0m\n",
      "\u001b[32m2024-12-03 18:29:04.665\u001b[0m | \u001b[34m\u001b[1mDEBUG   \u001b[0m | \u001b[36mchatbot\u001b[0m:\u001b[36mget_next_ai_message\u001b[0m:\u001b[36m116\u001b[0m - \u001b[34m\u001b[1mHere is the delivery time:\u001b[0m\n"
     ]
    },
    {
     "name": "stdout",
     "output_type": "stream",
     "text": [
      "Chatbot: You have chosen to order 3 portions of Classic Cheeseburger from Burger Shef by 3 pm today. Is that correct?\n",
      "You: "
     ]
    },
    {
     "name": "stdin",
     "output_type": "stream",
     "text": [
      " I have changed my mind. I don't want the cheeseburgers. Please recommend Thai restaurant and spicy Thai food.\n"
     ]
    },
    {
     "name": "stderr",
     "output_type": "stream",
     "text": [
      "\u001b[32m2024-12-03 18:29:35.629\u001b[0m | \u001b[34m\u001b[1mDEBUG   \u001b[0m | \u001b[36mchatbot\u001b[0m:\u001b[36mget_next_ai_message\u001b[0m:\u001b[36m103\u001b[0m - \u001b[34m\u001b[1mDetermining the chosen restaurant...\u001b[0m\n",
      "\u001b[32m2024-12-03 18:29:37.935\u001b[0m | \u001b[34m\u001b[1mDEBUG   \u001b[0m | \u001b[36mchatbot\u001b[0m:\u001b[36mparse_llm_json\u001b[0m:\u001b[36m33\u001b[0m - \u001b[34m\u001b[1m{\n",
      "  \"restaurant_name\": \"Burger Shef\"\n",
      "}\u001b[0m\n",
      "\u001b[32m2024-12-03 18:29:37.937\u001b[0m | \u001b[34m\u001b[1mDEBUG   \u001b[0m | \u001b[36mchatbot\u001b[0m:\u001b[36mget_next_ai_message\u001b[0m:\u001b[36m106\u001b[0m - \u001b[34m\u001b[1mHere is the determined chosen restaurant:\u001b[0m\n",
      "\u001b[32m2024-12-03 18:29:37.939\u001b[0m | \u001b[34m\u001b[1mDEBUG   \u001b[0m | \u001b[36mchatbot\u001b[0m:\u001b[36mget_next_ai_message\u001b[0m:\u001b[36m108\u001b[0m - \u001b[34m\u001b[1mDetermining the chosen dishes...\u001b[0m\n",
      "\u001b[32m2024-12-03 18:29:40.111\u001b[0m | \u001b[34m\u001b[1mDEBUG   \u001b[0m | \u001b[36mchatbot\u001b[0m:\u001b[36mparse_llm_json\u001b[0m:\u001b[36m33\u001b[0m - \u001b[34m\u001b[1m```json\n",
      "{\n",
      "  \"dish_names\": [\"Chicken Satay\"],\n",
      "  \"dish_quantities\": [1]\n",
      "}\n",
      "```\u001b[0m\n",
      "\u001b[32m2024-12-03 18:29:40.114\u001b[0m | \u001b[34m\u001b[1mDEBUG   \u001b[0m | \u001b[36mchatbot\u001b[0m:\u001b[36mget_next_ai_message\u001b[0m:\u001b[36m111\u001b[0m - \u001b[34m\u001b[1mHere are the determined dishes:\u001b[0m\n",
      "\u001b[32m2024-12-03 18:29:40.115\u001b[0m | \u001b[34m\u001b[1mDEBUG   \u001b[0m | \u001b[36mchatbot\u001b[0m:\u001b[36mget_next_ai_message\u001b[0m:\u001b[36m113\u001b[0m - \u001b[34m\u001b[1mDetermining the delivery time...\u001b[0m\n",
      "\u001b[32m2024-12-03 18:29:41.818\u001b[0m | \u001b[34m\u001b[1mDEBUG   \u001b[0m | \u001b[36mchatbot\u001b[0m:\u001b[36mparse_llm_json\u001b[0m:\u001b[36m33\u001b[0m - \u001b[34m\u001b[1m{\n",
      "  \"delivery_time\": \"3 pm today\"\n",
      "}\u001b[0m\n",
      "\u001b[32m2024-12-03 18:29:41.821\u001b[0m | \u001b[34m\u001b[1mDEBUG   \u001b[0m | \u001b[36mchatbot\u001b[0m:\u001b[36mget_next_ai_message\u001b[0m:\u001b[36m116\u001b[0m - \u001b[34m\u001b[1mHere is the delivery time:\u001b[0m\n",
      "\u001b[32m2024-12-03 18:29:41.822\u001b[0m | \u001b[34m\u001b[1mDEBUG   \u001b[0m | \u001b[36mchatbot\u001b[0m:\u001b[36mget_next_ai_message\u001b[0m:\u001b[36m120\u001b[0m - \u001b[34m\u001b[1mDetermining if the order is made and confirmed\u001b[0m\n",
      "\u001b[32m2024-12-03 18:29:42.405\u001b[0m | \u001b[34m\u001b[1mDEBUG   \u001b[0m | \u001b[36mchatbot\u001b[0m:\u001b[36mparse_llm_json\u001b[0m:\u001b[36m33\u001b[0m - \u001b[34m\u001b[1m{\n",
      "  \"meaning\": 1\n",
      "}\u001b[0m\n",
      "\u001b[32m2024-12-03 18:29:42.408\u001b[0m | \u001b[34m\u001b[1mDEBUG   \u001b[0m | \u001b[36mchatbot\u001b[0m:\u001b[36mget_next_ai_message\u001b[0m:\u001b[36m123\u001b[0m - \u001b[34m\u001b[1mIs the conversation finished\u001b[0m\n"
     ]
    },
    {
     "name": "stdout",
     "output_type": "stream",
     "text": [
      "Your order of 1 portion of Chicken Satay from Burger Shef was successfully received and will be delivered to you by 3 pm today\n"
     ]
    }
   ],
   "source": [
    "messages = initialize_messages()\n",
    "make_conversation(messages, model, client)"
   ]
  }
 ],
 "metadata": {
  "kernelspec": {
   "display_name": "food-order-chat-bot",
   "language": "python",
   "name": "food-order-chat-bot"
  },
  "language_info": {
   "codemirror_mode": {
    "name": "ipython",
    "version": 3
   },
   "file_extension": ".py",
   "mimetype": "text/x-python",
   "name": "python",
   "nbconvert_exporter": "python",
   "pygments_lexer": "ipython3",
   "version": "3.9.20"
  }
 },
 "nbformat": 4,
 "nbformat_minor": 5
}
