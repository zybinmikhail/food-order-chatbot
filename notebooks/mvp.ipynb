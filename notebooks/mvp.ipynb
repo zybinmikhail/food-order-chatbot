{
 "cells": [
  {
   "cell_type": "code",
   "execution_count": 1,
   "id": "1243c786-1a55-4e20-95d2-3be59d661f3b",
   "metadata": {},
   "outputs": [
    {
     "name": "stdout",
     "output_type": "stream",
     "text": [
      "/Users/mikhail_zybin/food-order-chat-bot/src\n"
     ]
    },
    {
     "name": "stderr",
     "output_type": "stream",
     "text": [
      "/Users/mikhail_zybin/miniconda3/envs/food-order-chat-bot/lib/python3.9/site-packages/IPython/core/magics/osm.py:417: UserWarning: using dhist requires you to install the `pickleshare` library.\n",
      "  self.shell.db['dhist'] = compress_dhist(dhist)[-100:]\n"
     ]
    }
   ],
   "source": [
    "%cd ../src"
   ]
  },
  {
   "cell_type": "code",
   "execution_count": 2,
   "id": "cf7ee154-0edc-4cdb-ada0-7d2b1da0dda2",
   "metadata": {},
   "outputs": [],
   "source": [
    "import openai\n",
    "import pandas as pd"
   ]
  },
  {
   "cell_type": "code",
   "execution_count": 3,
   "id": "bbb5862c-70bb-4518-8912-6383fab8acb3",
   "metadata": {},
   "outputs": [],
   "source": [
    "from chatbot import (\n",
    "    initialize_system_prompt,\n",
    "    make_conversation,\n",
    "    initialize_messages,\n",
    ")"
   ]
  },
  {
   "cell_type": "code",
   "execution_count": 6,
   "id": "5b11678c-d6d7-47d1-b04c-18c3dd96a043",
   "metadata": {},
   "outputs": [],
   "source": [
    "api_base = \"https://llama3-1-8b-api.llm.lab.epam.com/v1\"\n",
    "model = \"meta-llama/Meta-Llama-3.1-8B-Instruct\"\n",
    "client = openai.OpenAI(api_key=\"***REMOVED***\", base_url=api_base)"
   ]
  },
  {
   "cell_type": "code",
   "execution_count": 7,
   "id": "f9e56888-5416-46a9-a90c-c9380df1a7b1",
   "metadata": {},
   "outputs": [
    {
     "name": "stdout",
     "output_type": "stream",
     "text": [
      "Chatbot: Hello, Dear Customer!\n",
      "\n",
      "I am food order chatbot! My function is to help you choose and order food from various cafes and restaurants.\n",
      "\n",
      "What would you like to eat today?\n",
      "You: "
     ]
    },
    {
     "name": "stdin",
     "output_type": "stream",
     "text": [
      " khinkali\n"
     ]
    },
    {
     "name": "stderr",
     "output_type": "stream",
     "text": [
      "\u001b[32m2024-11-19 17:11:08.548\u001b[0m | \u001b[34m\u001b[1mDEBUG   \u001b[0m | \u001b[36mchatbot\u001b[0m:\u001b[36mget_next_ai_message\u001b[0m:\u001b[36m54\u001b[0m - \u001b[34m\u001b[1mDetermining the chosen restaurant...\u001b[0m\n",
      "\u001b[32m2024-11-19 17:11:12.562\u001b[0m | \u001b[34m\u001b[1mDEBUG   \u001b[0m | \u001b[36mchatbot\u001b[0m:\u001b[36mparse_llm_json\u001b[0m:\u001b[36m32\u001b[0m - \u001b[34m\u001b[1m```json\n",
      "{\n",
      "  \"restaurant_name\": \"\"\n",
      "}\n",
      "```\n",
      "\n",
      "The user has not chosen a restaurant yet. They have only mentioned a dish, \"khinkali\", which is available at Gagimarjos. However, the user has not confirmed that they want to order from Gagimarjos.\u001b[0m\n",
      "\u001b[32m2024-11-19 17:11:12.564\u001b[0m | \u001b[34m\u001b[1mDEBUG   \u001b[0m | \u001b[36mchatbot\u001b[0m:\u001b[36mget_next_ai_message\u001b[0m:\u001b[36m57\u001b[0m - \u001b[34m\u001b[1mHere is the determined chosen restaurant:\u001b[0m\n",
      "\u001b[32m2024-11-19 17:11:12.565\u001b[0m | \u001b[34m\u001b[1mDEBUG   \u001b[0m | \u001b[36mchatbot\u001b[0m:\u001b[36mget_next_ai_message\u001b[0m:\u001b[36m59\u001b[0m - \u001b[34m\u001b[1mDetermining the chosen dishes...\u001b[0m\n",
      "\u001b[32m2024-11-19 17:11:14.106\u001b[0m | \u001b[34m\u001b[1mDEBUG   \u001b[0m | \u001b[36mchatbot\u001b[0m:\u001b[36mparse_llm_json\u001b[0m:\u001b[36m32\u001b[0m - \u001b[34m\u001b[1m{\n",
      "  \"dishes\": \"\"\n",
      "}\u001b[0m\n",
      "\u001b[32m2024-11-19 17:11:14.109\u001b[0m | \u001b[34m\u001b[1mDEBUG   \u001b[0m | \u001b[36mchatbot\u001b[0m:\u001b[36mget_next_ai_message\u001b[0m:\u001b[36m62\u001b[0m - \u001b[34m\u001b[1mHere are the determined dishes:\u001b[0m\n",
      "\u001b[32m2024-11-19 17:11:14.109\u001b[0m | \u001b[34m\u001b[1mDEBUG   \u001b[0m | \u001b[36mchatbot\u001b[0m:\u001b[36mget_next_ai_message\u001b[0m:\u001b[36m64\u001b[0m - \u001b[34m\u001b[1mDetermining the delivery time...\u001b[0m\n",
      "\u001b[32m2024-11-19 17:11:16.462\u001b[0m | \u001b[34m\u001b[1mDEBUG   \u001b[0m | \u001b[36mchatbot\u001b[0m:\u001b[36mparse_llm_json\u001b[0m:\u001b[36m32\u001b[0m - \u001b[34m\u001b[1m```json\n",
      "{\n",
      "  \"delivery_time\": \"\"\n",
      "}\n",
      "```\n",
      "\n",
      "The user has not provided the chatbot with the information about what delivery time they have chosen.\u001b[0m\n",
      "\u001b[32m2024-11-19 17:11:16.465\u001b[0m | \u001b[34m\u001b[1mDEBUG   \u001b[0m | \u001b[36mchatbot\u001b[0m:\u001b[36mget_next_ai_message\u001b[0m:\u001b[36m67\u001b[0m - \u001b[34m\u001b[1mHere is the delivery time:\u001b[0m\n"
     ]
    },
    {
     "name": "stdout",
     "output_type": "stream",
     "text": [
      "Chatbot: Khinkali is a traditional Georgian dish. I see that Gagimarjos restaurant serves Khinkali. Would you like to order from Gagimarjos?\n",
      "\n",
      "Here is their menu:\n",
      "\n",
      "Khinkali - Juicy dumplings filled with spiced meat or vegetables - $8.99\n",
      "Adjaruli Khachapuri - Boat-shaped bread filled with cheese, butter, and egg - $14.99\n",
      "Mtsvadi - Grilled skewers of marinated meat (pork, beef, or chicken) - $11.99\n",
      "Lobio - Spicy bean stew with herbs and spices - $9.99\n",
      "Chakapuli - Lamb stew with tarragon, onions, and white wine - $15.99\n",
      "Badrijani Nigvzit - Eggplant rolls filled with walnut paste and pomegranate seeds - $10.99\n",
      "Pkhali - Vegetable or meat patties with walnut and garlic sauce - $8.99\n",
      "Churchkhela - Walnut and grape juice candy on a string - $5.99\n",
      "\n",
      "Would you like to order Khinkali from Gagimarjos?\n",
      "You: "
     ]
    },
    {
     "name": "stdin",
     "output_type": "stream",
     "text": [
      " yes, 10 khinkali by 12:00\n"
     ]
    },
    {
     "name": "stderr",
     "output_type": "stream",
     "text": [
      "\u001b[32m2024-11-19 17:19:27.896\u001b[0m | \u001b[34m\u001b[1mDEBUG   \u001b[0m | \u001b[36mchatbot\u001b[0m:\u001b[36mget_next_ai_message\u001b[0m:\u001b[36m54\u001b[0m - \u001b[34m\u001b[1mDetermining the chosen restaurant...\u001b[0m\n",
      "\u001b[32m2024-11-19 17:19:30.524\u001b[0m | \u001b[34m\u001b[1mDEBUG   \u001b[0m | \u001b[36mchatbot\u001b[0m:\u001b[36mparse_llm_json\u001b[0m:\u001b[36m32\u001b[0m - \u001b[34m\u001b[1m```json\n",
      "{\n",
      "  \"restaurant_name\": \"Gagimarjos\"\n",
      "}\n",
      "```\u001b[0m\n",
      "\u001b[32m2024-11-19 17:19:30.528\u001b[0m | \u001b[34m\u001b[1mDEBUG   \u001b[0m | \u001b[36mchatbot\u001b[0m:\u001b[36mget_next_ai_message\u001b[0m:\u001b[36m57\u001b[0m - \u001b[34m\u001b[1mHere is the determined chosen restaurant:\u001b[0m\n",
      "\u001b[32m2024-11-19 17:19:30.529\u001b[0m | \u001b[34m\u001b[1mDEBUG   \u001b[0m | \u001b[36mchatbot\u001b[0m:\u001b[36mget_next_ai_message\u001b[0m:\u001b[36m59\u001b[0m - \u001b[34m\u001b[1mDetermining the chosen dishes...\u001b[0m\n",
      "\u001b[32m2024-11-19 17:19:32.409\u001b[0m | \u001b[34m\u001b[1mDEBUG   \u001b[0m | \u001b[36mchatbot\u001b[0m:\u001b[36mparse_llm_json\u001b[0m:\u001b[36m32\u001b[0m - \u001b[34m\u001b[1m```json\n",
      "{\n",
      "  \"dishes\": \"Khinkali\"\n",
      "}\n",
      "```\u001b[0m\n",
      "\u001b[32m2024-11-19 17:19:32.412\u001b[0m | \u001b[34m\u001b[1mDEBUG   \u001b[0m | \u001b[36mchatbot\u001b[0m:\u001b[36mget_next_ai_message\u001b[0m:\u001b[36m62\u001b[0m - \u001b[34m\u001b[1mHere are the determined dishes:\u001b[0m\n",
      "\u001b[32m2024-11-19 17:19:32.413\u001b[0m | \u001b[34m\u001b[1mDEBUG   \u001b[0m | \u001b[36mchatbot\u001b[0m:\u001b[36mget_next_ai_message\u001b[0m:\u001b[36m64\u001b[0m - \u001b[34m\u001b[1mDetermining the delivery time...\u001b[0m\n",
      "\u001b[32m2024-11-19 17:19:34.997\u001b[0m | \u001b[34m\u001b[1mDEBUG   \u001b[0m | \u001b[36mchatbot\u001b[0m:\u001b[36mparse_llm_json\u001b[0m:\u001b[36m32\u001b[0m - \u001b[34m\u001b[1m```json\n",
      "{\n",
      "  \"delivery_time\": \"12:00\"\n",
      "}\n",
      "```\n",
      "\n",
      "The user has chosen the delivery time as \"by 12:00\" in their last message.\u001b[0m\n",
      "\u001b[32m2024-11-19 17:19:35.001\u001b[0m | \u001b[34m\u001b[1mDEBUG   \u001b[0m | \u001b[36mchatbot\u001b[0m:\u001b[36mget_next_ai_message\u001b[0m:\u001b[36m67\u001b[0m - \u001b[34m\u001b[1mHere is the delivery time:\u001b[0m\n"
     ]
    },
    {
     "name": "stdout",
     "output_type": "stream",
     "text": [
      "Chatbot: You have chosen to order Khinkali from Gagimarjos by 12:00. Is that correct? If so, please type 'I confirm' and our conversation will be over.\n",
      "You: "
     ]
    },
    {
     "name": "stdin",
     "output_type": "stream",
     "text": [
      " I also want 3 Churchkhela\n"
     ]
    },
    {
     "name": "stderr",
     "output_type": "stream",
     "text": [
      "\u001b[32m2024-11-19 17:19:52.742\u001b[0m | \u001b[34m\u001b[1mDEBUG   \u001b[0m | \u001b[36mchatbot\u001b[0m:\u001b[36mget_next_ai_message\u001b[0m:\u001b[36m54\u001b[0m - \u001b[34m\u001b[1mDetermining the chosen restaurant...\u001b[0m\n",
      "\u001b[32m2024-11-19 17:19:55.261\u001b[0m | \u001b[34m\u001b[1mDEBUG   \u001b[0m | \u001b[36mchatbot\u001b[0m:\u001b[36mparse_llm_json\u001b[0m:\u001b[36m32\u001b[0m - \u001b[34m\u001b[1m```json\n",
      "{\n",
      "  \"restaurant_name\": \"Gagimarjos\"\n",
      "}\n",
      "```\u001b[0m\n",
      "\u001b[32m2024-11-19 17:19:55.264\u001b[0m | \u001b[34m\u001b[1mDEBUG   \u001b[0m | \u001b[36mchatbot\u001b[0m:\u001b[36mget_next_ai_message\u001b[0m:\u001b[36m57\u001b[0m - \u001b[34m\u001b[1mHere is the determined chosen restaurant:\u001b[0m\n",
      "\u001b[32m2024-11-19 17:19:55.265\u001b[0m | \u001b[34m\u001b[1mDEBUG   \u001b[0m | \u001b[36mchatbot\u001b[0m:\u001b[36mget_next_ai_message\u001b[0m:\u001b[36m59\u001b[0m - \u001b[34m\u001b[1mDetermining the chosen dishes...\u001b[0m\n",
      "\u001b[32m2024-11-19 17:19:57.146\u001b[0m | \u001b[34m\u001b[1mDEBUG   \u001b[0m | \u001b[36mchatbot\u001b[0m:\u001b[36mparse_llm_json\u001b[0m:\u001b[36m32\u001b[0m - \u001b[34m\u001b[1m{\n",
      "  \"dishes\": \"Khinkali, Churchkhela\"\n",
      "}\u001b[0m\n",
      "\u001b[32m2024-11-19 17:19:57.149\u001b[0m | \u001b[34m\u001b[1mDEBUG   \u001b[0m | \u001b[36mchatbot\u001b[0m:\u001b[36mget_next_ai_message\u001b[0m:\u001b[36m62\u001b[0m - \u001b[34m\u001b[1mHere are the determined dishes:\u001b[0m\n",
      "\u001b[32m2024-11-19 17:19:57.150\u001b[0m | \u001b[34m\u001b[1mDEBUG   \u001b[0m | \u001b[36mchatbot\u001b[0m:\u001b[36mget_next_ai_message\u001b[0m:\u001b[36m64\u001b[0m - \u001b[34m\u001b[1mDetermining the delivery time...\u001b[0m\n",
      "\u001b[32m2024-11-19 17:19:59.749\u001b[0m | \u001b[34m\u001b[1mDEBUG   \u001b[0m | \u001b[36mchatbot\u001b[0m:\u001b[36mparse_llm_json\u001b[0m:\u001b[36m32\u001b[0m - \u001b[34m\u001b[1m```json\n",
      "{\n",
      "  \"delivery_time\": \"12:00\"\n",
      "}\n",
      "```\n",
      "\n",
      "The user has chosen the delivery time as \"by 12:00\" in their last message.\u001b[0m\n",
      "\u001b[32m2024-11-19 17:19:59.752\u001b[0m | \u001b[34m\u001b[1mDEBUG   \u001b[0m | \u001b[36mchatbot\u001b[0m:\u001b[36mget_next_ai_message\u001b[0m:\u001b[36m67\u001b[0m - \u001b[34m\u001b[1mHere is the delivery time:\u001b[0m\n"
     ]
    },
    {
     "name": "stdout",
     "output_type": "stream",
     "text": [
      "Chatbot: You have chosen to order Khinkali, Churchkhela from Gagimarjos by 12:00. Is that correct? If so, please type 'I confirm' and our conversation will be over.\n",
      "You: "
     ]
    },
    {
     "name": "stdin",
     "output_type": "stream",
     "text": [
      " remove Khinkali and add lobio\n"
     ]
    },
    {
     "name": "stderr",
     "output_type": "stream",
     "text": [
      "\u001b[32m2024-11-19 17:20:17.611\u001b[0m | \u001b[34m\u001b[1mDEBUG   \u001b[0m | \u001b[36mchatbot\u001b[0m:\u001b[36mget_next_ai_message\u001b[0m:\u001b[36m54\u001b[0m - \u001b[34m\u001b[1mDetermining the chosen restaurant...\u001b[0m\n",
      "\u001b[32m2024-11-19 17:20:22.730\u001b[0m | \u001b[34m\u001b[1mDEBUG   \u001b[0m | \u001b[36mchatbot\u001b[0m:\u001b[36mparse_llm_json\u001b[0m:\u001b[36m32\u001b[0m - \u001b[34m\u001b[1m```json\n",
      "{\n",
      "  \"restaurant_name\": \"Gagimarjos\"\n",
      "}\n",
      "```\n",
      "\n",
      "The user has chosen to order Khinkali from Gagimarjos by 12:00. Then they added Churchkhela to the order. Later, they removed Khinkali and added Lobio to the order. Since Khinkali and Lobio are both from Gagimarjos, the user has chosen Gagimarjos as the restaurant for their order.\u001b[0m\n",
      "\u001b[32m2024-11-19 17:20:22.733\u001b[0m | \u001b[34m\u001b[1mDEBUG   \u001b[0m | \u001b[36mchatbot\u001b[0m:\u001b[36mget_next_ai_message\u001b[0m:\u001b[36m57\u001b[0m - \u001b[34m\u001b[1mHere is the determined chosen restaurant:\u001b[0m\n",
      "\u001b[32m2024-11-19 17:20:22.734\u001b[0m | \u001b[34m\u001b[1mDEBUG   \u001b[0m | \u001b[36mchatbot\u001b[0m:\u001b[36mget_next_ai_message\u001b[0m:\u001b[36m59\u001b[0m - \u001b[34m\u001b[1mDetermining the chosen dishes...\u001b[0m\n",
      "\u001b[32m2024-11-19 17:20:24.730\u001b[0m | \u001b[34m\u001b[1mDEBUG   \u001b[0m | \u001b[36mchatbot\u001b[0m:\u001b[36mparse_llm_json\u001b[0m:\u001b[36m32\u001b[0m - \u001b[34m\u001b[1m{\n",
      "  \"dishes\": \"Khinkali, Churchkhela, Lobio\"\n",
      "}\u001b[0m\n",
      "\u001b[32m2024-11-19 17:20:24.751\u001b[0m | \u001b[34m\u001b[1mDEBUG   \u001b[0m | \u001b[36mchatbot\u001b[0m:\u001b[36mget_next_ai_message\u001b[0m:\u001b[36m62\u001b[0m - \u001b[34m\u001b[1mHere are the determined dishes:\u001b[0m\n",
      "\u001b[32m2024-11-19 17:20:24.760\u001b[0m | \u001b[34m\u001b[1mDEBUG   \u001b[0m | \u001b[36mchatbot\u001b[0m:\u001b[36mget_next_ai_message\u001b[0m:\u001b[36m64\u001b[0m - \u001b[34m\u001b[1mDetermining the delivery time...\u001b[0m\n",
      "\u001b[32m2024-11-19 17:20:27.296\u001b[0m | \u001b[34m\u001b[1mDEBUG   \u001b[0m | \u001b[36mchatbot\u001b[0m:\u001b[36mparse_llm_json\u001b[0m:\u001b[36m32\u001b[0m - \u001b[34m\u001b[1m```json\n",
      "{\n",
      "  \"delivery_time\": \"12:00\"\n",
      "}\n",
      "```\n",
      "\n",
      "The user has chosen the delivery time as \"12:00\" in their second message.\u001b[0m\n",
      "\u001b[32m2024-11-19 17:20:27.298\u001b[0m | \u001b[34m\u001b[1mDEBUG   \u001b[0m | \u001b[36mchatbot\u001b[0m:\u001b[36mget_next_ai_message\u001b[0m:\u001b[36m67\u001b[0m - \u001b[34m\u001b[1mHere is the delivery time:\u001b[0m\n"
     ]
    },
    {
     "name": "stdout",
     "output_type": "stream",
     "text": [
      "Chatbot: You have chosen to order Khinkali, Churchkhela, Lobio from Gagimarjos by 12:00. Is that correct? If so, please type 'I confirm' and our conversation will be over.\n",
      "You: "
     ]
    },
    {
     "name": "stdin",
     "output_type": "stream",
     "text": [
      " I confirm\n"
     ]
    },
    {
     "name": "stdout",
     "output_type": "stream",
     "text": [
      "Chatbot: Great! Have a nice meal, our conversation is over.\n"
     ]
    }
   ],
   "source": [
    "messages = initialize_messages()\n",
    "make_conversation(messages, model, client)"
   ]
  },
  {
   "cell_type": "code",
   "execution_count": null,
   "id": "51c989c5-be83-44e9-b67d-d0c7fd1a695c",
   "metadata": {},
   "outputs": [],
   "source": []
  }
 ],
 "metadata": {
  "kernelspec": {
   "display_name": "food-order-chat-bot",
   "language": "python",
   "name": "food-order-chat-bot"
  },
  "language_info": {
   "codemirror_mode": {
    "name": "ipython",
    "version": 3
   },
   "file_extension": ".py",
   "mimetype": "text/x-python",
   "name": "python",
   "nbconvert_exporter": "python",
   "pygments_lexer": "ipython3",
   "version": "3.9.20"
  }
 },
 "nbformat": 4,
 "nbformat_minor": 5
}
