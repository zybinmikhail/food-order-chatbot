{
 "cells": [
  {
   "cell_type": "code",
   "execution_count": 1,
   "id": "cf7ee154-0edc-4cdb-ada0-7d2b1da0dda2",
   "metadata": {},
   "outputs": [],
   "source": [
    "import openai\n",
    "import pandas as pd\n",
    "import sys\n",
    "\n",
    "sys.path.append(\"../prompts\")\n",
    "\n",
    "from intermediate_prompts import (\n",
    "    ask_for_restaurant,\n",
    "    ask_for_dishes,\n",
    "    ask_for_delivery_time, \n",
    "    ask_is_finished, \n",
    "    greeting\n",
    ")"
   ]
  },
  {
   "cell_type": "code",
   "execution_count": 2,
   "id": "bbb5862c-70bb-4518-8912-6383fab8acb3",
   "metadata": {},
   "outputs": [],
   "source": [
    "def analyze_conversation(template: str, messages: list[dict[str, str]]) -> str:\n",
    "    generator = client.chat.completions.create(\n",
    "        model=model,\n",
    "        messages=[\n",
    "            {\"role\": \"user\", \"content\": template.format(str(messages))}\n",
    "        ],\n",
    "        temperature=0.1,\n",
    "    )\n",
    "    return generator.choices[0].message.content\n",
    "\n",
    "\n",
    "def parse_llm_json(llm_response: str) -> str:\n",
    "    print(llm_response)\n",
    "    if \"{\" not in llm_response:\n",
    "        llm_response = \"{\" + llm_response\n",
    "    if \"}\" not in llm_response:\n",
    "        llm_response = \"}\" + llm_response\n",
    "    llm_response = llm_response[llm_response.find(\"{\") : llm_response.find(\"}\") + 1]\n",
    "    llm_response = eval(llm_response)\n",
    "    return list(llm_response.values())[0]\n",
    "\n",
    "\n",
    "def order(restaurant_name: str, dishes_list: list[str], delivery_time: str) -> None:\n",
    "    order_template = \"Your order of {} from {} was successfully received and will be delivered to you by {}\"\n",
    "    print(order_template.format(\", \".join(dishes_list), restaurant_name, delivery_time))"
   ]
  },
  {
   "cell_type": "code",
   "execution_count": 3,
   "id": "5b11678c-d6d7-47d1-b04c-18c3dd96a043",
   "metadata": {},
   "outputs": [],
   "source": [
    "openai.api_key = \"***REMOVED***\"\n",
    "api_base = \"https://llama3-1-8b-api.llm.lab.epam.com/v1\"\n",
    "model = \"meta-llama/Meta-Llama-3.1-8B-Instruct\""
   ]
  },
  {
   "cell_type": "code",
   "execution_count": 4,
   "id": "4e957a9a-2b6a-4f51-b0f7-58f5614be19b",
   "metadata": {},
   "outputs": [],
   "source": [
    "# Prepare the system prompt\n",
    "with open(\"../prompts/system_prompt.txt\") as fin:\n",
    "    system_prompt = fin.read()\n",
    "descriptions = pd.read_csv(\"../data/restaurants.csv\", sep=\";\")\n",
    "restaurant_names = set(descriptions.name)\n",
    "system_prompt = system_prompt.format(descriptions.to_markdown())\n",
    "menus = []\n",
    "for name in restaurant_names:\n",
    "    menus.append(name)\n",
    "    menus.append(pd.read_csv(f\"../data/{name}.csv\", sep=\";\").to_markdown())\n",
    "menus_string = \"\\n\".join(menus)\n",
    "system_prompt = system_prompt.format(menus_string)"
   ]
  },
  {
   "cell_type": "code",
   "execution_count": 5,
   "id": "70967929-72ea-4b5a-93d5-807b81e578f4",
   "metadata": {},
   "outputs": [],
   "source": [
    "messages = [\n",
    "    {\"role\": \"system\", \"content\": system_prompt},\n",
    "    {\"role\": \"user\", \"content\": \"Please help me to order food\"},\n",
    "    {\"role\": \"assistant\", \"content\": greeting}\n",
    "]"
   ]
  },
  {
   "cell_type": "code",
   "execution_count": 6,
   "id": "7c9a235f-b39e-4244-996c-13945e2d593e",
   "metadata": {},
   "outputs": [
    {
     "name": "stdout",
     "output_type": "stream",
     "text": [
      "Hello, dear Customer!\n",
      "\n",
      "I am food order chat bot! My function is to help you choose and order food from various cafes and restaurants.\n",
      "\n",
      "What would you like to eat today?\n"
     ]
    },
    {
     "name": "stdin",
     "output_type": "stream",
     "text": [
      " I want some salad. What can you offer?\n"
     ]
    },
    {
     "name": "stdout",
     "output_type": "stream",
     "text": [
      "Determining the chosen restaurant...\n",
      "{\n",
      "  \"restaurant_name\": \"\"\n",
      "}\n",
      "Here is the determined chosen restaurant: \n",
      "\n",
      "Determining the chosen dishes...\n",
      "{\n",
      "  \"dishes\": \"\"\n",
      "}\n",
      "Here are the determined dishes: \n",
      "\n",
      "Determining the delivery time...\n",
      "```json\n",
      "{\n",
      "  \"delivery_time\": \"\"\n",
      "}\n",
      "```\n",
      "\n",
      "The user has not provided any information about the delivery time yet.\n",
      "Here is the delivery time: \n",
      "\n",
      "--------------------AI Reply--------------------\n",
      "I can offer you a variety of salads from different restaurants.\n",
      "\n",
      "However, I don't see specific salad dishes in the menus provided. There are some salad-like dishes, such as the Caprese Salad from Roman Holiday and Som Tum (Papaya Salad) from Sukhothai. Would you like me to recommend these dishes, or would you like to look at their menus for more options?\n",
      "\n",
      "Alternatively, if you could give me more specific information about what kind of salad you would like (e.g. vegetarian, with chicken, with specific ingredients), I may be able to help you find a better match.\n"
     ]
    },
    {
     "name": "stdin",
     "output_type": "stream",
     "text": [
      " Do you have salad with chicken?\n"
     ]
    },
    {
     "name": "stdout",
     "output_type": "stream",
     "text": [
      "Determining the chosen restaurant...\n",
      "{\n",
      "  \"restaurant_name\": \"\"\n",
      "}\n",
      "Here is the determined chosen restaurant: \n",
      "\n",
      "Determining the chosen dishes...\n",
      "{\n",
      "  \"dishes\": \"\"\n",
      "}\n",
      "Here are the determined dishes: \n",
      "\n",
      "Determining the delivery time...\n",
      "{\n",
      "  \"delivery_time\": \"\"\n",
      "}\n",
      "Here is the delivery time: \n",
      "\n",
      "--------------------AI Reply--------------------\n",
      "While I don't see a specific salad dish with chicken in the menus provided, I can suggest a few options from different restaurants.\n",
      "\n",
      "From Sukhothai, you could try the Som Tum (Papaya Salad), which is a Thai-style salad, but it doesn't have chicken. However, it's worth noting that you could ask for chicken to be added to the dish.\n",
      "\n",
      "From Roman Holiday, you could try the Caprese Salad, which is a classic Italian salad made with tomatoes, mozzarella cheese, and basil. This salad doesn't have chicken either, but it's a great option if you're looking for something light and fresh.\n",
      "\n",
      "If you're interested in trying a salad with chicken, I would recommend looking at the menu for Nippon or Burger Shef. Nippon has a Bowl dish called \"Teriyaki Chicken\" which comes with steamed rice and vegetables, but not as a salad. Burger Shef has a few options, including the Chicken Satay, which is a grilled marinated chicken skewer served with peanut sauce and cucumber salad.\n",
      "\n",
      "Would you like me to suggest a restaurant for you to order from, or would you like to explore more options?\n"
     ]
    },
    {
     "name": "stdin",
     "output_type": "stream",
     "text": [
      " I want to order Caprese Salad from Roman Holiday by 16:00 please\n"
     ]
    },
    {
     "name": "stdout",
     "output_type": "stream",
     "text": [
      "Determining the chosen restaurant...\n",
      "```json\n",
      "{\n",
      "  \"restaurant_name\": \"\"\n",
      "}\n",
      "```\n",
      "\n",
      "The user has not chosen a restaurant during the conversation. They have only mentioned the dishes they are interested in, but not the restaurant they want to order from.\n",
      "Here is the determined chosen restaurant: \n",
      "\n",
      "Determining the chosen dishes...\n",
      "{\n",
      "  \"dishes\": \"Caprese Salad\"\n",
      "}\n",
      "Here are the determined dishes: Caprese Salad\n",
      "\n",
      "Determining the delivery time...\n",
      "```json\n",
      "{\n",
      "  \"delivery_time\": \"16:00\"\n",
      "}\n",
      "```\n",
      "Here is the delivery time: 16:00\n",
      "\n",
      "--------------------AI Reply--------------------\n",
      "The Caprese Salad from Roman Holiday is a delicious and classic Italian dish, made with fresh tomatoes, mozzarella cheese, and basil.\n",
      "\n",
      "To confirm, you would like to order the Caprese Salad from Roman Holiday and have it delivered to you by 16:00. Is that correct?\n",
      "\n",
      "Also, would you like to order any drinks or desserts to go along with your meal, or is it just the Caprese Salad for now?\n"
     ]
    },
    {
     "name": "stdin",
     "output_type": "stream",
     "text": [
      " This is correct. Just the salad.\n"
     ]
    },
    {
     "name": "stdout",
     "output_type": "stream",
     "text": [
      "Determining the chosen restaurant...\n",
      "```json\n",
      "{\n",
      "  \"restaurant_name\": \"Roman Holiday\"\n",
      "}\n",
      "```\n",
      "Here is the determined chosen restaurant: Roman Holiday\n",
      "\n",
      "Determining the chosen dishes...\n",
      "{\n",
      "  \"dishes\": \"Caprese Salad\"\n",
      "}\n",
      "Here are the determined dishes: Caprese Salad\n",
      "\n",
      "Determining the delivery time...\n",
      "```json\n",
      "{\n",
      "  \"delivery_time\": \"16:00\"\n",
      "}\n",
      "```\n",
      "Here is the delivery time: 16:00\n",
      "\n",
      "--------------------AI Reply--------------------\n",
      "You have chosen to order Caprese Salad from Roman Holiday by 16:00. Is that correct? If so, please type 'I confirm' and our conversation will be over.\n"
     ]
    },
    {
     "name": "stdin",
     "output_type": "stream",
     "text": [
      " I confirm\n"
     ]
    },
    {
     "name": "stdout",
     "output_type": "stream",
     "text": [
      "Great! Have a nice meal, our conversation is over.\n"
     ]
    }
   ],
   "source": [
    "client = openai.OpenAI(api_key=\"***REMOVED***\", base_url=api_base)\n",
    "information_received = False\n",
    "print(greeting)\n",
    "while True:\n",
    "    human_message = input()\n",
    "    if human_message == \"I confirm\":\n",
    "        print(\"Great! Have a nice meal, our conversation is over.\")\n",
    "        break\n",
    "    messages.append({\"role\": \"user\", \"content\": human_message})\n",
    "\n",
    "    print(\"Determining the chosen restaurant...\")\n",
    "    current_chosen_restaurant_json = analyze_conversation(ask_for_restaurant, messages)\n",
    "    current_chosen_restaurant = parse_llm_json(current_chosen_restaurant_json)\n",
    "    print(\"Here is the determined chosen restaurant:\", current_chosen_restaurant)\n",
    "    print()\n",
    "    \n",
    "    print(\"Determining the chosen dishes...\")\n",
    "    current_chosen_dishes_json = analyze_conversation(ask_for_dishes, messages)\n",
    "    current_chosen_dishes = parse_llm_json(current_chosen_dishes_json)\n",
    "    print(\"Here are the determined dishes:\", current_chosen_dishes)\n",
    "    print()\n",
    "    \n",
    "    print(\"Determining the delivery time...\")\n",
    "    current_delivery_time_json = analyze_conversation(ask_for_delivery_time, messages)\n",
    "    current_delivery_time = parse_llm_json(current_delivery_time_json)\n",
    "    print(\"Here is the delivery time:\", current_delivery_time)\n",
    "    print()\n",
    "\n",
    "    if current_chosen_restaurant and current_chosen_dishes and current_delivery_time:\n",
    "        information_received = True\n",
    "        ai_reply = \"You have chosen to order {} from {} by {}. Is that correct? If so, please type 'I confirm' and our conversation will be over.\"\n",
    "        ai_reply = ai_reply.format(current_chosen_dishes, current_chosen_restaurant, current_delivery_time)\n",
    "    else:\n",
    "        \n",
    "        # is_finished_flag = analyze_conversation(ask_is_finished, messages)\n",
    "        # if is_finished_flag == \"Yes\":\n",
    "        #     order(current_chosen_restaurant, current_chosen_dishes, current_delivery_time)\n",
    "        #     break\n",
    "    \n",
    "        ai_reply_generator = client.chat.completions.create(\n",
    "            model=model,\n",
    "            messages=messages,\n",
    "            max_tokens=None,\n",
    "        )\n",
    "        ai_reply = ai_reply_generator.choices[0].message.content\n",
    "    print(\"-\" * 20 + \"AI Reply\" + \"-\" * 20)\n",
    "    print(ai_reply)\n",
    "    messages.append({\"role\": \"assistant\", \"content\": ai_reply})\n",
    "    "
   ]
  }
 ],
 "metadata": {
  "kernelspec": {
   "display_name": "food-order-chat-bot",
   "language": "python",
   "name": "food-order-chat-bot"
  },
  "language_info": {
   "codemirror_mode": {
    "name": "ipython",
    "version": 3
   },
   "file_extension": ".py",
   "mimetype": "text/x-python",
   "name": "python",
   "nbconvert_exporter": "python",
   "pygments_lexer": "ipython3",
   "version": "3.9.20"
  }
 },
 "nbformat": 4,
 "nbformat_minor": 5
}
