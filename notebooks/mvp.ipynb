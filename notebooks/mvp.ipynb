{
 "cells": [
  {
   "cell_type": "code",
   "execution_count": 1,
   "id": "1243c786-1a55-4e20-95d2-3be59d661f3b",
   "metadata": {},
   "outputs": [
    {
     "name": "stdout",
     "output_type": "stream",
     "text": [
      "/Users/mikhail_zybin/food-order-chat-bot/src\n"
     ]
    }
   ],
   "source": [
    "%cd ../src"
   ]
  },
  {
   "cell_type": "code",
   "execution_count": 2,
   "id": "cf7ee154-0edc-4cdb-ada0-7d2b1da0dda2",
   "metadata": {},
   "outputs": [],
   "source": [
    "import openai\n",
    "import pandas as pd"
   ]
  },
  {
   "cell_type": "code",
   "execution_count": 3,
   "id": "bbb5862c-70bb-4518-8912-6383fab8acb3",
   "metadata": {},
   "outputs": [],
   "source": [
    "from chatbot import (\n",
    "    initialize_system_prompt,\n",
    "    make_conversation,\n",
    "    initialize_messages,\n",
    ")"
   ]
  },
  {
   "cell_type": "code",
   "execution_count": 4,
   "id": "5b11678c-d6d7-47d1-b04c-18c3dd96a043",
   "metadata": {},
   "outputs": [],
   "source": [
    "api_base = \"https://llama3-1-8b-api.llm.lab.epam.com/v1\"\n",
    "model = \"meta-llama/Meta-Llama-3.1-8B-Instruct\"\n",
    "client = openai.OpenAI(api_key=\"***REMOVED***\", base_url=api_base)"
   ]
  },
  {
   "cell_type": "code",
   "execution_count": 5,
   "id": "f9e56888-5416-46a9-a90c-c9380df1a7b1",
   "metadata": {},
   "outputs": [
    {
     "name": "stdout",
     "output_type": "stream",
     "text": [
      "Chatbot: Hello, Dear Customer!\n",
      "\n",
      "I am food order chatbot! My function is to help you choose and order food from various cafes and restaurants.\n",
      "\n",
      "What would you like to eat today?\n",
      "You: "
     ]
    },
    {
     "name": "stdin",
     "output_type": "stream",
     "text": [
      " 3 churchkhela and 1 lobio by 1 pm, nothing else, thanks\n"
     ]
    },
    {
     "name": "stderr",
     "output_type": "stream",
     "text": [
      "\u001b[32m2024-12-16 14:13:29.870\u001b[0m | \u001b[34m\u001b[1mDEBUG   \u001b[0m | \u001b[36mchatbot\u001b[0m:\u001b[36mparse_llm_json\u001b[0m:\u001b[36m48\u001b[0m - \u001b[34m\u001b[1mBased on the conversation between the chatbot and the user, the user has chosen to order 3 Churchkhela and 1 Lobio by 1 pm. \n",
      "\n",
      "The user has not chosen a specific restaurant yet. However, based on the dishes they have chosen, we can infer that they are interested in Georgian cuisine, which is served by the restaurant \"Gagimarjos\".\n",
      "\n",
      "The user has chosen specific dishes, which means they have also chosen the restaurant where these dishes come from. In this case, the restaurant is \"Gagimarjos\".\n",
      "\n",
      "The user has provided the chatbot with the information about what dishes they want to order, which are Churchkhela and Lobio.\n",
      "\n",
      "Here is the output in the required format:\n",
      "\n",
      "```json\n",
      "{\n",
      "  \"dish_names\": [\"Churchkhela\", \"Lobio\"],\n",
      "  \"dish_quantities\": [3, 1],\n",
      "  \"restaurant_name\": \"Gagimarjos\",\n",
      "  \"delivery_time\": \"1 pm\"\n",
      "}\n",
      "```\u001b[0m\n"
     ]
    },
    {
     "name": "stdout",
     "output_type": "stream",
     "text": [
      "Chatbot: You have chosen to order 3 portions of Churchkhela, 1 portion of Lobio from Gagimarjos by 1 pm. Is that accurate?\n",
      "You: "
     ]
    },
    {
     "name": "stdin",
     "output_type": "stream",
     "text": [
      " change the order. make it 5 Churchkhela and 2 lobio by 2 pm\n"
     ]
    },
    {
     "name": "stderr",
     "output_type": "stream",
     "text": [
      "\u001b[32m2024-12-16 14:13:36.413\u001b[0m | \u001b[34m\u001b[1mDEBUG   \u001b[0m | \u001b[36mchatbot\u001b[0m:\u001b[36mparse_llm_json\u001b[0m:\u001b[36m48\u001b[0m - \u001b[34m\u001b[1m```json\n",
      "{\n",
      "  \"dish_names\": [\"Churchkhela\", \"Lobio\"],\n",
      "  \"dish_quantities\": [5, 2],\n",
      "  \"restaurant_name\": \"Gagimarjos\",\n",
      "  \"delivery_time\": \"2 pm\"\n",
      "}\n",
      "```\u001b[0m\n",
      "\u001b[32m2024-12-16 14:13:36.416\u001b[0m | \u001b[34m\u001b[1mDEBUG   \u001b[0m | \u001b[36mchatbot\u001b[0m:\u001b[36mget_next_ai_message\u001b[0m:\u001b[36m140\u001b[0m - \u001b[34m\u001b[1mDetermining if the order is made and confirmed\u001b[0m\n",
      "\u001b[32m2024-12-16 14:13:37.231\u001b[0m | \u001b[34m\u001b[1mDEBUG   \u001b[0m | \u001b[36mchatbot\u001b[0m:\u001b[36mparse_llm_json\u001b[0m:\u001b[36m48\u001b[0m - \u001b[34m\u001b[1m{\n",
      "  \"meaning\": 1\n",
      "}\u001b[0m\n",
      "\u001b[32m2024-12-16 14:13:37.234\u001b[0m | \u001b[34m\u001b[1mDEBUG   \u001b[0m | \u001b[36mchatbot\u001b[0m:\u001b[36mget_next_ai_message\u001b[0m:\u001b[36m145\u001b[0m - \u001b[34m\u001b[1mIs the conversation finished1\u001b[0m\n"
     ]
    },
    {
     "name": "stdout",
     "output_type": "stream",
     "text": [
      "Chatbot: Your order of 5 portions of Churchkhela, 2 portions of Lobio from Gagimarjos was successfully received and will be delivered to you by 2 pm\n"
     ]
    }
   ],
   "source": [
    "messages = initialize_messages()\n",
    "make_conversation(messages, model, client)"
   ]
  }
 ],
 "metadata": {
  "kernelspec": {
   "display_name": "food-order-chat-bot",
   "language": "python",
   "name": "food-order-chat-bot"
  },
  "language_info": {
   "codemirror_mode": {
    "name": "ipython",
    "version": 3
   },
   "file_extension": ".py",
   "mimetype": "text/x-python",
   "name": "python",
   "nbconvert_exporter": "python",
   "pygments_lexer": "ipython3",
   "version": "3.9.20"
  }
 },
 "nbformat": 4,
 "nbformat_minor": 5
}
