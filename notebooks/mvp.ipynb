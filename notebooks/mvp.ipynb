{
 "cells": [
  {
   "cell_type": "code",
   "execution_count": 1,
   "id": "1243c786-1a55-4e20-95d2-3be59d661f3b",
   "metadata": {},
   "outputs": [
    {
     "name": "stdout",
     "output_type": "stream",
     "text": [
      "/Users/mikhail_zybin/food-order-chat-bot/src\n"
     ]
    }
   ],
   "source": [
    "%cd ../src"
   ]
  },
  {
   "cell_type": "code",
   "execution_count": 2,
   "id": "cf7ee154-0edc-4cdb-ada0-7d2b1da0dda2",
   "metadata": {},
   "outputs": [],
   "source": [
    "import openai\n",
    "import pandas as pd"
   ]
  },
  {
   "cell_type": "code",
   "execution_count": 3,
   "id": "bbb5862c-70bb-4518-8912-6383fab8acb3",
   "metadata": {},
   "outputs": [],
   "source": [
    "from chatbot import (\n",
    "    initialize_system_prompt,\n",
    "    make_conversation,\n",
    "    initialize_messages,\n",
    ")"
   ]
  },
  {
   "cell_type": "code",
   "execution_count": 4,
   "id": "5b11678c-d6d7-47d1-b04c-18c3dd96a043",
   "metadata": {},
   "outputs": [],
   "source": [
    "api_base = \"https://llama3-1-8b-api.llm.lab.epam.com/v1\"\n",
    "model = \"meta-llama/Meta-Llama-3.1-8B-Instruct\"\n",
    "client = openai.OpenAI(api_key=\"***REMOVED***\", base_url=api_base)"
   ]
  },
  {
   "cell_type": "code",
   "execution_count": 5,
   "id": "f9e56888-5416-46a9-a90c-c9380df1a7b1",
   "metadata": {},
   "outputs": [
    {
     "name": "stdout",
     "output_type": "stream",
     "text": [
      "Chatbot: Hello, Dear Customer!\n",
      "\n",
      "I am food order chatbot! My function is to help you choose and order food from various cafes and restaurants.\n",
      "\n",
      "What would you like to eat today?\n",
      "You: "
     ]
    },
    {
     "name": "stdin",
     "output_type": "stream",
     "text": [
      " When can I receive my order?\n"
     ]
    },
    {
     "name": "stderr",
     "output_type": "stream",
     "text": [
      "\u001b[32m2024-12-10 15:15:33.920\u001b[0m | \u001b[34m\u001b[1mDEBUG   \u001b[0m | \u001b[36mchatbot\u001b[0m:\u001b[36mget_next_ai_message\u001b[0m:\u001b[36m111\u001b[0m - \u001b[34m\u001b[1mDetermining the chosen restaurant...\u001b[0m\n",
      "\u001b[32m2024-12-10 15:15:36.401\u001b[0m | \u001b[34m\u001b[1mDEBUG   \u001b[0m | \u001b[36mchatbot\u001b[0m:\u001b[36mparse_llm_json\u001b[0m:\u001b[36m32\u001b[0m - \u001b[34m\u001b[1m{\n",
      "  \"restaurant_name\": \"\"\n",
      "}\u001b[0m\n",
      "\u001b[32m2024-12-10 15:15:36.403\u001b[0m | \u001b[34m\u001b[1mDEBUG   \u001b[0m | \u001b[36mchatbot\u001b[0m:\u001b[36mget_next_ai_message\u001b[0m:\u001b[36m118\u001b[0m - \u001b[34m\u001b[1mHere is the determined chosen restaurant:\u001b[0m\n",
      "\u001b[32m2024-12-10 15:15:36.404\u001b[0m | \u001b[34m\u001b[1mDEBUG   \u001b[0m | \u001b[36mchatbot\u001b[0m:\u001b[36mget_next_ai_message\u001b[0m:\u001b[36m120\u001b[0m - \u001b[34m\u001b[1mDetermining the chosen dishes...\u001b[0m\n",
      "\u001b[32m2024-12-10 15:15:38.509\u001b[0m | \u001b[34m\u001b[1mDEBUG   \u001b[0m | \u001b[36mchatbot\u001b[0m:\u001b[36mparse_llm_json\u001b[0m:\u001b[36m32\u001b[0m - \u001b[34m\u001b[1m```json\n",
      "{\n",
      "  \"dish_names\": [],\n",
      "  \"dish_quantities\": []\n",
      "}\n",
      "```\u001b[0m\n",
      "\u001b[32m2024-12-10 15:15:38.512\u001b[0m | \u001b[34m\u001b[1mDEBUG   \u001b[0m | \u001b[36mchatbot\u001b[0m:\u001b[36mget_next_ai_message\u001b[0m:\u001b[36m125\u001b[0m - \u001b[34m\u001b[1mHere are the determined dishes:{'dish_names': [], 'dish_quantities': []}\u001b[0m\n",
      "\u001b[32m2024-12-10 15:15:38.513\u001b[0m | \u001b[34m\u001b[1mDEBUG   \u001b[0m | \u001b[36mchatbot\u001b[0m:\u001b[36mget_next_ai_message\u001b[0m:\u001b[36m127\u001b[0m - \u001b[34m\u001b[1mDetermining the delivery time...\u001b[0m\n",
      "\u001b[32m2024-12-10 15:15:40.202\u001b[0m | \u001b[34m\u001b[1mDEBUG   \u001b[0m | \u001b[36mchatbot\u001b[0m:\u001b[36mparse_llm_json\u001b[0m:\u001b[36m32\u001b[0m - \u001b[34m\u001b[1m{\n",
      "  \"delivery_time\": \"\"\n",
      "}\u001b[0m\n",
      "\u001b[32m2024-12-10 15:15:40.205\u001b[0m | \u001b[34m\u001b[1mDEBUG   \u001b[0m | \u001b[36mchatbot\u001b[0m:\u001b[36mget_next_ai_message\u001b[0m:\u001b[36m132\u001b[0m - \u001b[34m\u001b[1mHere is the delivery time:\u001b[0m\n"
     ]
    },
    {
     "name": "stdout",
     "output_type": "stream",
     "text": [
      "Chatbot: We can deliver your order within the next hour, or you can specify a specific time today or tomorrow. Which option suits you best?\n",
      "You: "
     ]
    },
    {
     "name": "stdin",
     "output_type": "stream",
     "text": [
      " I want to receive my order by 12:00 tomorrow please\n"
     ]
    },
    {
     "name": "stderr",
     "output_type": "stream",
     "text": [
      "\u001b[32m2024-12-10 15:15:53.255\u001b[0m | \u001b[34m\u001b[1mDEBUG   \u001b[0m | \u001b[36mchatbot\u001b[0m:\u001b[36mget_next_ai_message\u001b[0m:\u001b[36m111\u001b[0m - \u001b[34m\u001b[1mDetermining the chosen restaurant...\u001b[0m\n",
      "\u001b[32m2024-12-10 15:15:55.642\u001b[0m | \u001b[34m\u001b[1mDEBUG   \u001b[0m | \u001b[36mchatbot\u001b[0m:\u001b[36mparse_llm_json\u001b[0m:\u001b[36m32\u001b[0m - \u001b[34m\u001b[1m{\n",
      "  \"restaurant_name\": \"\"\n",
      "}\u001b[0m\n",
      "\u001b[32m2024-12-10 15:15:55.645\u001b[0m | \u001b[34m\u001b[1mDEBUG   \u001b[0m | \u001b[36mchatbot\u001b[0m:\u001b[36mget_next_ai_message\u001b[0m:\u001b[36m118\u001b[0m - \u001b[34m\u001b[1mHere is the determined chosen restaurant:\u001b[0m\n",
      "\u001b[32m2024-12-10 15:15:55.646\u001b[0m | \u001b[34m\u001b[1mDEBUG   \u001b[0m | \u001b[36mchatbot\u001b[0m:\u001b[36mget_next_ai_message\u001b[0m:\u001b[36m120\u001b[0m - \u001b[34m\u001b[1mDetermining the chosen dishes...\u001b[0m\n",
      "\u001b[32m2024-12-10 15:15:57.789\u001b[0m | \u001b[34m\u001b[1mDEBUG   \u001b[0m | \u001b[36mchatbot\u001b[0m:\u001b[36mparse_llm_json\u001b[0m:\u001b[36m32\u001b[0m - \u001b[34m\u001b[1m```json\n",
      "{\n",
      "  \"dish_names\": [],\n",
      "  \"dish_quantities\": []\n",
      "}\n",
      "```\u001b[0m\n",
      "\u001b[32m2024-12-10 15:15:57.792\u001b[0m | \u001b[34m\u001b[1mDEBUG   \u001b[0m | \u001b[36mchatbot\u001b[0m:\u001b[36mget_next_ai_message\u001b[0m:\u001b[36m125\u001b[0m - \u001b[34m\u001b[1mHere are the determined dishes:{'dish_names': [], 'dish_quantities': []}\u001b[0m\n",
      "\u001b[32m2024-12-10 15:15:57.793\u001b[0m | \u001b[34m\u001b[1mDEBUG   \u001b[0m | \u001b[36mchatbot\u001b[0m:\u001b[36mget_next_ai_message\u001b[0m:\u001b[36m127\u001b[0m - \u001b[34m\u001b[1mDetermining the delivery time...\u001b[0m\n",
      "\u001b[32m2024-12-10 15:15:59.669\u001b[0m | \u001b[34m\u001b[1mDEBUG   \u001b[0m | \u001b[36mchatbot\u001b[0m:\u001b[36mparse_llm_json\u001b[0m:\u001b[36m32\u001b[0m - \u001b[34m\u001b[1m{\n",
      "  \"delivery_time\": \"12:00 tomorrow\"\n",
      "}\u001b[0m\n",
      "\u001b[32m2024-12-10 15:15:59.673\u001b[0m | \u001b[34m\u001b[1mDEBUG   \u001b[0m | \u001b[36mchatbot\u001b[0m:\u001b[36mget_next_ai_message\u001b[0m:\u001b[36m132\u001b[0m - \u001b[34m\u001b[1mHere is the delivery time:12:00 tomorrow\u001b[0m\n"
     ]
    },
    {
     "name": "stdout",
     "output_type": "stream",
     "text": [
      "Chatbot: We will make sure to deliver your order by 12:00 tomorrow. Now, let's talk about the food. Which restaurant would you like to order from? We have the following options:\n",
      "\n",
      "1. **Nippon** - Japanese cuisine, with dishes like Sushi, Tempura, and Ramen.\n",
      "2. **Burger Shef** - Burgers, with options like Classic Cheeseburger, BBQ Bacon Burger, and Mushroom Swiss Burger.\n",
      "3. **Sukhothai** - Thai cuisine, with dishes like Pad Thai, Tom Yum Soup, and Green Curry.\n",
      "4. **Roman Holiday** - Italian cuisine, with options like Margherita Pizza, Spaghetti Carbonara, and Chicken Parmigiana.\n",
      "5. **Gagimarjos** - Georgian cuisine, with dishes like Khinkali, Chicken Satsivi, and Adjaruli Khachapuri.\n",
      "\n",
      "Which restaurant catches your eye?\n",
      "You: "
     ]
    },
    {
     "name": "stdin",
     "output_type": "stream",
     "text": [
      " Show me the Sukhothai menu\n"
     ]
    },
    {
     "name": "stderr",
     "output_type": "stream",
     "text": [
      "\u001b[32m2024-12-10 15:16:09.904\u001b[0m | \u001b[34m\u001b[1mDEBUG   \u001b[0m | \u001b[36mchatbot\u001b[0m:\u001b[36mget_next_ai_message\u001b[0m:\u001b[36m111\u001b[0m - \u001b[34m\u001b[1mDetermining the chosen restaurant...\u001b[0m\n",
      "\u001b[32m2024-12-10 15:16:11.922\u001b[0m | \u001b[34m\u001b[1mDEBUG   \u001b[0m | \u001b[36mchatbot\u001b[0m:\u001b[36mparse_llm_json\u001b[0m:\u001b[36m32\u001b[0m - \u001b[34m\u001b[1m{\n",
      "  \"restaurant_name\": \"Sukhothai\"\n",
      "}\u001b[0m\n",
      "\u001b[32m2024-12-10 15:16:11.924\u001b[0m | \u001b[34m\u001b[1mDEBUG   \u001b[0m | \u001b[36mchatbot\u001b[0m:\u001b[36mget_next_ai_message\u001b[0m:\u001b[36m118\u001b[0m - \u001b[34m\u001b[1mHere is the determined chosen restaurant:Sukhothai\u001b[0m\n",
      "\u001b[32m2024-12-10 15:16:11.925\u001b[0m | \u001b[34m\u001b[1mDEBUG   \u001b[0m | \u001b[36mchatbot\u001b[0m:\u001b[36mget_next_ai_message\u001b[0m:\u001b[36m120\u001b[0m - \u001b[34m\u001b[1mDetermining the chosen dishes...\u001b[0m\n",
      "\u001b[32m2024-12-10 15:16:14.135\u001b[0m | \u001b[34m\u001b[1mDEBUG   \u001b[0m | \u001b[36mchatbot\u001b[0m:\u001b[36mparse_llm_json\u001b[0m:\u001b[36m32\u001b[0m - \u001b[34m\u001b[1m```json\n",
      "{\n",
      "  \"dish_names\": [],\n",
      "  \"dish_quantities\": []\n",
      "}\n",
      "```\u001b[0m\n",
      "\u001b[32m2024-12-10 15:16:14.137\u001b[0m | \u001b[34m\u001b[1mDEBUG   \u001b[0m | \u001b[36mchatbot\u001b[0m:\u001b[36mget_next_ai_message\u001b[0m:\u001b[36m125\u001b[0m - \u001b[34m\u001b[1mHere are the determined dishes:{'dish_names': [], 'dish_quantities': []}\u001b[0m\n",
      "\u001b[32m2024-12-10 15:16:14.138\u001b[0m | \u001b[34m\u001b[1mDEBUG   \u001b[0m | \u001b[36mchatbot\u001b[0m:\u001b[36mget_next_ai_message\u001b[0m:\u001b[36m127\u001b[0m - \u001b[34m\u001b[1mDetermining the delivery time...\u001b[0m\n",
      "\u001b[32m2024-12-10 15:16:16.118\u001b[0m | \u001b[34m\u001b[1mDEBUG   \u001b[0m | \u001b[36mchatbot\u001b[0m:\u001b[36mparse_llm_json\u001b[0m:\u001b[36m32\u001b[0m - \u001b[34m\u001b[1m{\n",
      "  \"delivery_time\": \"12:00 tomorrow\"\n",
      "}\u001b[0m\n",
      "\u001b[32m2024-12-10 15:16:16.121\u001b[0m | \u001b[34m\u001b[1mDEBUG   \u001b[0m | \u001b[36mchatbot\u001b[0m:\u001b[36mget_next_ai_message\u001b[0m:\u001b[36m132\u001b[0m - \u001b[34m\u001b[1mHere is the delivery time:12:00 tomorrow\u001b[0m\n"
     ]
    },
    {
     "name": "stdout",
     "output_type": "stream",
     "text": [
      "Chatbot: Here is the menu from **Sukhothai**, a Thai restaurant:\n",
      "\n",
      "**Sukhothai Menu**\n",
      "\n",
      "We have the following dishes available:\n",
      "\n",
      "1. **Pad Thai** - Stir-fried rice noodles with shrimp, tofu, egg, bean sprouts, and peanuts in a tangy tamarind sauce. ($12.99)\n",
      "2. **Tom Yum Soup** - Spicy and sour soup with shrimp, mushrooms, lemongrass, and Thai herbs. ($10.99)\n",
      "3. **Green Curry** - Creamy coconut milk curry with chicken, eggplant, bamboo shoots, and basil. ($13.99)\n",
      "4. **Mango Sticky Rice Dessert** - Sweet dessert made with ripe mango, sticky rice, and coconut milk. ($7.99)\n",
      "5. **Som Tum (Papaya Salad)** - Shredded green papaya salad with tomatoes, green beans, peanuts, and a spicy lime dressing. ($9.99)\n",
      "6. **Chicken Pad See Ew** - Stir-fried wide rice noodles with broccoli, egg, and chicken in a sweet soy sauce. ($11.99)\n",
      "7. **Massaman Curry** - Rich and flavorful curry with beef, potatoes, onions, and peanuts in a fragrant sauce. ($14.99)\n",
      "8. **Chicken Satay** - Grilled marinated chicken skewers served with peanut sauce and cucumber salad. ($8.99)\n",
      "9. **Panang Curry** - Thick and spicy curry with pork, bell peppers, kaffir lime leaves, and coconut milk. ($12.99)\n",
      "\n",
      "Which dish would you like to order?\n",
      "You: "
     ]
    },
    {
     "name": "stdin",
     "output_type": "stream",
     "text": [
      " 4 portions of Pad See Ew\n"
     ]
    },
    {
     "name": "stderr",
     "output_type": "stream",
     "text": [
      "\u001b[32m2024-12-10 15:16:42.358\u001b[0m | \u001b[34m\u001b[1mDEBUG   \u001b[0m | \u001b[36mchatbot\u001b[0m:\u001b[36mget_next_ai_message\u001b[0m:\u001b[36m111\u001b[0m - \u001b[34m\u001b[1mDetermining the chosen restaurant...\u001b[0m\n",
      "\u001b[32m2024-12-10 15:16:44.996\u001b[0m | \u001b[34m\u001b[1mDEBUG   \u001b[0m | \u001b[36mchatbot\u001b[0m:\u001b[36mparse_llm_json\u001b[0m:\u001b[36m32\u001b[0m - \u001b[34m\u001b[1m{\n",
      "  \"restaurant_name\": \"Sukhothai\"\n",
      "}\u001b[0m\n",
      "\u001b[32m2024-12-10 15:16:44.999\u001b[0m | \u001b[34m\u001b[1mDEBUG   \u001b[0m | \u001b[36mchatbot\u001b[0m:\u001b[36mget_next_ai_message\u001b[0m:\u001b[36m118\u001b[0m - \u001b[34m\u001b[1mHere is the determined chosen restaurant:Sukhothai\u001b[0m\n",
      "\u001b[32m2024-12-10 15:16:45.001\u001b[0m | \u001b[34m\u001b[1mDEBUG   \u001b[0m | \u001b[36mchatbot\u001b[0m:\u001b[36mget_next_ai_message\u001b[0m:\u001b[36m120\u001b[0m - \u001b[34m\u001b[1mDetermining the chosen dishes...\u001b[0m\n",
      "\u001b[32m2024-12-10 15:16:47.565\u001b[0m | \u001b[34m\u001b[1mDEBUG   \u001b[0m | \u001b[36mchatbot\u001b[0m:\u001b[36mparse_llm_json\u001b[0m:\u001b[36m32\u001b[0m - \u001b[34m\u001b[1m```json\n",
      "{\n",
      "  \"dish_names\": [\"Chicken Pad See Ew\"],\n",
      "  \"dish_quantities\": [4]\n",
      "}\n",
      "```\u001b[0m\n",
      "\u001b[32m2024-12-10 15:16:47.568\u001b[0m | \u001b[34m\u001b[1mDEBUG   \u001b[0m | \u001b[36mchatbot\u001b[0m:\u001b[36mget_next_ai_message\u001b[0m:\u001b[36m125\u001b[0m - \u001b[34m\u001b[1mHere are the determined dishes:{'dish_names': ['Chicken Pad See Ew'], 'dish_quantities': [4]}\u001b[0m\n",
      "\u001b[32m2024-12-10 15:16:47.569\u001b[0m | \u001b[34m\u001b[1mDEBUG   \u001b[0m | \u001b[36mchatbot\u001b[0m:\u001b[36mget_next_ai_message\u001b[0m:\u001b[36m127\u001b[0m - \u001b[34m\u001b[1mDetermining the delivery time...\u001b[0m\n",
      "\u001b[32m2024-12-10 15:16:49.710\u001b[0m | \u001b[34m\u001b[1mDEBUG   \u001b[0m | \u001b[36mchatbot\u001b[0m:\u001b[36mparse_llm_json\u001b[0m:\u001b[36m32\u001b[0m - \u001b[34m\u001b[1m{\n",
      "  \"delivery_time\": \"12:00 tomorrow\"\n",
      "}\u001b[0m\n",
      "\u001b[32m2024-12-10 15:16:49.712\u001b[0m | \u001b[34m\u001b[1mDEBUG   \u001b[0m | \u001b[36mchatbot\u001b[0m:\u001b[36mget_next_ai_message\u001b[0m:\u001b[36m132\u001b[0m - \u001b[34m\u001b[1mHere is the delivery time:12:00 tomorrow\u001b[0m\n"
     ]
    },
    {
     "name": "stdout",
     "output_type": "stream",
     "text": [
      "Sukhothai {'dish_names': ['Chicken Pad See Ew'], 'dish_quantities': [4]} 12:00 tomorrow\n",
      "12:00 tomorrow\n",
      "Chatbot: You have chosen to order 4 portions of Chicken Pad See Ew from Sukhothai by 12:00 tomorrow. Is that correct?\n",
      "You: "
     ]
    },
    {
     "name": "stdin",
     "output_type": "stream",
     "text": [
      " Yes, exactly\n"
     ]
    },
    {
     "name": "stderr",
     "output_type": "stream",
     "text": [
      "\u001b[32m2024-12-10 15:17:03.253\u001b[0m | \u001b[34m\u001b[1mDEBUG   \u001b[0m | \u001b[36mchatbot\u001b[0m:\u001b[36mget_next_ai_message\u001b[0m:\u001b[36m111\u001b[0m - \u001b[34m\u001b[1mDetermining the chosen restaurant...\u001b[0m\n",
      "\u001b[32m2024-12-10 15:17:05.990\u001b[0m | \u001b[34m\u001b[1mDEBUG   \u001b[0m | \u001b[36mchatbot\u001b[0m:\u001b[36mparse_llm_json\u001b[0m:\u001b[36m32\u001b[0m - \u001b[34m\u001b[1m{\n",
      "  \"restaurant_name\": \"Sukhothai\"\n",
      "}\u001b[0m\n",
      "\u001b[32m2024-12-10 15:17:05.994\u001b[0m | \u001b[34m\u001b[1mDEBUG   \u001b[0m | \u001b[36mchatbot\u001b[0m:\u001b[36mget_next_ai_message\u001b[0m:\u001b[36m118\u001b[0m - \u001b[34m\u001b[1mHere is the determined chosen restaurant:Sukhothai\u001b[0m\n",
      "\u001b[32m2024-12-10 15:17:05.996\u001b[0m | \u001b[34m\u001b[1mDEBUG   \u001b[0m | \u001b[36mchatbot\u001b[0m:\u001b[36mget_next_ai_message\u001b[0m:\u001b[36m120\u001b[0m - \u001b[34m\u001b[1mDetermining the chosen dishes...\u001b[0m\n",
      "\u001b[32m2024-12-10 15:17:08.863\u001b[0m | \u001b[34m\u001b[1mDEBUG   \u001b[0m | \u001b[36mchatbot\u001b[0m:\u001b[36mparse_llm_json\u001b[0m:\u001b[36m32\u001b[0m - \u001b[34m\u001b[1m```json\n",
      "{\n",
      "  \"dish_names\": [\"Chicken Pad See Ew\"],\n",
      "  \"dish_quantities\": [4]\n",
      "}\n",
      "```\u001b[0m\n",
      "\u001b[32m2024-12-10 15:17:08.868\u001b[0m | \u001b[34m\u001b[1mDEBUG   \u001b[0m | \u001b[36mchatbot\u001b[0m:\u001b[36mget_next_ai_message\u001b[0m:\u001b[36m125\u001b[0m - \u001b[34m\u001b[1mHere are the determined dishes:{'dish_names': ['Chicken Pad See Ew'], 'dish_quantities': [4]}\u001b[0m\n",
      "\u001b[32m2024-12-10 15:17:08.874\u001b[0m | \u001b[34m\u001b[1mDEBUG   \u001b[0m | \u001b[36mchatbot\u001b[0m:\u001b[36mget_next_ai_message\u001b[0m:\u001b[36m127\u001b[0m - \u001b[34m\u001b[1mDetermining the delivery time...\u001b[0m\n",
      "\u001b[32m2024-12-10 15:17:11.006\u001b[0m | \u001b[34m\u001b[1mDEBUG   \u001b[0m | \u001b[36mchatbot\u001b[0m:\u001b[36mparse_llm_json\u001b[0m:\u001b[36m32\u001b[0m - \u001b[34m\u001b[1m{\n",
      "  \"delivery_time\": \"12:00 tomorrow\"\n",
      "}\u001b[0m\n",
      "\u001b[32m2024-12-10 15:17:11.011\u001b[0m | \u001b[34m\u001b[1mDEBUG   \u001b[0m | \u001b[36mchatbot\u001b[0m:\u001b[36mget_next_ai_message\u001b[0m:\u001b[36m132\u001b[0m - \u001b[34m\u001b[1mHere is the delivery time:12:00 tomorrow\u001b[0m\n",
      "\u001b[32m2024-12-10 15:17:11.013\u001b[0m | \u001b[34m\u001b[1mDEBUG   \u001b[0m | \u001b[36mchatbot\u001b[0m:\u001b[36mget_next_ai_message\u001b[0m:\u001b[36m136\u001b[0m - \u001b[34m\u001b[1mDetermining if the order is made and confirmed\u001b[0m\n",
      "\u001b[32m2024-12-10 15:17:11.601\u001b[0m | \u001b[34m\u001b[1mDEBUG   \u001b[0m | \u001b[36mchatbot\u001b[0m:\u001b[36mparse_llm_json\u001b[0m:\u001b[36m32\u001b[0m - \u001b[34m\u001b[1m{\n",
      "  \"meaning\": 1\n",
      "}\u001b[0m\n"
     ]
    },
    {
     "ename": "TypeError",
     "evalue": "can only concatenate str (not \"int\") to str",
     "output_type": "error",
     "traceback": [
      "\u001b[0;31m---------------------------------------------------------------------------\u001b[0m",
      "\u001b[0;31mTypeError\u001b[0m                                 Traceback (most recent call last)",
      "Cell \u001b[0;32mIn[5], line 2\u001b[0m\n\u001b[1;32m      1\u001b[0m messages \u001b[38;5;241m=\u001b[39m initialize_messages()\n\u001b[0;32m----> 2\u001b[0m \u001b[43mmake_conversation\u001b[49m\u001b[43m(\u001b[49m\u001b[43mmessages\u001b[49m\u001b[43m,\u001b[49m\u001b[43m \u001b[49m\u001b[43mmodel\u001b[49m\u001b[43m,\u001b[49m\u001b[43m \u001b[49m\u001b[43mclient\u001b[49m\u001b[43m)\u001b[49m\n",
      "File \u001b[0;32m~/food-order-chat-bot/src/chatbot.py:177\u001b[0m, in \u001b[0;36mmake_conversation\u001b[0;34m(messages, model, client)\u001b[0m\n\u001b[1;32m    175\u001b[0m human_message \u001b[38;5;241m=\u001b[39m \u001b[38;5;28minput\u001b[39m()\n\u001b[1;32m    176\u001b[0m messages\u001b[38;5;241m.\u001b[39mappend({\u001b[38;5;124m\"\u001b[39m\u001b[38;5;124mrole\u001b[39m\u001b[38;5;124m\"\u001b[39m: \u001b[38;5;124m\"\u001b[39m\u001b[38;5;124muser\u001b[39m\u001b[38;5;124m\"\u001b[39m, \u001b[38;5;124m\"\u001b[39m\u001b[38;5;124mcontent\u001b[39m\u001b[38;5;124m\"\u001b[39m: human_message})\n\u001b[0;32m--> 177\u001b[0m ai_reply, confirmation_requested, is_finished \u001b[38;5;241m=\u001b[39m \u001b[43mget_next_ai_message\u001b[49m\u001b[43m(\u001b[49m\n\u001b[1;32m    178\u001b[0m \u001b[43m    \u001b[49m\u001b[43mmessages\u001b[49m\u001b[43m,\u001b[49m\u001b[43m \u001b[49m\u001b[43mconfirmation_requested\u001b[49m\u001b[43m,\u001b[49m\u001b[43m \u001b[49m\u001b[43mmodel\u001b[49m\u001b[43m,\u001b[49m\u001b[43m \u001b[49m\u001b[43mclient\u001b[49m\n\u001b[1;32m    179\u001b[0m \u001b[43m\u001b[49m\u001b[43m)\u001b[49m\n\u001b[1;32m    180\u001b[0m \u001b[38;5;28;01mif\u001b[39;00m is_finished:\n\u001b[1;32m    181\u001b[0m     \u001b[38;5;28;01mbreak\u001b[39;00m\n",
      "File \u001b[0;32m~/food-order-chat-bot/src/chatbot.py:141\u001b[0m, in \u001b[0;36mget_next_ai_message\u001b[0;34m(messages, confirmation_requested, model, client, temperature)\u001b[0m\n\u001b[1;32m    137\u001b[0m is_finished_json \u001b[38;5;241m=\u001b[39m analyze_conversation(\n\u001b[1;32m    138\u001b[0m     ask_for_end, messages[\u001b[38;5;241m-\u001b[39m\u001b[38;5;241m1\u001b[39m][\u001b[38;5;124m\"\u001b[39m\u001b[38;5;124mcontent\u001b[39m\u001b[38;5;124m\"\u001b[39m], model, client\n\u001b[1;32m    139\u001b[0m )\n\u001b[1;32m    140\u001b[0m is_finished \u001b[38;5;241m=\u001b[39m \u001b[38;5;28mint\u001b[39m(parse_llm_json(is_finished_json)[\u001b[38;5;124m\"\u001b[39m\u001b[38;5;124mmeaning\u001b[39m\u001b[38;5;124m\"\u001b[39m])\n\u001b[0;32m--> 141\u001b[0m logger\u001b[38;5;241m.\u001b[39mdebug(\u001b[38;5;124;43m\"\u001b[39;49m\u001b[38;5;124;43mIs the conversation finished\u001b[39;49m\u001b[38;5;124;43m\"\u001b[39;49m\u001b[43m \u001b[49m\u001b[38;5;241;43m+\u001b[39;49m\u001b[43m \u001b[49m\u001b[43mis_finished\u001b[49m)\n\u001b[1;32m    142\u001b[0m \u001b[38;5;28;01mif\u001b[39;00m is_finished:\n\u001b[1;32m    143\u001b[0m     order(\n\u001b[1;32m    144\u001b[0m         current_chosen_restaurant, current_chosen_dishes, current_delivery_time\n\u001b[1;32m    145\u001b[0m     )\n",
      "\u001b[0;31mTypeError\u001b[0m: can only concatenate str (not \"int\") to str"
     ]
    }
   ],
   "source": [
    "messages = initialize_messages()\n",
    "make_conversation(messages, model, client)"
   ]
  },
  {
   "cell_type": "code",
   "execution_count": null,
   "id": "ecec34c7-76c1-4085-b73f-1ee256c95847",
   "metadata": {},
   "outputs": [],
   "source": [
    "bool([])"
   ]
  },
  {
   "cell_type": "code",
   "execution_count": null,
   "id": "b5135de8-eb4e-418a-906e-2abf3bf834bb",
   "metadata": {},
   "outputs": [],
   "source": [
    "bool([\"\"])"
   ]
  },
  {
   "cell_type": "code",
   "execution_count": null,
   "id": "31834002-10ef-4b70-9844-abd75eca5768",
   "metadata": {},
   "outputs": [],
   "source": [
    "print([\"\"])"
   ]
  },
  {
   "cell_type": "code",
   "execution_count": null,
   "id": "69ed7464-34ed-48c7-a3e1-fe73dc943c1a",
   "metadata": {},
   "outputs": [],
   "source": [
    "if \"\" and []:\n",
    "    print(\"ala\")"
   ]
  },
  {
   "cell_type": "code",
   "execution_count": null,
   "id": "74e79ab2-cc4d-48de-86a5-978962a38a9f",
   "metadata": {},
   "outputs": [],
   "source": []
  }
 ],
 "metadata": {
  "kernelspec": {
   "display_name": "food-order-chat-bot",
   "language": "python",
   "name": "food-order-chat-bot"
  },
  "language_info": {
   "codemirror_mode": {
    "name": "ipython",
    "version": 3
   },
   "file_extension": ".py",
   "mimetype": "text/x-python",
   "name": "python",
   "nbconvert_exporter": "python",
   "pygments_lexer": "ipython3",
   "version": "3.9.20"
  }
 },
 "nbformat": 4,
 "nbformat_minor": 5
}
