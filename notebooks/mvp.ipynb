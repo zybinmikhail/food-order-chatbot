{
 "cells": [
  {
   "cell_type": "code",
   "execution_count": 1,
   "id": "1243c786-1a55-4e20-95d2-3be59d661f3b",
   "metadata": {},
   "outputs": [
    {
     "name": "stdout",
     "output_type": "stream",
     "text": [
      "/Users/mikhail_zybin/food-order-chat-bot/src\n"
     ]
    }
   ],
   "source": [
    "%cd ../src"
   ]
  },
  {
   "cell_type": "code",
   "execution_count": 2,
   "id": "cf7ee154-0edc-4cdb-ada0-7d2b1da0dda2",
   "metadata": {},
   "outputs": [],
   "source": [
    "import openai\n",
    "import pandas as pd"
   ]
  },
  {
   "cell_type": "code",
   "execution_count": 3,
   "id": "bbb5862c-70bb-4518-8912-6383fab8acb3",
   "metadata": {},
   "outputs": [],
   "source": [
    "from chatbot import (\n",
    "    initialize_system_prompt,\n",
    "    make_conversation,\n",
    "    initialize_messages,\n",
    ")"
   ]
  },
  {
   "cell_type": "code",
   "execution_count": 4,
   "id": "5b11678c-d6d7-47d1-b04c-18c3dd96a043",
   "metadata": {},
   "outputs": [],
   "source": [
    "api_base = \"https://llama3-1-8b-api.llm.lab.epam.com/v1\"\n",
    "model = \"meta-llama/Meta-Llama-3.1-8B-Instruct\"\n",
    "client = openai.OpenAI(api_key=\"***REMOVED***\", base_url=api_base)"
   ]
  },
  {
   "cell_type": "code",
   "execution_count": null,
   "id": "f9e56888-5416-46a9-a90c-c9380df1a7b1",
   "metadata": {},
   "outputs": [
    {
     "name": "stdout",
     "output_type": "stream",
     "text": [
      "Chatbot: Hello, Dear Customer!\n",
      "\n",
      "I am food order chatbot! My function is to help you choose and order food from various cafes and restaurants.\n",
      "\n",
      "What would you like to eat today?\n",
      "You: "
     ]
    },
    {
     "name": "stdin",
     "output_type": "stream",
     "text": [
      " I want 3 cheeseburgers from burger shef by 12:00\n"
     ]
    },
    {
     "name": "stderr",
     "output_type": "stream",
     "text": [
      "\u001b[32m2024-11-29 15:56:43.344\u001b[0m | \u001b[34m\u001b[1mDEBUG   \u001b[0m | \u001b[36mchatbot\u001b[0m:\u001b[36mget_next_ai_message\u001b[0m:\u001b[36m55\u001b[0m - \u001b[34m\u001b[1mDetermining the chosen restaurant...\u001b[0m\n",
      "\u001b[32m2024-11-29 15:56:45.827\u001b[0m | \u001b[34m\u001b[1mDEBUG   \u001b[0m | \u001b[36mchatbot\u001b[0m:\u001b[36mparse_llm_json\u001b[0m:\u001b[36m33\u001b[0m - \u001b[34m\u001b[1m{\n",
      "  \"restaurant_name\": \"Burger Shef\"\n",
      "}\u001b[0m\n",
      "\u001b[32m2024-11-29 15:56:45.829\u001b[0m | \u001b[34m\u001b[1mDEBUG   \u001b[0m | \u001b[36mchatbot\u001b[0m:\u001b[36mget_next_ai_message\u001b[0m:\u001b[36m58\u001b[0m - \u001b[34m\u001b[1mHere is the determined chosen restaurant:\u001b[0m\n",
      "\u001b[32m2024-11-29 15:56:45.830\u001b[0m | \u001b[34m\u001b[1mDEBUG   \u001b[0m | \u001b[36mchatbot\u001b[0m:\u001b[36mget_next_ai_message\u001b[0m:\u001b[36m60\u001b[0m - \u001b[34m\u001b[1mDetermining the chosen dishes...\u001b[0m\n",
      "\u001b[32m2024-11-29 15:56:51.759\u001b[0m | \u001b[34m\u001b[1mDEBUG   \u001b[0m | \u001b[36mchatbot\u001b[0m:\u001b[36mparse_llm_json\u001b[0m:\u001b[36m33\u001b[0m - \u001b[34m\u001b[1mBased on the conversation between the chatbot and the user, the user has already provided the chatbot with the information about what dishes they want to order.\n",
      "\n",
      "The user has ordered 3 cheeseburgers from Burger Shef by 12:00.\n",
      "\n",
      "Here is the output in the required JSON format:\n",
      "\n",
      "```json\n",
      "{\n",
      "  \"dish_names\": [\"Classic Cheeseburger\"],\n",
      "  \"dish_quantities\": [3]\n",
      "}\n",
      "```\n",
      "\n",
      "Note: Since the user has only ordered one type of dish, the list of dish names contains only one element. If the user had ordered multiple types of dishes, the list of dish names would contain all the distinct names of the dishes.\u001b[0m\n",
      "\u001b[32m2024-11-29 15:56:51.762\u001b[0m | \u001b[34m\u001b[1mDEBUG   \u001b[0m | \u001b[36mchatbot\u001b[0m:\u001b[36mget_next_ai_message\u001b[0m:\u001b[36m63\u001b[0m - \u001b[34m\u001b[1mHere are the determined dishes:\u001b[0m\n",
      "\u001b[32m2024-11-29 15:56:51.763\u001b[0m | \u001b[34m\u001b[1mDEBUG   \u001b[0m | \u001b[36mchatbot\u001b[0m:\u001b[36mget_next_ai_message\u001b[0m:\u001b[36m65\u001b[0m - \u001b[34m\u001b[1mDetermining the delivery time...\u001b[0m\n",
      "\u001b[32m2024-11-29 15:56:53.464\u001b[0m | \u001b[34m\u001b[1mDEBUG   \u001b[0m | \u001b[36mchatbot\u001b[0m:\u001b[36mparse_llm_json\u001b[0m:\u001b[36m33\u001b[0m - \u001b[34m\u001b[1m{\n",
      "  \"delivery_time\": \"12:00\"\n",
      "}\u001b[0m\n",
      "\u001b[32m2024-11-29 15:56:53.467\u001b[0m | \u001b[34m\u001b[1mDEBUG   \u001b[0m | \u001b[36mchatbot\u001b[0m:\u001b[36mget_next_ai_message\u001b[0m:\u001b[36m68\u001b[0m - \u001b[34m\u001b[1mHere is the delivery time:\u001b[0m\n",
      "\u001b[32m2024-11-29 15:56:53.469\u001b[0m | \u001b[34m\u001b[1mDEBUG   \u001b[0m | \u001b[36mchatbot\u001b[0m:\u001b[36mget_next_ai_message\u001b[0m:\u001b[36m70\u001b[0m - \u001b[34m\u001b[1mDetermining if the order is made and confirmed\u001b[0m\n",
      "\u001b[32m2024-11-29 15:56:56.053\u001b[0m | \u001b[34m\u001b[1mDEBUG   \u001b[0m | \u001b[36mchatbot\u001b[0m:\u001b[36mparse_llm_json\u001b[0m:\u001b[36m33\u001b[0m - \u001b[34m\u001b[1m{\n",
      "  \"order_made\": 0,\n",
      "  \"order explanation\": \"User did not provide all necessary information about their order and did not confirm the order\"\n",
      "}\u001b[0m\n",
      "\u001b[32m2024-11-29 15:56:56.055\u001b[0m | \u001b[34m\u001b[1mDEBUG   \u001b[0m | \u001b[36mchatbot\u001b[0m:\u001b[36mget_next_ai_message\u001b[0m:\u001b[36m73\u001b[0m - \u001b[34m\u001b[1mIs the conversation finished\u001b[0m\n"
     ]
    },
    {
     "name": "stdout",
     "output_type": "stream",
     "text": [
      "Chatbot: You have chosen to order 3 portions of Classic Cheeseburger from Burger Shef by 12:00. Is that correct?\n",
      "You: "
     ]
    },
    {
     "name": "stdin",
     "output_type": "stream",
     "text": [
      " Yes, can't wait for the burgers, I am very hungry\n"
     ]
    },
    {
     "name": "stderr",
     "output_type": "stream",
     "text": [
      "\u001b[32m2024-11-29 15:57:15.193\u001b[0m | \u001b[34m\u001b[1mDEBUG   \u001b[0m | \u001b[36mchatbot\u001b[0m:\u001b[36mget_next_ai_message\u001b[0m:\u001b[36m55\u001b[0m - \u001b[34m\u001b[1mDetermining the chosen restaurant...\u001b[0m\n",
      "\u001b[32m2024-11-29 15:57:17.660\u001b[0m | \u001b[34m\u001b[1mDEBUG   \u001b[0m | \u001b[36mchatbot\u001b[0m:\u001b[36mparse_llm_json\u001b[0m:\u001b[36m33\u001b[0m - \u001b[34m\u001b[1m{\n",
      "  \"restaurant_name\": \"Burger Shef\"\n",
      "}\u001b[0m\n",
      "\u001b[32m2024-11-29 15:57:17.663\u001b[0m | \u001b[34m\u001b[1mDEBUG   \u001b[0m | \u001b[36mchatbot\u001b[0m:\u001b[36mget_next_ai_message\u001b[0m:\u001b[36m58\u001b[0m - \u001b[34m\u001b[1mHere is the determined chosen restaurant:\u001b[0m\n",
      "\u001b[32m2024-11-29 15:57:17.664\u001b[0m | \u001b[34m\u001b[1mDEBUG   \u001b[0m | \u001b[36mchatbot\u001b[0m:\u001b[36mget_next_ai_message\u001b[0m:\u001b[36m60\u001b[0m - \u001b[34m\u001b[1mDetermining the chosen dishes...\u001b[0m\n",
      "\u001b[32m2024-11-29 15:57:22.062\u001b[0m | \u001b[34m\u001b[1mDEBUG   \u001b[0m | \u001b[36mchatbot\u001b[0m:\u001b[36mparse_llm_json\u001b[0m:\u001b[36m33\u001b[0m - \u001b[34m\u001b[1mBased on the conversation between the chatbot and the user, the user has already provided the chatbot with the information about what dishes they want to order.\n",
      "\n",
      "The user has chosen to order 3 portions of Classic Cheeseburger from Burger Shef by 12:00.\n",
      "\n",
      "Here is the output in the required JSON format:\n",
      "\n",
      "```json\n",
      "{\n",
      "  \"dish_names\": [\"Classic Cheeseburger\"],\n",
      "  \"dish_quantities\": [3]\n",
      "}\n",
      "```\u001b[0m\n",
      "\u001b[32m2024-11-29 15:57:22.065\u001b[0m | \u001b[34m\u001b[1mDEBUG   \u001b[0m | \u001b[36mchatbot\u001b[0m:\u001b[36mget_next_ai_message\u001b[0m:\u001b[36m63\u001b[0m - \u001b[34m\u001b[1mHere are the determined dishes:\u001b[0m\n",
      "\u001b[32m2024-11-29 15:57:22.066\u001b[0m | \u001b[34m\u001b[1mDEBUG   \u001b[0m | \u001b[36mchatbot\u001b[0m:\u001b[36mget_next_ai_message\u001b[0m:\u001b[36m65\u001b[0m - \u001b[34m\u001b[1mDetermining the delivery time...\u001b[0m\n",
      "\u001b[32m2024-11-29 15:57:23.794\u001b[0m | \u001b[34m\u001b[1mDEBUG   \u001b[0m | \u001b[36mchatbot\u001b[0m:\u001b[36mparse_llm_json\u001b[0m:\u001b[36m33\u001b[0m - \u001b[34m\u001b[1m{\n",
      "  \"delivery_time\": \"12:00\"\n",
      "}\u001b[0m\n",
      "\u001b[32m2024-11-29 15:57:23.796\u001b[0m | \u001b[34m\u001b[1mDEBUG   \u001b[0m | \u001b[36mchatbot\u001b[0m:\u001b[36mget_next_ai_message\u001b[0m:\u001b[36m68\u001b[0m - \u001b[34m\u001b[1mHere is the delivery time:\u001b[0m\n",
      "\u001b[32m2024-11-29 15:57:23.797\u001b[0m | \u001b[34m\u001b[1mDEBUG   \u001b[0m | \u001b[36mchatbot\u001b[0m:\u001b[36mget_next_ai_message\u001b[0m:\u001b[36m70\u001b[0m - \u001b[34m\u001b[1mDetermining if the order is made and confirmed\u001b[0m\n",
      "\u001b[32m2024-11-29 15:57:26.378\u001b[0m | \u001b[34m\u001b[1mDEBUG   \u001b[0m | \u001b[36mchatbot\u001b[0m:\u001b[36mparse_llm_json\u001b[0m:\u001b[36m33\u001b[0m - \u001b[34m\u001b[1m{\n",
      "  \"order_made\": 0,\n",
      "  \"order explanation\": \"User did not confirm the order and did not provide all necessary information about their order\"\n",
      "}\u001b[0m\n",
      "\u001b[32m2024-11-29 15:57:26.381\u001b[0m | \u001b[34m\u001b[1mDEBUG   \u001b[0m | \u001b[36mchatbot\u001b[0m:\u001b[36mget_next_ai_message\u001b[0m:\u001b[36m73\u001b[0m - \u001b[34m\u001b[1mIs the conversation finished\u001b[0m\n"
     ]
    },
    {
     "name": "stdout",
     "output_type": "stream",
     "text": [
      "Chatbot: You have chosen to order 3 portions of Classic Cheeseburger from Burger Shef by 12:00. Is that correct?\n",
      "You: "
     ]
    }
   ],
   "source": [
    "messages = initialize_messages()\n",
    "make_conversation(messages, model, client)"
   ]
  },
  {
   "cell_type": "code",
   "execution_count": null,
   "id": "51c989c5-be83-44e9-b67d-d0c7fd1a695c",
   "metadata": {},
   "outputs": [],
   "source": [
    "bool(\"False\")"
   ]
  },
  {
   "cell_type": "code",
   "execution_count": null,
   "id": "5127997e-e32a-4ca1-928c-7bcc3f880858",
   "metadata": {},
   "outputs": [],
   "source": []
  }
 ],
 "metadata": {
  "kernelspec": {
   "display_name": "food-order-chat-bot",
   "language": "python",
   "name": "food-order-chat-bot"
  },
  "language_info": {
   "codemirror_mode": {
    "name": "ipython",
    "version": 3
   },
   "file_extension": ".py",
   "mimetype": "text/x-python",
   "name": "python",
   "nbconvert_exporter": "python",
   "pygments_lexer": "ipython3",
   "version": "3.9.20"
  }
 },
 "nbformat": 4,
 "nbformat_minor": 5
}
