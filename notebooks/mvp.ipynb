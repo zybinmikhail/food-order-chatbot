{
 "cells": [
  {
   "cell_type": "code",
   "execution_count": 1,
   "id": "1243c786-1a55-4e20-95d2-3be59d661f3b",
   "metadata": {},
   "outputs": [
    {
     "name": "stdout",
     "output_type": "stream",
     "text": [
      "/Users/mikhail_zybin/food-order-chat-bot/src\n"
     ]
    }
   ],
   "source": [
    "%cd ../src"
   ]
  },
  {
   "cell_type": "code",
   "execution_count": 2,
   "id": "cf7ee154-0edc-4cdb-ada0-7d2b1da0dda2",
   "metadata": {},
   "outputs": [],
   "source": [
    "import openai\n",
    "import pandas as pd"
   ]
  },
  {
   "cell_type": "code",
   "execution_count": 3,
   "id": "bbb5862c-70bb-4518-8912-6383fab8acb3",
   "metadata": {},
   "outputs": [],
   "source": [
    "from chatbot import (\n",
    "    initialize_system_prompt,\n",
    "    make_conversation,\n",
    "    initialize_messages,\n",
    ")"
   ]
  },
  {
   "cell_type": "code",
   "execution_count": 4,
   "id": "5b11678c-d6d7-47d1-b04c-18c3dd96a043",
   "metadata": {},
   "outputs": [],
   "source": [
    "api_base = \"https://llama3-1-8b-api.llm.lab.epam.com/v1\"\n",
    "model = \"meta-llama/Meta-Llama-3.1-8B-Instruct\"\n",
    "client = openai.OpenAI(api_key=\"***REMOVED***\", base_url=api_base)"
   ]
  },
  {
   "cell_type": "code",
   "execution_count": 5,
   "id": "f9e56888-5416-46a9-a90c-c9380df1a7b1",
   "metadata": {},
   "outputs": [
    {
     "name": "stdout",
     "output_type": "stream",
     "text": [
      "Chatbot: Hello, Dear Customer!\n",
      "\n",
      "I am food order chatbot! My function is to help you choose and order food from various cafes and restaurants.\n",
      "\n",
      "What would you like to eat today?\n",
      "You: "
     ]
    },
    {
     "name": "stdin",
     "output_type": "stream",
     "text": [
      " What kinds of cuisine can I order from you?\n"
     ]
    },
    {
     "name": "stderr",
     "output_type": "stream",
     "text": [
      "\u001b[32m2024-12-05 16:13:02.314\u001b[0m | \u001b[34m\u001b[1mDEBUG   \u001b[0m | \u001b[36mchatbot\u001b[0m:\u001b[36mget_next_ai_message\u001b[0m:\u001b[36m106\u001b[0m - \u001b[34m\u001b[1mDetermining the chosen restaurant...\u001b[0m\n",
      "\u001b[32m2024-12-05 16:13:04.562\u001b[0m | \u001b[34m\u001b[1mDEBUG   \u001b[0m | \u001b[36mchatbot\u001b[0m:\u001b[36mparse_llm_json\u001b[0m:\u001b[36m33\u001b[0m - \u001b[34m\u001b[1m{\n",
      "  \"restaurant_name\": \"\"\n",
      "}\u001b[0m\n",
      "\u001b[32m2024-12-05 16:13:04.564\u001b[0m | \u001b[34m\u001b[1mDEBUG   \u001b[0m | \u001b[36mchatbot\u001b[0m:\u001b[36mget_next_ai_message\u001b[0m:\u001b[36m109\u001b[0m - \u001b[34m\u001b[1mHere is the determined chosen restaurant:\u001b[0m\n",
      "\u001b[32m2024-12-05 16:13:04.564\u001b[0m | \u001b[34m\u001b[1mDEBUG   \u001b[0m | \u001b[36mchatbot\u001b[0m:\u001b[36mget_next_ai_message\u001b[0m:\u001b[36m111\u001b[0m - \u001b[34m\u001b[1mDetermining the chosen dishes...\u001b[0m\n",
      "\u001b[32m2024-12-05 16:13:07.063\u001b[0m | \u001b[34m\u001b[1mDEBUG   \u001b[0m | \u001b[36mchatbot\u001b[0m:\u001b[36mparse_llm_json\u001b[0m:\u001b[36m33\u001b[0m - \u001b[34m\u001b[1m```json\n",
      "{\n",
      "  \"dish_names\": [],\n",
      "  \"dish_quantities\": []\n",
      "}\n",
      "```\n",
      "\n",
      "The user has not provided any information about what dishes they want to order.\u001b[0m\n",
      "\u001b[32m2024-12-05 16:13:07.065\u001b[0m | \u001b[34m\u001b[1mDEBUG   \u001b[0m | \u001b[36mchatbot\u001b[0m:\u001b[36mget_next_ai_message\u001b[0m:\u001b[36m114\u001b[0m - \u001b[34m\u001b[1mHere are the determined dishes:\u001b[0m\n",
      "\u001b[32m2024-12-05 16:13:07.067\u001b[0m | \u001b[34m\u001b[1mDEBUG   \u001b[0m | \u001b[36mchatbot\u001b[0m:\u001b[36mget_next_ai_message\u001b[0m:\u001b[36m116\u001b[0m - \u001b[34m\u001b[1mDetermining the delivery time...\u001b[0m\n",
      "\u001b[32m2024-12-05 16:13:08.613\u001b[0m | \u001b[34m\u001b[1mDEBUG   \u001b[0m | \u001b[36mchatbot\u001b[0m:\u001b[36mparse_llm_json\u001b[0m:\u001b[36m33\u001b[0m - \u001b[34m\u001b[1m{\n",
      "  \"delivery_time\": \"\"\n",
      "}\u001b[0m\n",
      "\u001b[32m2024-12-05 16:13:08.615\u001b[0m | \u001b[34m\u001b[1mDEBUG   \u001b[0m | \u001b[36mchatbot\u001b[0m:\u001b[36mget_next_ai_message\u001b[0m:\u001b[36m119\u001b[0m - \u001b[34m\u001b[1mHere is the delivery time:\u001b[0m\n"
     ]
    },
    {
     "name": "stdout",
     "output_type": "stream",
     "text": [
      "Chatbot: We have a variety of cuisines to choose from. Our restaurants offer:\n",
      "\n",
      "1. Japanese cuisine at Nippon\n",
      "2. Burgers at Burger Shef\n",
      "3. Thai cuisine at Sukhothai\n",
      "4. Italian cuisine at Roman Holiday\n",
      "5. Georgian cuisine at Gagimarjos\n",
      "\n",
      "Which type of cuisine are you in the mood for today?\n",
      "You: "
     ]
    },
    {
     "name": "stdin",
     "output_type": "stream",
     "text": [
      " Can I order from multiple restaurants at once?\n"
     ]
    },
    {
     "name": "stderr",
     "output_type": "stream",
     "text": [
      "\u001b[32m2024-12-05 16:13:38.610\u001b[0m | \u001b[34m\u001b[1mDEBUG   \u001b[0m | \u001b[36mchatbot\u001b[0m:\u001b[36mget_next_ai_message\u001b[0m:\u001b[36m106\u001b[0m - \u001b[34m\u001b[1mDetermining the chosen restaurant...\u001b[0m\n",
      "\u001b[32m2024-12-05 16:13:46.050\u001b[0m | \u001b[34m\u001b[1mDEBUG   \u001b[0m | \u001b[36mchatbot\u001b[0m:\u001b[36mparse_llm_json\u001b[0m:\u001b[36m33\u001b[0m - \u001b[34m\u001b[1mBased on the conversation, the user has not explicitly chosen a restaurant. However, they have shown interest in different cuisines, which can be used to infer their preferences.\n",
      "\n",
      "From the conversation, we can see that the user is interested in:\n",
      "\n",
      "* Japanese cuisine (mentioned in the first message)\n",
      "* Burgers (mentioned in the second message)\n",
      "* Thai cuisine (mentioned in the second message)\n",
      "* Italian cuisine (mentioned in the second message)\n",
      "* Georgian cuisine (mentioned in the second message)\n",
      "\n",
      "However, the user has not chosen a specific restaurant. They have asked about ordering from multiple restaurants at once, but this is not a clear indication of their preference.\n",
      "\n",
      "Therefore, the output will be an empty string, indicating that the user has not chosen a restaurant.\n",
      "\n",
      "```json\n",
      "{\n",
      "  \"restaurant_name\": \"\"\n",
      "}\n",
      "```\u001b[0m\n",
      "\u001b[32m2024-12-05 16:13:46.053\u001b[0m | \u001b[34m\u001b[1mDEBUG   \u001b[0m | \u001b[36mchatbot\u001b[0m:\u001b[36mget_next_ai_message\u001b[0m:\u001b[36m109\u001b[0m - \u001b[34m\u001b[1mHere is the determined chosen restaurant:\u001b[0m\n",
      "\u001b[32m2024-12-05 16:13:46.054\u001b[0m | \u001b[34m\u001b[1mDEBUG   \u001b[0m | \u001b[36mchatbot\u001b[0m:\u001b[36mget_next_ai_message\u001b[0m:\u001b[36m111\u001b[0m - \u001b[34m\u001b[1mDetermining the chosen dishes...\u001b[0m\n",
      "\u001b[32m2024-12-05 16:13:48.035\u001b[0m | \u001b[34m\u001b[1mDEBUG   \u001b[0m | \u001b[36mchatbot\u001b[0m:\u001b[36mparse_llm_json\u001b[0m:\u001b[36m33\u001b[0m - \u001b[34m\u001b[1m```json\n",
      "{\n",
      "  \"dish_names\": [],\n",
      "  \"dish_quantities\": []\n",
      "}\n",
      "```\u001b[0m\n",
      "\u001b[32m2024-12-05 16:13:48.038\u001b[0m | \u001b[34m\u001b[1mDEBUG   \u001b[0m | \u001b[36mchatbot\u001b[0m:\u001b[36mget_next_ai_message\u001b[0m:\u001b[36m114\u001b[0m - \u001b[34m\u001b[1mHere are the determined dishes:\u001b[0m\n",
      "\u001b[32m2024-12-05 16:13:48.039\u001b[0m | \u001b[34m\u001b[1mDEBUG   \u001b[0m | \u001b[36mchatbot\u001b[0m:\u001b[36mget_next_ai_message\u001b[0m:\u001b[36m116\u001b[0m - \u001b[34m\u001b[1mDetermining the delivery time...\u001b[0m\n",
      "\u001b[32m2024-12-05 16:13:49.613\u001b[0m | \u001b[34m\u001b[1mDEBUG   \u001b[0m | \u001b[36mchatbot\u001b[0m:\u001b[36mparse_llm_json\u001b[0m:\u001b[36m33\u001b[0m - \u001b[34m\u001b[1m{\n",
      "  \"delivery_time\": \"\"\n",
      "}\u001b[0m\n",
      "\u001b[32m2024-12-05 16:13:49.616\u001b[0m | \u001b[34m\u001b[1mDEBUG   \u001b[0m | \u001b[36mchatbot\u001b[0m:\u001b[36mget_next_ai_message\u001b[0m:\u001b[36m119\u001b[0m - \u001b[34m\u001b[1mHere is the delivery time:\u001b[0m\n"
     ]
    },
    {
     "name": "stdout",
     "output_type": "stream",
     "text": [
      "Chatbot: Unfortunately, we can only process orders from one restaurant at a time. However, I can help you choose the best restaurant for your order based on the dishes you want to order.\n",
      "\n",
      "So, let's focus on one restaurant at a time. Which cuisine are you interested in ordering from?\n",
      "You: "
     ]
    },
    {
     "name": "stdin",
     "output_type": "stream",
     "text": [
      " What are the three most popular Georgian dishes?\n"
     ]
    },
    {
     "name": "stderr",
     "output_type": "stream",
     "text": [
      "\u001b[32m2024-12-05 16:14:44.395\u001b[0m | \u001b[34m\u001b[1mDEBUG   \u001b[0m | \u001b[36mchatbot\u001b[0m:\u001b[36mget_next_ai_message\u001b[0m:\u001b[36m106\u001b[0m - \u001b[34m\u001b[1mDetermining the chosen restaurant...\u001b[0m\n",
      "\u001b[32m2024-12-05 16:14:49.304\u001b[0m | \u001b[34m\u001b[1mDEBUG   \u001b[0m | \u001b[36mchatbot\u001b[0m:\u001b[36mparse_llm_json\u001b[0m:\u001b[36m33\u001b[0m - \u001b[34m\u001b[1mBased on the conversation, the user has not explicitly chosen a restaurant. However, they have shown interest in Georgian cuisine, which is offered by Gagimarjos.\n",
      "\n",
      "Since the user has chosen a specific dish (\"Khachapuri\") which is available at Gagimarjos, it can be inferred that they have chosen Gagimarjos as the restaurant.\n",
      "\n",
      "```json\n",
      "{\n",
      "  \"restaurant_name\": \"Gagimarjos\"\n",
      "}\n",
      "```\u001b[0m\n",
      "\u001b[32m2024-12-05 16:14:49.305\u001b[0m | \u001b[34m\u001b[1mDEBUG   \u001b[0m | \u001b[36mchatbot\u001b[0m:\u001b[36mget_next_ai_message\u001b[0m:\u001b[36m109\u001b[0m - \u001b[34m\u001b[1mHere is the determined chosen restaurant:\u001b[0m\n",
      "\u001b[32m2024-12-05 16:14:49.306\u001b[0m | \u001b[34m\u001b[1mDEBUG   \u001b[0m | \u001b[36mchatbot\u001b[0m:\u001b[36mget_next_ai_message\u001b[0m:\u001b[36m111\u001b[0m - \u001b[34m\u001b[1mDetermining the chosen dishes...\u001b[0m\n",
      "\u001b[32m2024-12-05 16:14:51.302\u001b[0m | \u001b[34m\u001b[1mDEBUG   \u001b[0m | \u001b[36mchatbot\u001b[0m:\u001b[36mparse_llm_json\u001b[0m:\u001b[36m33\u001b[0m - \u001b[34m\u001b[1m```json\n",
      "{\n",
      "  \"dish_names\": [],\n",
      "  \"dish_quantities\": []\n",
      "}\n",
      "```\u001b[0m\n",
      "\u001b[32m2024-12-05 16:14:51.303\u001b[0m | \u001b[34m\u001b[1mDEBUG   \u001b[0m | \u001b[36mchatbot\u001b[0m:\u001b[36mget_next_ai_message\u001b[0m:\u001b[36m114\u001b[0m - \u001b[34m\u001b[1mHere are the determined dishes:\u001b[0m\n",
      "\u001b[32m2024-12-05 16:14:51.304\u001b[0m | \u001b[34m\u001b[1mDEBUG   \u001b[0m | \u001b[36mchatbot\u001b[0m:\u001b[36mget_next_ai_message\u001b[0m:\u001b[36m116\u001b[0m - \u001b[34m\u001b[1mDetermining the delivery time...\u001b[0m\n",
      "\u001b[32m2024-12-05 16:14:52.888\u001b[0m | \u001b[34m\u001b[1mDEBUG   \u001b[0m | \u001b[36mchatbot\u001b[0m:\u001b[36mparse_llm_json\u001b[0m:\u001b[36m33\u001b[0m - \u001b[34m\u001b[1m{\n",
      "  \"delivery_time\": \"\"\n",
      "}\u001b[0m\n",
      "\u001b[32m2024-12-05 16:14:52.891\u001b[0m | \u001b[34m\u001b[1mDEBUG   \u001b[0m | \u001b[36mchatbot\u001b[0m:\u001b[36mget_next_ai_message\u001b[0m:\u001b[36m119\u001b[0m - \u001b[34m\u001b[1mHere is the delivery time:\u001b[0m\n"
     ]
    },
    {
     "name": "stdout",
     "output_type": "stream",
     "text": [
      "Chatbot: Georgian cuisine is delicious and rich in flavors. Based on our menu, the three most popular Georgian dishes at Gagimarjos are:\n",
      "\n",
      "1. **Khachapuri** - a cheese-filled bread topped with an egg and butter\n",
      "2. **Khinkali** - juicy dumplings filled with spiced meat or vegetables\n",
      "3. **Satsivi** - chicken or turkey in a walnut sauce, served with bread or rice\n",
      "\n",
      "Would you like to order from Gagimarjos or explore other cuisines?\n",
      "You: "
     ]
    },
    {
     "name": "stdin",
     "output_type": "stream",
     "text": [
      " I want 3 portions of Khachapuri and 15 portions of Khinkali\n"
     ]
    },
    {
     "name": "stderr",
     "output_type": "stream",
     "text": [
      "\u001b[32m2024-12-05 16:21:06.611\u001b[0m | \u001b[34m\u001b[1mDEBUG   \u001b[0m | \u001b[36mchatbot\u001b[0m:\u001b[36mget_next_ai_message\u001b[0m:\u001b[36m106\u001b[0m - \u001b[34m\u001b[1mDetermining the chosen restaurant...\u001b[0m\n",
      "\u001b[32m2024-12-05 16:21:09.155\u001b[0m | \u001b[34m\u001b[1mDEBUG   \u001b[0m | \u001b[36mchatbot\u001b[0m:\u001b[36mparse_llm_json\u001b[0m:\u001b[36m33\u001b[0m - \u001b[34m\u001b[1m{\n",
      "  \"restaurant_name\": \"Gagimarjos\"\n",
      "}\u001b[0m\n",
      "\u001b[32m2024-12-05 16:21:09.158\u001b[0m | \u001b[34m\u001b[1mDEBUG   \u001b[0m | \u001b[36mchatbot\u001b[0m:\u001b[36mget_next_ai_message\u001b[0m:\u001b[36m109\u001b[0m - \u001b[34m\u001b[1mHere is the determined chosen restaurant:\u001b[0m\n",
      "\u001b[32m2024-12-05 16:21:09.159\u001b[0m | \u001b[34m\u001b[1mDEBUG   \u001b[0m | \u001b[36mchatbot\u001b[0m:\u001b[36mget_next_ai_message\u001b[0m:\u001b[36m111\u001b[0m - \u001b[34m\u001b[1mDetermining the chosen dishes...\u001b[0m\n",
      "\u001b[32m2024-12-05 16:21:11.737\u001b[0m | \u001b[34m\u001b[1mDEBUG   \u001b[0m | \u001b[36mchatbot\u001b[0m:\u001b[36mparse_llm_json\u001b[0m:\u001b[36m33\u001b[0m - \u001b[34m\u001b[1m```json\n",
      "{\n",
      "  \"dish_names\": [\"Khachapuri\", \"Khinkali\"],\n",
      "  \"dish_quantities\": [3, 15]\n",
      "}\n",
      "```\u001b[0m\n",
      "\u001b[32m2024-12-05 16:21:11.738\u001b[0m | \u001b[34m\u001b[1mDEBUG   \u001b[0m | \u001b[36mchatbot\u001b[0m:\u001b[36mget_next_ai_message\u001b[0m:\u001b[36m114\u001b[0m - \u001b[34m\u001b[1mHere are the determined dishes:\u001b[0m\n",
      "\u001b[32m2024-12-05 16:21:11.739\u001b[0m | \u001b[34m\u001b[1mDEBUG   \u001b[0m | \u001b[36mchatbot\u001b[0m:\u001b[36mget_next_ai_message\u001b[0m:\u001b[36m116\u001b[0m - \u001b[34m\u001b[1mDetermining the delivery time...\u001b[0m\n",
      "\u001b[32m2024-12-05 16:21:13.373\u001b[0m | \u001b[34m\u001b[1mDEBUG   \u001b[0m | \u001b[36mchatbot\u001b[0m:\u001b[36mparse_llm_json\u001b[0m:\u001b[36m33\u001b[0m - \u001b[34m\u001b[1m{\n",
      "  \"delivery_time\": \"\"\n",
      "}\u001b[0m\n",
      "\u001b[32m2024-12-05 16:21:13.374\u001b[0m | \u001b[34m\u001b[1mDEBUG   \u001b[0m | \u001b[36mchatbot\u001b[0m:\u001b[36mget_next_ai_message\u001b[0m:\u001b[36m119\u001b[0m - \u001b[34m\u001b[1mHere is the delivery time:\u001b[0m\n"
     ]
    },
    {
     "name": "stdout",
     "output_type": "stream",
     "text": [
      "Chatbot: Based on your order, I'd like to confirm the following:\n",
      "\n",
      "* 3 portions of **Khachapuri** (cheese-filled bread) from Gagimarjos\n",
      "* 15 portions of **Khinkali** (juicy dumplings) from Gagimarjos\n",
      "\n",
      "Before I proceed, I'd like to confirm the total number of portions. You've ordered a total of 18 portions (3 Khachapuri + 15 Khinkali).\n",
      "\n",
      "Also, I'd like to confirm that you'd like to order from Gagimarjos, which serves Georgian cuisine.\n",
      "\n",
      "Is everything correct?\n",
      "You: "
     ]
    },
    {
     "name": "stdin",
     "output_type": "stream",
     "text": [
      " Yes\n"
     ]
    },
    {
     "name": "stderr",
     "output_type": "stream",
     "text": [
      "\u001b[32m2024-12-05 16:22:03.560\u001b[0m | \u001b[34m\u001b[1mDEBUG   \u001b[0m | \u001b[36mchatbot\u001b[0m:\u001b[36mget_next_ai_message\u001b[0m:\u001b[36m106\u001b[0m - \u001b[34m\u001b[1mDetermining the chosen restaurant...\u001b[0m\n",
      "\u001b[32m2024-12-05 16:22:05.987\u001b[0m | \u001b[34m\u001b[1mDEBUG   \u001b[0m | \u001b[36mchatbot\u001b[0m:\u001b[36mparse_llm_json\u001b[0m:\u001b[36m33\u001b[0m - \u001b[34m\u001b[1m{\n",
      "  \"restaurant_name\": \"Gagimarjos\"\n",
      "}\u001b[0m\n",
      "\u001b[32m2024-12-05 16:22:05.990\u001b[0m | \u001b[34m\u001b[1mDEBUG   \u001b[0m | \u001b[36mchatbot\u001b[0m:\u001b[36mget_next_ai_message\u001b[0m:\u001b[36m109\u001b[0m - \u001b[34m\u001b[1mHere is the determined chosen restaurant:\u001b[0m\n",
      "\u001b[32m2024-12-05 16:22:05.991\u001b[0m | \u001b[34m\u001b[1mDEBUG   \u001b[0m | \u001b[36mchatbot\u001b[0m:\u001b[36mget_next_ai_message\u001b[0m:\u001b[36m111\u001b[0m - \u001b[34m\u001b[1mDetermining the chosen dishes...\u001b[0m\n",
      "\u001b[32m2024-12-05 16:22:08.602\u001b[0m | \u001b[34m\u001b[1mDEBUG   \u001b[0m | \u001b[36mchatbot\u001b[0m:\u001b[36mparse_llm_json\u001b[0m:\u001b[36m33\u001b[0m - \u001b[34m\u001b[1m```json\n",
      "{\n",
      "  \"dish_names\": [\"Khachapuri\", \"Khinkali\"],\n",
      "  \"dish_quantities\": [3, 15]\n",
      "}\n",
      "```\u001b[0m\n",
      "\u001b[32m2024-12-05 16:22:08.605\u001b[0m | \u001b[34m\u001b[1mDEBUG   \u001b[0m | \u001b[36mchatbot\u001b[0m:\u001b[36mget_next_ai_message\u001b[0m:\u001b[36m114\u001b[0m - \u001b[34m\u001b[1mHere are the determined dishes:\u001b[0m\n",
      "\u001b[32m2024-12-05 16:22:08.606\u001b[0m | \u001b[34m\u001b[1mDEBUG   \u001b[0m | \u001b[36mchatbot\u001b[0m:\u001b[36mget_next_ai_message\u001b[0m:\u001b[36m116\u001b[0m - \u001b[34m\u001b[1mDetermining the delivery time...\u001b[0m\n",
      "\u001b[32m2024-12-05 16:22:10.304\u001b[0m | \u001b[34m\u001b[1mDEBUG   \u001b[0m | \u001b[36mchatbot\u001b[0m:\u001b[36mparse_llm_json\u001b[0m:\u001b[36m33\u001b[0m - \u001b[34m\u001b[1m{\n",
      "  \"delivery_time\": \"\"\n",
      "}\u001b[0m\n",
      "\u001b[32m2024-12-05 16:22:10.307\u001b[0m | \u001b[34m\u001b[1mDEBUG   \u001b[0m | \u001b[36mchatbot\u001b[0m:\u001b[36mget_next_ai_message\u001b[0m:\u001b[36m119\u001b[0m - \u001b[34m\u001b[1mHere is the delivery time:\u001b[0m\n"
     ]
    },
    {
     "name": "stdout",
     "output_type": "stream",
     "text": [
      "Chatbot: I'll proceed with your order.\n",
      "\n",
      "To confirm, you'd like to order:\n",
      "\n",
      "* 3 portions of **Khachapuri** (cheese-filled bread) from Gagimarjos\n",
      "* 15 portions of **Khinkali** (juicy dumplings) from Gagimarjos\n",
      "\n",
      "Next, I need to know when you'd like to receive your order. Would you like it delivered within the next hour, or would you prefer a specific time today or tomorrow?\n",
      "You: "
     ]
    },
    {
     "name": "stdin",
     "output_type": "stream",
     "text": [
      " within the next hour, please\n"
     ]
    },
    {
     "name": "stderr",
     "output_type": "stream",
     "text": [
      "\u001b[32m2024-12-05 16:22:29.205\u001b[0m | \u001b[34m\u001b[1mDEBUG   \u001b[0m | \u001b[36mchatbot\u001b[0m:\u001b[36mget_next_ai_message\u001b[0m:\u001b[36m106\u001b[0m - \u001b[34m\u001b[1mDetermining the chosen restaurant...\u001b[0m\n",
      "\u001b[32m2024-12-05 16:22:31.680\u001b[0m | \u001b[34m\u001b[1mDEBUG   \u001b[0m | \u001b[36mchatbot\u001b[0m:\u001b[36mparse_llm_json\u001b[0m:\u001b[36m33\u001b[0m - \u001b[34m\u001b[1m{\n",
      "  \"restaurant_name\": \"Gagimarjos\"\n",
      "}\u001b[0m\n",
      "\u001b[32m2024-12-05 16:22:31.683\u001b[0m | \u001b[34m\u001b[1mDEBUG   \u001b[0m | \u001b[36mchatbot\u001b[0m:\u001b[36mget_next_ai_message\u001b[0m:\u001b[36m109\u001b[0m - \u001b[34m\u001b[1mHere is the determined chosen restaurant:\u001b[0m\n",
      "\u001b[32m2024-12-05 16:22:31.684\u001b[0m | \u001b[34m\u001b[1mDEBUG   \u001b[0m | \u001b[36mchatbot\u001b[0m:\u001b[36mget_next_ai_message\u001b[0m:\u001b[36m111\u001b[0m - \u001b[34m\u001b[1mDetermining the chosen dishes...\u001b[0m\n",
      "\u001b[32m2024-12-05 16:22:34.332\u001b[0m | \u001b[34m\u001b[1mDEBUG   \u001b[0m | \u001b[36mchatbot\u001b[0m:\u001b[36mparse_llm_json\u001b[0m:\u001b[36m33\u001b[0m - \u001b[34m\u001b[1m```json\n",
      "{\n",
      "  \"dish_names\": [\"Khachapuri\", \"Khinkali\"],\n",
      "  \"dish_quantities\": [3, 15]\n",
      "}\n",
      "```\u001b[0m\n",
      "\u001b[32m2024-12-05 16:22:34.335\u001b[0m | \u001b[34m\u001b[1mDEBUG   \u001b[0m | \u001b[36mchatbot\u001b[0m:\u001b[36mget_next_ai_message\u001b[0m:\u001b[36m114\u001b[0m - \u001b[34m\u001b[1mHere are the determined dishes:\u001b[0m\n",
      "\u001b[32m2024-12-05 16:22:34.336\u001b[0m | \u001b[34m\u001b[1mDEBUG   \u001b[0m | \u001b[36mchatbot\u001b[0m:\u001b[36mget_next_ai_message\u001b[0m:\u001b[36m116\u001b[0m - \u001b[34m\u001b[1mDetermining the delivery time...\u001b[0m\n",
      "\u001b[32m2024-12-05 16:22:36.287\u001b[0m | \u001b[34m\u001b[1mDEBUG   \u001b[0m | \u001b[36mchatbot\u001b[0m:\u001b[36mparse_llm_json\u001b[0m:\u001b[36m33\u001b[0m - \u001b[34m\u001b[1m{\n",
      "  \"delivery_time\": \"within the next hour, please\"\n",
      "}\u001b[0m\n",
      "\u001b[32m2024-12-05 16:22:36.290\u001b[0m | \u001b[34m\u001b[1mDEBUG   \u001b[0m | \u001b[36mchatbot\u001b[0m:\u001b[36mget_next_ai_message\u001b[0m:\u001b[36m119\u001b[0m - \u001b[34m\u001b[1mHere is the delivery time:\u001b[0m\n"
     ]
    },
    {
     "name": "stdout",
     "output_type": "stream",
     "text": [
      "Chatbot: You have chosen to order 3 portions of Khachapuri, 15 portions of Khinkali from Gagimarjos by within the next hour, please. Is that correct?\n",
      "You: "
     ]
    },
    {
     "name": "stdin",
     "output_type": "stream",
     "text": [
      " totally\n"
     ]
    },
    {
     "name": "stderr",
     "output_type": "stream",
     "text": [
      "\u001b[32m2024-12-05 16:22:43.076\u001b[0m | \u001b[34m\u001b[1mDEBUG   \u001b[0m | \u001b[36mchatbot\u001b[0m:\u001b[36mget_next_ai_message\u001b[0m:\u001b[36m106\u001b[0m - \u001b[34m\u001b[1mDetermining the chosen restaurant...\u001b[0m\n",
      "\u001b[32m2024-12-05 16:22:45.562\u001b[0m | \u001b[34m\u001b[1mDEBUG   \u001b[0m | \u001b[36mchatbot\u001b[0m:\u001b[36mparse_llm_json\u001b[0m:\u001b[36m33\u001b[0m - \u001b[34m\u001b[1m{\n",
      "  \"restaurant_name\": \"Gagimarjos\"\n",
      "}\u001b[0m\n",
      "\u001b[32m2024-12-05 16:22:45.564\u001b[0m | \u001b[34m\u001b[1mDEBUG   \u001b[0m | \u001b[36mchatbot\u001b[0m:\u001b[36mget_next_ai_message\u001b[0m:\u001b[36m109\u001b[0m - \u001b[34m\u001b[1mHere is the determined chosen restaurant:\u001b[0m\n",
      "\u001b[32m2024-12-05 16:22:45.565\u001b[0m | \u001b[34m\u001b[1mDEBUG   \u001b[0m | \u001b[36mchatbot\u001b[0m:\u001b[36mget_next_ai_message\u001b[0m:\u001b[36m111\u001b[0m - \u001b[34m\u001b[1mDetermining the chosen dishes...\u001b[0m\n",
      "\u001b[32m2024-12-05 16:22:48.222\u001b[0m | \u001b[34m\u001b[1mDEBUG   \u001b[0m | \u001b[36mchatbot\u001b[0m:\u001b[36mparse_llm_json\u001b[0m:\u001b[36m33\u001b[0m - \u001b[34m\u001b[1m```json\n",
      "{\n",
      "  \"dish_names\": [\"Khachapuri\", \"Khinkali\"],\n",
      "  \"dish_quantities\": [3, 15]\n",
      "}\n",
      "```\u001b[0m\n",
      "\u001b[32m2024-12-05 16:22:48.223\u001b[0m | \u001b[34m\u001b[1mDEBUG   \u001b[0m | \u001b[36mchatbot\u001b[0m:\u001b[36mget_next_ai_message\u001b[0m:\u001b[36m114\u001b[0m - \u001b[34m\u001b[1mHere are the determined dishes:\u001b[0m\n",
      "\u001b[32m2024-12-05 16:22:48.224\u001b[0m | \u001b[34m\u001b[1mDEBUG   \u001b[0m | \u001b[36mchatbot\u001b[0m:\u001b[36mget_next_ai_message\u001b[0m:\u001b[36m116\u001b[0m - \u001b[34m\u001b[1mDetermining the delivery time...\u001b[0m\n",
      "\u001b[32m2024-12-05 16:22:50.199\u001b[0m | \u001b[34m\u001b[1mDEBUG   \u001b[0m | \u001b[36mchatbot\u001b[0m:\u001b[36mparse_llm_json\u001b[0m:\u001b[36m33\u001b[0m - \u001b[34m\u001b[1m{\n",
      "  \"delivery_time\": \"within the next hour, please\"\n",
      "}\u001b[0m\n",
      "\u001b[32m2024-12-05 16:22:50.201\u001b[0m | \u001b[34m\u001b[1mDEBUG   \u001b[0m | \u001b[36mchatbot\u001b[0m:\u001b[36mget_next_ai_message\u001b[0m:\u001b[36m119\u001b[0m - \u001b[34m\u001b[1mHere is the delivery time:\u001b[0m\n",
      "\u001b[32m2024-12-05 16:22:50.203\u001b[0m | \u001b[34m\u001b[1mDEBUG   \u001b[0m | \u001b[36mchatbot\u001b[0m:\u001b[36mget_next_ai_message\u001b[0m:\u001b[36m123\u001b[0m - \u001b[34m\u001b[1mDetermining if the order is made and confirmed\u001b[0m\n",
      "\u001b[32m2024-12-05 16:22:50.794\u001b[0m | \u001b[34m\u001b[1mDEBUG   \u001b[0m | \u001b[36mchatbot\u001b[0m:\u001b[36mparse_llm_json\u001b[0m:\u001b[36m33\u001b[0m - \u001b[34m\u001b[1m{\n",
      "  \"meaning\": 1\n",
      "}\u001b[0m\n",
      "\u001b[32m2024-12-05 16:22:50.797\u001b[0m | \u001b[34m\u001b[1mDEBUG   \u001b[0m | \u001b[36mchatbot\u001b[0m:\u001b[36mget_next_ai_message\u001b[0m:\u001b[36m126\u001b[0m - \u001b[34m\u001b[1mIs the conversation finished\u001b[0m\n"
     ]
    },
    {
     "name": "stdout",
     "output_type": "stream",
     "text": [
      "Your order of 3 portions of Khachapuri, 15 portions of Khinkali from Gagimarjos was successfully received and will be delivered to you by within the next hour, please\n"
     ]
    }
   ],
   "source": [
    "messages = initialize_messages()\n",
    "make_conversation(messages, model, client)"
   ]
  }
 ],
 "metadata": {
  "kernelspec": {
   "display_name": "food-order-chat-bot",
   "language": "python",
   "name": "food-order-chat-bot"
  },
  "language_info": {
   "codemirror_mode": {
    "name": "ipython",
    "version": 3
   },
   "file_extension": ".py",
   "mimetype": "text/x-python",
   "name": "python",
   "nbconvert_exporter": "python",
   "pygments_lexer": "ipython3",
   "version": "3.9.20"
  }
 },
 "nbformat": 4,
 "nbformat_minor": 5
}
