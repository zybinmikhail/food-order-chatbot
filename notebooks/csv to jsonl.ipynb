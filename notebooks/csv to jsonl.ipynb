{
 "cells": [
  {
   "cell_type": "code",
   "execution_count": 4,
   "id": "5dc3c54f-32e7-499e-aa06-3aca3f136fb7",
   "metadata": {},
   "outputs": [],
   "source": [
    "import pandas as pd\n",
    "from pathlib import Path"
   ]
  },
  {
   "cell_type": "code",
   "execution_count": 12,
   "id": "c2882254-8fab-47df-abef-e724085a220f",
   "metadata": {},
   "outputs": [],
   "source": [
    "for filename in Path(\"../data\").glob(\"*.csv\"):\n",
    "    data = pd.read_csv(filename, sep=\";\")\n",
    "    with open(filename.with_suffix(\".jsonl\"), \"w\") as fout:\n",
    "        fout.write(data.to_json(orient=\"records\", lines=True))"
   ]
  },
  {
   "cell_type": "code",
   "execution_count": 8,
   "id": "f1d05112-ba05-47a9-a17a-ea785407d882",
   "metadata": {},
   "outputs": [],
   "source": [
    "with open(\"../data/restaurants.jsonl\") as fin:\n",
    "    descriptions = fin.readlines()"
   ]
  },
  {
   "cell_type": "code",
   "execution_count": 9,
   "id": "214925da-d7f8-4378-9c2f-0b735afbdc84",
   "metadata": {},
   "outputs": [
    {
     "data": {
      "text/plain": [
       "['Nippon', 'Burger Shef', 'Sukhothai', 'Roman Holiday', 'Gagimarjos']"
      ]
     },
     "execution_count": 9,
     "metadata": {},
     "output_type": "execute_result"
    }
   ],
   "source": [
    "[eval(description)[\"name\"] for description in descriptions]"
   ]
  },
  {
   "cell_type": "code",
   "execution_count": null,
   "id": "d6588135-e237-44a9-8225-4392a7076da1",
   "metadata": {},
   "outputs": [],
   "source": []
  }
 ],
 "metadata": {
  "kernelspec": {
   "display_name": "food-order-chat-bot",
   "language": "python",
   "name": "food-order-chat-bot"
  },
  "language_info": {
   "codemirror_mode": {
    "name": "ipython",
    "version": 3
   },
   "file_extension": ".py",
   "mimetype": "text/x-python",
   "name": "python",
   "nbconvert_exporter": "python",
   "pygments_lexer": "ipython3",
   "version": "3.9.20"
  }
 },
 "nbformat": 4,
 "nbformat_minor": 5
}
