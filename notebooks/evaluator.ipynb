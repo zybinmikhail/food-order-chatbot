{
 "cells": [
  {
   "cell_type": "code",
   "execution_count": null,
   "id": "52897c0b-d019-4564-999d-6cd92b63565f",
   "metadata": {},
   "outputs": [],
   "source": [
    "%cd ../\n",
    "%load_ext autoreload\n",
    "%autoreload 2\n",
    "\n",
    "import numpy as np\n",
    "from loguru import logger\n",
    "from datetime import datetime\n",
    "import sys\n",
    "\n",
    "sys.path.append(\"src/\")\n",
    "import evaluator\n",
    "import toml"
   ]
  },
  {
   "cell_type": "code",
   "execution_count": null,
   "id": "0176dc9c",
   "metadata": {},
   "outputs": [],
   "source": [
    "secrets = toml.load(\".streamlit/secrets.toml\")\n",
    "chatbot_model = secrets[\"launch_parameters\"][\"chatbot_model\"]\n",
    "chatbot_model_dict = {\n",
    "    \"model\": chatbot_model,\n",
    "    \"api_base\": secrets[\"api_bases\"][chatbot_model],\n",
    "    \"api_key\": secrets[\"api_keys\"][chatbot_model],\n",
    "}\n",
    "analyzer_model = secrets[\"launch_parameters\"][\"analyzer_model\"]\n",
    "analyzer_model_dict = {\n",
    "    \"model\": analyzer_model,\n",
    "    \"api_base\": secrets[\"api_bases\"][analyzer_model],\n",
    "    \"api_key\": secrets[\"api_keys\"][analyzer_model],\n",
    "}\n",
    "evaluator_model = secrets[\"launch_parameters\"][\"evaluator_model\"]\n",
    "evaluator_model_dict = {\n",
    "    \"model\": analyzer_model,\n",
    "    \"api_base\": secrets[\"api_bases\"][evaluator_model],\n",
    "    \"api_key\": secrets[\"api_keys\"][evaluator_model],\n",
    "}\n",
    "provocator_model = secrets[\"launch_parameters\"][\"provocator_model\"]\n",
    "provocator_model_dict = {\n",
    "    \"model\": analyzer_model,\n",
    "    \"api_base\": secrets[\"api_bases\"][provocator_model],\n",
    "    \"api_key\": secrets[\"api_keys\"][provocator_model],\n",
    "}\n",
    "model_dicts = [chatbot_model_dict, analyzer_model_dict, evaluator_model_dict]"
   ]
  },
  {
   "cell_type": "code",
   "execution_count": null,
   "id": "6de4222f",
   "metadata": {},
   "outputs": [],
   "source": [
    "provocator_modes = [\n",
    "    \"hacker that wants to jailbreak the chatbot\",\n",
    "    \"a person that types with a lot of typos and grammar mistakes\",\n",
    "    \"a person who wants to make fun out of the chatbot\",\n",
    "]\n",
    "use_provocator = secrets[\"launch_parameters\"][\"use_provocator\"]\n",
    "provocator_mode = secrets[\"launch_parameters\"][\"provocator_mode\"]\n",
    "if use_provocator:\n",
    "    model_dicts.append(provocator_model_dict)"
   ]
  },
  {
   "cell_type": "code",
   "execution_count": null,
   "id": "951c06eb-ec94-469c-800a-15847284cece",
   "metadata": {
    "scrolled": true
   },
   "outputs": [],
   "source": [
    "factual_correctness_list = []\n",
    "appropriateness_list = []\n",
    "for i in range(1, 20):\n",
    "    now = datetime.now()\n",
    "    formatted_now = now.strftime(\"%Y-%m-%d_%H:%M:%S\")\n",
    "    logfile = f\"logs/{formatted_now}_{i}.txt\"\n",
    "    with open(logfile, \"w\") as fout:\n",
    "        fout.write(\"evaluator_model_dict\" + \" \" + str(evaluator_model_dict) + \"\\n\")\n",
    "        fout.write(\"chatbot_model_dict\" + \" \" + str(chatbot_model_dict) + \"\\n\")\n",
    "        fout.write(\"analyzer_model_dict\" + \" \" + str(analyzer_model_dict) + \"\\n\")\n",
    "        if use_provocator:\n",
    "            fout.write(\n",
    "                \"provocator_model_dict\" + \" \" + str(provocator_model_dict) + \"\\n\"\n",
    "            )\n",
    "\n",
    "    logger.add(logfile)\n",
    "    factual_correctness, appropriateness = evaluator.evaluate_scenario(\n",
    "        i,\n",
    "        model_dicts,\n",
    "        provocator_mode,\n",
    "    )\n",
    "    factual_correctness_list.append(factual_correctness)\n",
    "    appropriateness_list.append(appropriateness)\n",
    "    logger.remove()\n",
    "\n",
    "    with open(logfile, \"a\") as fout:\n",
    "        print(\n",
    "            factual_correctness_list,\n",
    "            np.mean(np.array(factual_correctness_list)),\n",
    "            np.std(np.array(factual_correctness_list)),\n",
    "            file=fout,\n",
    "        )\n",
    "        print(\n",
    "            appropriateness_list,\n",
    "            np.mean(np.array(appropriateness_list)),\n",
    "            np.std(np.array(appropriateness_list)),\n",
    "            file=fout,\n",
    "        )\n",
    "        print(\"#\" * 20, file=fout)"
   ]
  }
 ],
 "metadata": {
  "kernelspec": {
   "display_name": ".venv",
   "language": "python",
   "name": "python3"
  },
  "language_info": {
   "codemirror_mode": {
    "name": "ipython",
    "version": 3
   },
   "file_extension": ".py",
   "mimetype": "text/x-python",
   "name": "python",
   "nbconvert_exporter": "python",
   "pygments_lexer": "ipython3",
   "version": "3.11.9"
  }
 },
 "nbformat": 4,
 "nbformat_minor": 5
}
