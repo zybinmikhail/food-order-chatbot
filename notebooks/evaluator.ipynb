{
 "cells": [
  {
   "cell_type": "code",
   "execution_count": null,
   "id": "106c1ece-1df7-4127-88ac-77de907e0f47",
   "metadata": {},
   "outputs": [],
   "source": [
    "%cd ../src"
   ]
  },
  {
   "cell_type": "code",
   "execution_count": null,
   "id": "52897c0b-d019-4564-999d-6cd92b63565f",
   "metadata": {},
   "outputs": [],
   "source": [
    "%load_ext autoreload\n",
    "%autoreload 2\n",
    "\n",
    "import evaluator\n",
    "from pathlib import Path\n",
    "import seaborn as sns\n",
    "import numpy as np"
   ]
  },
  {
   "cell_type": "code",
   "execution_count": null,
   "id": "c7755eec-cc56-4fb7-9a11-a0e460bdd5cd",
   "metadata": {},
   "outputs": [],
   "source": [
    "evaluator_model_dict = {\n",
    "    \"model\": \"neuralmagic/Llama-3.1-Nemotron-70B-Instruct-HF-FP8-dynamic\",\n",
    "    \"api_base\": \"***REMOVED***\",\n",
    "}\n",
    "chatbot_model_dict = {\n",
    "    \"model\": \"neuralmagic/Llama-3.1-Nemotron-70B-Instruct-HF-FP8-dynamic\",\n",
    "    \"api_base\": \"***REMOVED***\",\n",
    "}\n",
    "analyzer_model_dict = {\n",
    "    \"model\": \"neuralmagic/Llama-3.1-Nemotron-70B-Instruct-HF-FP8-dynamic\",\n",
    "    \"api_base\": \"***REMOVED***\",\n",
    "}\n"
   ]
  },
  {
   "cell_type": "code",
   "execution_count": null,
   "id": "951c06eb-ec94-469c-800a-15847284cece",
   "metadata": {
    "scrolled": true
   },
   "outputs": [],
   "source": [
    "factual_correctness_list = []\n",
    "appropriateness_list = []\n",
    "for i in range(1, 20):\n",
    "    factual_correctness, appropriateness = evaluator.evaluate_scenario(i, evaluator_model_dict, chatbot_model_dict, analyzer_model_dict)\n",
    "    factual_correctness_list.append(factual_correctness)\n",
    "    appropriateness_list.append(appropriateness)\n",
    "    print(factual_correctness_list, np.mean(np.array(factual_correctness_list)), np.std(np.array(factual_correctness_list)))\n",
    "    print(appropriateness_list, np.mean(np.array(appropriateness_list)), np.std(np.array(appropriateness_list)))\n",
    "    print(\"#\"*20)"
   ]
  }
 ],
 "metadata": {
  "kernelspec": {
   "display_name": "food-order-chat-bot",
   "language": "python",
   "name": "food-order-chat-bot"
  },
  "language_info": {
   "codemirror_mode": {
    "name": "ipython",
    "version": 3
   },
   "file_extension": ".py",
   "mimetype": "text/x-python",
   "name": "python",
   "nbconvert_exporter": "python",
   "pygments_lexer": "ipython3",
   "version": "3.9.20"
  }
 },
 "nbformat": 4,
 "nbformat_minor": 5
}
