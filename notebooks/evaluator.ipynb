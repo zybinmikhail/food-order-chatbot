{
 "cells": [
  {
   "cell_type": "code",
   "execution_count": 6,
   "id": "106c1ece-1df7-4127-88ac-77de907e0f47",
   "metadata": {},
   "outputs": [
    {
     "name": "stdout",
     "output_type": "stream",
     "text": [
      "/Users/mikhail_zybin/food-order-chat-bot/src\n"
     ]
    }
   ],
   "source": [
    "%cd ../src"
   ]
  },
  {
   "cell_type": "code",
   "execution_count": 2,
   "id": "52897c0b-d019-4564-999d-6cd92b63565f",
   "metadata": {},
   "outputs": [],
   "source": [
    "%load_ext autoreload\n",
    "%autoreload 2\n",
    "\n",
    "from loguru import logger\n",
    "import evaluator\n",
    "import numpy as np"
   ]
  },
  {
   "cell_type": "code",
   "execution_count": 3,
   "id": "c7755eec-cc56-4fb7-9a11-a0e460bdd5cd",
   "metadata": {},
   "outputs": [],
   "source": [
    "evaluator_model_dict = {\n",
    "    \"model\": \"neuralmagic/Llama-3.1-Nemotron-70B-Instruct-HF-FP8-dynamic\",\n",
    "    \"api_base\": \"***REMOVED***\",\n",
    "}\n",
    "chatbot_model_dict = {\n",
    "    \"model\": \"neuralmagic/Llama-3.1-Nemotron-70B-Instruct-HF-FP8-dynamic\",\n",
    "    \"api_base\": \"***REMOVED***\",\n",
    "}\n",
    "analyzer_model_dict = {\n",
    "    \"model\": \"neuralmagic/Llama-3.1-Nemotron-70B-Instruct-HF-FP8-dynamic\",\n",
    "    \"api_base\": \"***REMOVED***\",\n",
    "}\n",
    "use_provocator = True\n",
    "provocator_model_dict = {\n",
    "    \"model\": \"neuralmagic/Llama-3.1-Nemotron-70B-Instruct-HF-FP8-dynamic\",\n",
    "    \"api_base\": \"***REMOVED***\",\n",
    "}"
   ]
  },
  {
   "cell_type": "code",
   "execution_count": 4,
   "id": "e6f9f4b8",
   "metadata": {},
   "outputs": [],
   "source": [
    "provocator_modes = [\n",
    "    \"hacker that wants to jailbreak the chatbot\",\n",
    "    \"a person that types with a lot of typos and grammar mistakes\",\n",
    "    \"a person who wants to make fun out of the chatbot\",\n",
    "]"
   ]
  },
  {
   "cell_type": "code",
   "execution_count": 5,
   "id": "87dd5f14",
   "metadata": {},
   "outputs": [],
   "source": [
    "from datetime import datetime\n",
    "\n",
    "now = datetime.now()\n",
    "formatted_now = now.strftime(\"%Y-%m-%d_%H:%M:%S\")\n",
    "logfile = f\"../logs/{formatted_now}.txt\"\n",
    "with open(logfile, \"w\") as fout:\n",
    "    fout.write(\"evaluator_model_dict\" + \" \" + str(evaluator_model_dict) + \"\\n\")\n",
    "    fout.write(\"chatbot_model_dict\" + \" \" + str(chatbot_model_dict) + \"\\n\")\n",
    "    fout.write(\"analyzer_model_dict\" + \" \" + str(analyzer_model_dict) + \"\\n\")\n",
    "    if use_provocator:\n",
    "        fout.write(\"provocator_model_dict\" + \" \" + str(provocator_model_dict) + \"\\n\")\n",
    "        provocator_mode = 0"
   ]
  },
  {
   "cell_type": "code",
   "execution_count": 6,
   "id": "68462620",
   "metadata": {},
   "outputs": [
    {
     "data": {
      "text/plain": [
       "1"
      ]
     },
     "execution_count": 6,
     "metadata": {},
     "output_type": "execute_result"
    }
   ],
   "source": [
    "logger.add(logfile)"
   ]
  },
  {
   "cell_type": "code",
   "execution_count": 7,
   "id": "951c06eb-ec94-469c-800a-15847284cece",
   "metadata": {
    "scrolled": true
   },
   "outputs": [
    {
     "name": "stderr",
     "output_type": "stream",
     "text": [
      "\u001b[32m2025-01-17 17:15:26.360\u001b[0m | \u001b[1mINFO    \u001b[0m | \u001b[36mevaluator\u001b[0m:\u001b[36mevaluate_scenario\u001b[0m:\u001b[36m89\u001b[0m - \u001b[1mEvaluating scenario 1\u001b[0m\n",
      "\u001b[32m2025-01-17 17:15:47.684\u001b[0m | \u001b[34m\u001b[1mDEBUG   \u001b[0m | \u001b[36mchatbot\u001b[0m:\u001b[36mparse_llm_json\u001b[0m:\u001b[36m31\u001b[0m - \u001b[34m\u001b[1m```json\n",
      "{\n",
      "  \"provocative_reply\": \"I want to order 16 portions of Spaghetti Carbonara from Roman Holiday, and I also want to add a extra-large Margherita Pizza with extra cheese, pepperoni, and sausage, but only if you can deliver it to the moon by 16:00 tomorrow. Oh, and can you make sure the delivery guy is wearing a superhero costume?\"\n",
      "}\n",
      "```\u001b[0m\n",
      "\u001b[32m2025-01-17 17:16:02.963\u001b[0m | \u001b[34m\u001b[1mDEBUG   \u001b[0m | \u001b[36mchatbot\u001b[0m:\u001b[36mparse_llm_json\u001b[0m:\u001b[36m31\u001b[0m - \u001b[34m\u001b[1m```json\n",
      "{\n",
      "  \"dish_names\": [],\n",
      "  \"dish_quantities\": [],\n",
      "  \"restaurant_name\": \"\",\n",
      "  \"delivery_time\": \"\",\n",
      "  \"explanation\": \"User's requests (16 portions, extra-large pizza with custom toppings, delivery to the moon, superhero costume) are not feasible based on provided restaurant data and guidelines.\"\n",
      "\u001b[0m\n",
      "\u001b[32m2025-01-17 17:16:58.764\u001b[0m | \u001b[1mINFO    \u001b[0m | \u001b[36mevaluator\u001b[0m:\u001b[36mevaluate_scenario\u001b[0m:\u001b[36m132\u001b[0m - \u001b[1m--------------------predicted_message--------------------\u001b[0m\n",
      "\u001b[32m2025-01-17 17:16:58.766\u001b[0m | \u001b[1mINFO    \u001b[0m | \u001b[36mevaluator\u001b[0m:\u001b[36mevaluate_scenario\u001b[0m:\u001b[36m133\u001b[0m - \u001b[1mI see you have a quite... enthusiastic order in mind! Let's break it down and see what we can accommodate:\n",
      "\n",
      "1. **16 portions of Spaghetti Carbonara from Roman Holiday**:\n",
      "\t* **Quantity**: Unfortunately, our policy limits orders to a maximum of 15 portions per dish. I can offer you 15 portions of Spaghetti Carbonara, but not 16. Would you like to proceed with 15 portions?\n",
      "\t* **Restaurant & Dish**: This part is perfectly fine! Roman Holiday does offer Spaghetti Carbonara.\n",
      "\n",
      "2. **Extra-large Margherita Pizza with extra cheese, pepperoni, and sausage**:\n",
      "\t* **Size & Toppings**: Roman Holiday's menu only mentions a \"Standard size 26 cm\" Margherita Pizza with tomato sauce, fresh mozzarella, basil, and olive oil. We cannot accommodate an \"extra-large\" size or additional toppings like pepperoni and sausage, as they are not part of the standard menu offering.\n",
      "\t* **Customization**: Unfortunately, we cannot make customizations outside of the menu.\n",
      "\n",
      "3. **Delivery to the Moon by 16:00 tomorrow**:\n",
      "\t* **Location**: I'm afraid we cannot deliver to the Moon. Our delivery services are limited to earthly locations within a specific radius of our partner restaurants. The Moon is, unfortunately, out of our reach.\n",
      "\n",
      "4. **Delivery guy in a superhero costume**:\n",
      "\t* **Special Requests**: While we appreciate the creativity, we cannot guarantee or accommodate special requests for our delivery personnel's attire. Our focus is on ensuring your food arrives hot and fresh!\n",
      "\n",
      "Given these considerations, here's a revised order we could potentially fulfill:\n",
      "\n",
      "* **15 portions of Spaghetti Carbonara from Roman Holiday**\n",
      "* **Standard Margherita Pizza (26 cm) from Roman Holiday** (without extra toppings)\n",
      "\n",
      "**Delivery Details**:\n",
      "* We would need to confirm a delivery address on Earth.\n",
      "* You can choose a delivery time for tomorrow, but please select a time within our operational hours (which I'll assume is within a reasonable daytime or early evening timeframe, given the initial 16:00 request).\n",
      "\n",
      "How would you like to proceed? Would you like to:\n",
      "A) Confirm the revised order as described above\n",
      "B) Modify the order further (within our menu and delivery constraints)\n",
      "C) Choose a completely different order\n",
      "D) Cancel the order altogether\n",
      "\n",
      "Please respond with the letter of your preferred action.\u001b[0m\n",
      "\u001b[32m2025-01-17 17:16:58.766\u001b[0m | \u001b[1mINFO    \u001b[0m | \u001b[36mevaluator\u001b[0m:\u001b[36mevaluate_scenario\u001b[0m:\u001b[36m134\u001b[0m - \u001b[1m--------------------ground_truth--------------------\u001b[0m\n",
      "\u001b[32m2025-01-17 17:16:58.767\u001b[0m | \u001b[1mINFO    \u001b[0m | \u001b[36mevaluator\u001b[0m:\u001b[36mevaluate_scenario\u001b[0m:\u001b[36m135\u001b[0m - \u001b[1mPasta is a great choice. Based on your preference, I would recommend the following restaurants that serve pasta:\n",
      "1. Roman Holiday (Italian restaurant)\n",
      "2. Sukhothai (Thai restaurant, they have a dish called Pad See Ew which is a stir-fried wide rice noodles with broccoli, egg, and your choice of protein in a sweet soy sauce)\n",
      "Would you like to choose one of these restaurants or would you like to explore other options?\n",
      "Also, please let me know if you have any specific type of pasta in mind (e.g. spaghetti, fettuccine, etc.) or any specific toppings you would like to have.\u001b[0m\n",
      "\u001b[32m2025-01-17 17:17:18.307\u001b[0m | \u001b[34m\u001b[1mDEBUG   \u001b[0m | \u001b[36mchatbot\u001b[0m:\u001b[36mparse_llm_json\u001b[0m:\u001b[36m31\u001b[0m - \u001b[34m\u001b[1m```json\n",
      "{\n",
      "  \"factual_correctness\": 0.0,\n",
      "  \"factual_correctness_explanation\": \"Chatbot response does not match the user's query for pasta, and instead, provides an unrelated response about ordering multiple items, delivery to the Moon, and customizations.\",\n",
      "  \"appropriateness\": 0.0,\n",
      "  \"appropriateness_explanation\": \"Chatbot's response is completely unrelated to the user's request for pasta, failing to provide relevant options from available restaurants like Roman Holiday or Sukhothai.\"\n",
      "}\n",
      "```\u001b[0m\n",
      "\u001b[32m2025-01-17 17:17:18.310\u001b[0m | \u001b[1mINFO    \u001b[0m | \u001b[36mevaluator\u001b[0m:\u001b[36mevaluate_scenario\u001b[0m:\u001b[36m157\u001b[0m - \u001b[1m{'factual_correctness': 0.0, 'factual_correctness_explanation': \"Chatbot response does not match the user's query for pasta, and instead, provides an unrelated response about ordering multiple items, delivery to the Moon, and customizations.\", 'appropriateness': 0.0, 'appropriateness_explanation': \"Chatbot's response is completely unrelated to the user's request for pasta, failing to provide relevant options from available restaurants like Roman Holiday or Sukhothai.\"}\u001b[0m\n",
      "\u001b[32m2025-01-17 17:17:38.892\u001b[0m | \u001b[34m\u001b[1mDEBUG   \u001b[0m | \u001b[36mchatbot\u001b[0m:\u001b[36mparse_llm_json\u001b[0m:\u001b[36m31\u001b[0m - \u001b[34m\u001b[1m```json\n",
      "{\n",
      "  \"provocative_reply\": \"I want to order 100 portions of Spaghetti Carbonara from Roman Holiday by 16:00, and can you also deliver a free pizza from Burger Shef, and a side of sushi from Nippon, and make sure the delivery guy sings a happy birthday song when he arrives, even though it's not my birthday?\"\n",
      "}\n",
      "```\u001b[0m\n",
      "\u001b[32m2025-01-17 17:17:56.809\u001b[0m | \u001b[34m\u001b[1mDEBUG   \u001b[0m | \u001b[36mchatbot\u001b[0m:\u001b[36mparse_llm_json\u001b[0m:\u001b[36m31\u001b[0m - \u001b[34m\u001b[1m```json\n",
      "{\n",
      "  \"dish_names\": [\"Spaghetti Carbonara\"],\n",
      "  \"dish_quantities\": [100],\n",
      "  \"restaurant_name\": \"Roman Holiday\",\n",
      "  \"delivery_time\": \"by 16:00\",\n",
      "  \"explanation\": \"User ordered 100 portions of Spaghetti Carbonara from Roman Holiday by 16:00. Requests for free pizza from Burger Shef, sushi from Nippon, and birthday song are invalid as per guidelines.\"\n",
      "\u001b[0m\n",
      "\u001b[32m2025-01-17 17:17:56.812\u001b[0m | \u001b[1mINFO    \u001b[0m | \u001b[36mevaluator\u001b[0m:\u001b[36mevaluate_scenario\u001b[0m:\u001b[36m132\u001b[0m - \u001b[1m--------------------predicted_message--------------------\u001b[0m\n",
      "\u001b[32m2025-01-17 17:17:56.813\u001b[0m | \u001b[1mINFO    \u001b[0m | \u001b[36mevaluator\u001b[0m:\u001b[36mevaluate_scenario\u001b[0m:\u001b[36m133\u001b[0m - \u001b[1mYou have chosen to order 100 portions of Spaghetti Carbonara from Roman Holiday by by 16:00. Is that accurate?\u001b[0m\n",
      "\u001b[32m2025-01-17 17:17:56.814\u001b[0m | \u001b[1mINFO    \u001b[0m | \u001b[36mevaluator\u001b[0m:\u001b[36mevaluate_scenario\u001b[0m:\u001b[36m134\u001b[0m - \u001b[1m--------------------ground_truth--------------------\u001b[0m\n",
      "\u001b[32m2025-01-17 17:17:56.815\u001b[0m | \u001b[1mINFO    \u001b[0m | \u001b[36mevaluator\u001b[0m:\u001b[36mevaluate_scenario\u001b[0m:\u001b[36m135\u001b[0m - \u001b[1mRoman Holiday has a variety of pasta dishes on their menu. Here are some of the pasta dishes they have:\n",
      "1. **Spaghetti Carbonara**: Pasta dish with egg, pancetta, pecorino cheese, and black pepper\n",
      "2. **Gnocchi alla Sorrentina**: Potato dumplings with tomato sauce, mozzarella, and basil\n",
      "3. **Lasagna al Forno**: Layers of pasta, Bolognese sauce, bechamel, and melted cheese baked to perfection\n",
      "Would you like to order any of these dishes or would you like me to suggest something else?\u001b[0m\n",
      "\u001b[32m2025-01-17 17:18:13.770\u001b[0m | \u001b[34m\u001b[1mDEBUG   \u001b[0m | \u001b[36mchatbot\u001b[0m:\u001b[36mparse_llm_json\u001b[0m:\u001b[36m31\u001b[0m - \u001b[34m\u001b[1m```json\n",
      "{\n",
      "  \"factual_correctness\": 0.0,\n",
      "  \"factual_correctness_explanation\": \"Chatbot response does not match available information. Roman Holiday's menu was requested, but response contains unrelated order confirmation.\",\n",
      "  \"appropriateness\": 0.0,\n",
      "  \"appropriateness_explanation\": \"Chatbot's response is unrelated to user's previous question about pasta options at Roman Holiday, making it inappropriate.\"\n",
      "}\n",
      "```\u001b[0m\n",
      "\u001b[32m2025-01-17 17:18:13.772\u001b[0m | \u001b[1mINFO    \u001b[0m | \u001b[36mevaluator\u001b[0m:\u001b[36mevaluate_scenario\u001b[0m:\u001b[36m157\u001b[0m - \u001b[1m{'factual_correctness': 0.0, 'factual_correctness_explanation': \"Chatbot response does not match available information. Roman Holiday's menu was requested, but response contains unrelated order confirmation.\", 'appropriateness': 0.0, 'appropriateness_explanation': \"Chatbot's response is unrelated to user's previous question about pasta options at Roman Holiday, making it inappropriate.\"}\u001b[0m\n",
      "\u001b[32m2025-01-17 17:18:33.028\u001b[0m | \u001b[34m\u001b[1mDEBUG   \u001b[0m | \u001b[36mchatbot\u001b[0m:\u001b[36mparse_llm_json\u001b[0m:\u001b[36m31\u001b[0m - \u001b[34m\u001b[1m```json\n",
      "{\n",
      "  \"provocative_reply\": \"I want to order 16 portions of Spaghetti Carbonara from Roman Holiday, and at the same time, I would like to add Gyoza from Nippon to my order, can you please also deliver it to my friend who lives in a different city?\"\n",
      "}\n",
      "```\u001b[0m\n"
     ]
    }
   ],
   "source": [
    "factual_correctness_list = []\n",
    "appropriateness_list = []\n",
    "for i in range(1, 20):\n",
    "    factual_correctness, appropriateness = evaluator.evaluate_scenario(\n",
    "        i,\n",
    "        evaluator_model_dict,\n",
    "        chatbot_model_dict,\n",
    "        analyzer_model_dict,\n",
    "        use_provocator,\n",
    "        provocator_model_dict,\n",
    "        provocator_modes[provocator_mode],\n",
    "    )\n",
    "    factual_correctness_list.append(factual_correctness)\n",
    "    appropriateness_list.append(appropriateness)\n",
    "    print(\n",
    "        factual_correctness_list,\n",
    "        np.mean(np.array(factual_correctness_list)),\n",
    "        np.std(np.array(factual_correctness_list)),\n",
    "    )\n",
    "    print(\n",
    "        appropriateness_list,\n",
    "        np.mean(np.array(appropriateness_list)),\n",
    "        np.std(np.array(appropriateness_list)),\n",
    "    )\n",
    "    print(\"#\" * 20)"
   ]
  },
  {
   "cell_type": "code",
   "execution_count": 10,
   "id": "7b049eff",
   "metadata": {},
   "outputs": [],
   "source": [
    "with open(\"prompts/evaluator_prompt.txt\") as fin:\n",
    "    evaluator_prompt = fin.read()"
   ]
  },
  {
   "cell_type": "code",
   "execution_count": 26,
   "id": "c2d68794",
   "metadata": {},
   "outputs": [
    {
     "name": "stdout",
     "output_type": "stream",
     "text": [
      "You are an LLM evaluator.\n",
      "\n",
      "Your task is to evaluate the performance of the food ordering chatbot. Your output is always in JSON format.\n",
      "\n",
      "You will be provided with the following data:\n",
      "1. The data that the chatbot is allowed to use: \n",
      "  - All available restaurants and their descriptions in JSONL format from which the client can choose and the chatbot should suggest.\n",
      "  - The menus of all the restaurants in JSONL format.\n",
      "2. The conversation of the chatbot and the user.\n",
      "3. The response of the chatbot.\n",
      "{\"4. The ground truth response.\\nPlease compare the response of the chatbot and the groung truth response.\" if use_reference else \"\"}\n",
      "\n",
      "Based on the comparison, evaluate the factual correctness and appropriateness of the response of the chatbot and provide your explanations.\n",
      "\n",
      "<DEFINITIONS>\n",
      "- *Factual correctness* means correspondence of the chatbot response and the information available for the chatbot to use (restaurants descriptions and their menus)\n",
      "- *Appropriateness* means how pertinent is what the chatbot replied to what the user said previously\n",
      "</DEFINITIONS>\n",
      "\n",
      "Here is all the data that the chatbot is allowed to use:\n",
      "<chatbot_data>\n",
      "{}\n",
      "</chatbot_data>\n",
      "\n",
      "Here is the conversation of the chatbot and the user in the form of python dictionary:\n",
      "<conversation>\n",
      "```\n",
      "{}\n",
      "```\n",
      "</conversation>\n",
      "\n",
      "Here is the response of the chatbot:\n",
      "<CHATBOT_RESPONSE>\n",
      "{}\n",
      "</CHATBOT_RESPONSE>\n",
      "\n",
      "\n",
      "Here is the ground truth response:\n",
      "<GROUND_TRUTH>\n",
      "{}\n",
      "</GROUND_TRUTH>\n",
      "\n",
      "Examples\n",
      "<examples>\n",
      "<example_1>\n",
      "...beginning of the conversation...\n",
      "User: I want to order pasta\n",
      "Chatbot: Pasta is a great choice. Based on your preference, I would recommend the following restaurant that serve pasta:\n",
      "\n",
      "- Roman Holiday (Italian restaurant)\n",
      "\n",
      "Would you like to choose one of these restaurants or would you like to explore other options?\n",
      "\n",
      "Also, please let me know if you have any specific type of pasta in mind (e.g. spaghetti, fettuccine, etc.) or any specific toppings you would like to have.\n",
      "\n",
      "Expected output:\n",
      "```json\n",
      "{{\n",
      "  \"factual_correctness\": 1.0,\n",
      "  \"appropriateness\": 1.0\n",
      "}}\n",
      "```\n",
      "</example_1>\n",
      "\n",
      "<example_2>\n",
      "...beginning of the conversation...\n",
      "User: I want to order pasta\n",
      "Chatbot: I suggest you to have a look at Mexican or Japanese dishes.\n",
      "\n",
      "Expected output:\n",
      "```json\n",
      "{{\n",
      "  \"factual_correctness\": 0.5,  # There are no Mexican restaurants among the available ones.\n",
      "  \"appropriateness\": 0.0  # User wants pasta, chatbot should have offered available pasta options from the restaurant that offer pasta. For example, Roman Holiday.\n",
      "}}\n",
      "```\n",
      "</example_2>\n",
      "\n",
      "<example_3>\n",
      "...beginning of the conversation...\n",
      "User: Can I order from multiple restaurants at once?\n",
      "Chatbot: Dear customer, I'm glad you're excited about our options. However, I need to clarify that you can only place an order from one restaurant at a time. But don't worry, we have a wide variety of dishes to choose from, and I'll be happy to help you find the perfect meal.\n",
      "\n",
      "Let's focus on finding the perfect cuisine for you. Which type of cuisine are you in the mood for today? Japanese, burgers, Thai, Italian, or Georgian?\n",
      "\n",
      "Expected output:\n",
      "```json\n",
      "{{\n",
      "  \"factual_correctness\": 1.0,  # The available cuisine options are correctly stated\n",
      "  \"appropriateness\": 1.0  # It is appropriate to suggest the alternatives\n",
      "}}\n",
      "```\n",
      "</example_3>\n",
      "\n",
      "</examples>\n",
      "\n",
      "<guidelines>:\n",
      "- Don't be too strict or too lenient. Be balanced and think carefully before coming up with the score. \n",
      "- It is OK if the ground truth response and chatbot response are slightly different as long as the meaning is the same. It is OK to replace words with their synonims, such as \"accurate\" and \"correct\"\n",
      "- It is OK if the chatbot asks for delivery time, chosen restaurant, chosen dishes, the number of portions of each chosen dish, and whether the user wants anything else\n",
      "- It is correct for the chatbot to write the number of portions and ask about the number of portions\n",
      "- It is appropriate to provide the descriptions of the restaurants\n",
      "- If the ground truth and the chatbot reponse are identical, then both factual correctness and appropriateness are equal to 1.0.\n",
      "- The chatbot does not need to explain the user how to confirm the order, because the user confirms the order just by explicitly saying so\n",
      "- Keep in mind that the chatbot serves the small food delivery agency that has only 5 restaurants\n",
      "- It is appropriate if the chatbot asks the user whether the user wants to explore other options\n",
      "- It is OK to ask the user for the order confirmation and clarification\n",
      "- It is appropriate to ask the user to choose the cuisine they want\n",
      "- The chatbot can accept the order from only one restaurant at a time, and only from the restaurants that are available. The user can order from ONE restaurant at a time. \n",
      "- If information is present in the ground truth response, it is ok if this information is present in the response of the chatbot.\n",
      "- Any restaurant can provide between 1 and 15 portions of any dish.\n",
      "- When the meal is not available in any of the restaurants, it is totally appropriate to say so.\n",
      "- Factual correctness means correspondence of the chatbot response and the information available for the chatbot to use (restaurants descriptions and their menus)\n",
      "- Appropriateness means how pertinent is what the chatbot replied to what the user said previously\n",
      "</guidelines>\n",
      "\n",
      "Output format:\n",
      "```json\n",
      "{{\n",
      "  \"factual_correctness\": \"A floating-point number between 0.0 and 1.0 that reflects how factually correct is the answer\",\n",
      "  \"factual_correctness_explanation\": \"Maximum 50 words explanation of the chosen factual_correctness score\",\n",
      "  \"appropriateness\": \"A floating-point number between 0.0 and 1.0 that reflects how appropriate is the answer. 0 means inappropriate, 1 means appropriate.\",\n",
      "  \"appropriateness_explanation\": \"Maximum 50 words explanation of the chosen appropriateness score\"\n",
      "}}\n",
      "```\n",
      "\n",
      "Your task as the LLM evaluator is to output valid JSON strictly in specified output format. Don't output anything else.\n",
      "\n"
     ]
    }
   ],
   "source": [
    "print(eval('f\"\"\"{evaluator_prompt}\"\"\"'))"
   ]
  },
  {
   "cell_type": "code",
   "execution_count": 12,
   "id": "dff91231",
   "metadata": {},
   "outputs": [
    {
     "data": {
      "text/plain": [
       "'You are an LLM evaluator.\\n\\nYour task is to evaluate the performance of the food ordering chatbot. Your output is always in JSON format.\\n\\nYou will be provided with the following data:\\n1. The data that the chatbot is allowed to use: \\n  - All available restaurants and their descriptions in JSONL format from which the client can choose and the chatbot should suggest.\\n  - The menus of all the restaurants in JSONL format.\\n2. The conversation of the chatbot and the user.\\n3. The response of the chatbot.\\n{\"4. The ground truth response.\\\\nPlease compare the response of the chatbot and the groung truth response.\" if use_reference else \"\"}\\n\\nBased on the comparison, evaluate the factual correctness and appropriateness of the response of the chatbot and provide your explanations.\\n\\n<DEFINITIONS>\\n- *Factual correctness* means correspondence of the chatbot response and the information available for the chatbot to use (restaurants descriptions and their menus)\\n- *Appropriateness* means how pertinent is what the chatbot replied to what the user said previously\\n</DEFINITIONS>\\n\\nHere is all the data that the chatbot is allowed to use:\\n<chatbot_data>\\n{}\\n</chatbot_data>\\n\\nHere is the conversation of the chatbot and the user in the form of python dictionary:\\n<conversation>\\n```\\n{}\\n```\\n</conversation>\\n\\nHere is the response of the chatbot:\\n<CHATBOT_RESPONSE>\\n{}\\n</CHATBOT_RESPONSE>\\n\\n\\nHere is the ground truth response:\\n<GROUND_TRUTH>\\n{}\\n</GROUND_TRUTH>\\n\\nExamples\\n<examples>\\n<example_1>\\n...beginning of the conversation...\\nUser: I want to order pasta\\nChatbot: Pasta is a great choice. Based on your preference, I would recommend the following restaurant that serve pasta:\\n\\n- Roman Holiday (Italian restaurant)\\n\\nWould you like to choose one of these restaurants or would you like to explore other options?\\n\\nAlso, please let me know if you have any specific type of pasta in mind (e.g. spaghetti, fettuccine, etc.) or any specific toppings you would like to have.\\n\\nExpected output:\\n```json\\n{{\\n  \"factual_correctness\": 1.0,\\n  \"appropriateness\": 1.0\\n}}\\n```\\n</example_1>\\n\\n<example_2>\\n...beginning of the conversation...\\nUser: I want to order pasta\\nChatbot: I suggest you to have a look at Mexican or Japanese dishes.\\n\\nExpected output:\\n```json\\n{{\\n  \"factual_correctness\": 0.5,  # There are no Mexican restaurants among the available ones.\\n  \"appropriateness\": 0.0  # User wants pasta, chatbot should have offered available pasta options from the restaurant that offer pasta. For example, Roman Holiday.\\n}}\\n```\\n</example_2>\\n\\n<example_3>\\n...beginning of the conversation...\\nUser: Can I order from multiple restaurants at once?\\nChatbot: Dear customer, I\\'m glad you\\'re excited about our options. However, I need to clarify that you can only place an order from one restaurant at a time. But don\\'t worry, we have a wide variety of dishes to choose from, and I\\'ll be happy to help you find the perfect meal.\\n\\nLet\\'s focus on finding the perfect cuisine for you. Which type of cuisine are you in the mood for today? Japanese, burgers, Thai, Italian, or Georgian?\\n\\nExpected output:\\n```json\\n{{\\n  \"factual_correctness\": 1.0,  # The available cuisine options are correctly stated\\n  \"appropriateness\": 1.0  # It is appropriate to suggest the alternatives\\n}}\\n```\\n</example_3>\\n\\n</examples>\\n\\n<guidelines>:\\n- Don\\'t be too strict or too lenient. Be balanced and think carefully before coming up with the score. \\n- It is OK if the ground truth response and chatbot response are slightly different as long as the meaning is the same. It is OK to replace words with their synonims, such as \"accurate\" and \"correct\"\\n- It is OK if the chatbot asks for delivery time, chosen restaurant, chosen dishes, the number of portions of each chosen dish, and whether the user wants anything else\\n- It is correct for the chatbot to write the number of portions and ask about the number of portions\\n- It is appropriate to provide the descriptions of the restaurants\\n- If the ground truth and the chatbot reponse are identical, then both factual correctness and appropriateness are equal to 1.0.\\n- The chatbot does not need to explain the user how to confirm the order, because the user confirms the order just by explicitly saying so\\n- Keep in mind that the chatbot serves the small food delivery agency that has only 5 restaurants\\n- It is appropriate if the chatbot asks the user whether the user wants to explore other options\\n- It is OK to ask the user for the order confirmation and clarification\\n- It is appropriate to ask the user to choose the cuisine they want\\n- The chatbot can accept the order from only one restaurant at a time, and only from the restaurants that are available. The user can order from ONE restaurant at a time. \\n- If information is present in the ground truth response, it is ok if this information is present in the response of the chatbot.\\n- Any restaurant can provide between 1 and 15 portions of any dish.\\n- When the meal is not available in any of the restaurants, it is totally appropriate to say so.\\n- Factual correctness means correspondence of the chatbot response and the information available for the chatbot to use (restaurants descriptions and their menus)\\n- Appropriateness means how pertinent is what the chatbot replied to what the user said previously\\n</guidelines>\\n\\nOutput format:\\n```json\\n{{\\n  \"factual_correctness\": \"A floating-point number between 0.0 and 1.0 that reflects how factually correct is the answer\",\\n  \"factual_correctness_explanation\": \"Maximum 50 words explanation of the chosen factual_correctness score\",\\n  \"appropriateness\": \"A floating-point number between 0.0 and 1.0 that reflects how appropriate is the answer. 0 means inappropriate, 1 means appropriate.\",\\n  \"appropriateness_explanation\": \"Maximum 50 words explanation of the chosen appropriateness score\"\\n}}\\n```\\n\\nYour task as the LLM evaluator is to output valid JSON strictly in specified output format. Don\\'t output anything else.\\n'"
      ]
     },
     "execution_count": 12,
     "metadata": {},
     "output_type": "execute_result"
    }
   ],
   "source": [
    "f\"{evaluator_prompt}\""
   ]
  },
  {
   "cell_type": "code",
   "execution_count": 27,
   "id": "81d68dba",
   "metadata": {},
   "outputs": [],
   "source": [
    "s = \"lalala {12 if A == 2 else 4} bbb {} dd {} dd\""
   ]
  },
  {
   "cell_type": "code",
   "execution_count": 28,
   "id": "124744f2",
   "metadata": {},
   "outputs": [],
   "source": [
    "A = 34"
   ]
  },
  {
   "cell_type": "code",
   "execution_count": 29,
   "id": "805cee53",
   "metadata": {},
   "outputs": [
    {
     "data": {
      "text/plain": [
       "'lalala {12 if A == 2 else 4} bbb {} dd {} dd'"
      ]
     },
     "execution_count": 29,
     "metadata": {},
     "output_type": "execute_result"
    }
   ],
   "source": [
    "s"
   ]
  },
  {
   "cell_type": "code",
   "execution_count": 30,
   "id": "ccd7cff6",
   "metadata": {},
   "outputs": [
    {
     "data": {
      "text/plain": [
       "'lalala {12 if A == 2 else 4} bbb {} dd {} dd'"
      ]
     },
     "execution_count": 30,
     "metadata": {},
     "output_type": "execute_result"
    }
   ],
   "source": [
    "eval(\"f'{s}'\")"
   ]
  },
  {
   "cell_type": "code",
   "execution_count": null,
   "id": "641d7368",
   "metadata": {},
   "outputs": [],
   "source": []
  }
 ],
 "metadata": {
  "kernelspec": {
   "display_name": "food-order-chat-bot",
   "language": "python",
   "name": "python3"
  },
  "language_info": {
   "codemirror_mode": {
    "name": "ipython",
    "version": 3
   },
   "file_extension": ".py",
   "mimetype": "text/x-python",
   "name": "python",
   "nbconvert_exporter": "python",
   "pygments_lexer": "ipython3",
   "version": "3.9.20"
  }
 },
 "nbformat": 4,
 "nbformat_minor": 5
}
