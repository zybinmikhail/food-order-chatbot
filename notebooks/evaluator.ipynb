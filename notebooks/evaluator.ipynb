{
 "cells": [
  {
   "cell_type": "code",
   "execution_count": 1,
   "id": "106c1ece-1df7-4127-88ac-77de907e0f47",
   "metadata": {},
   "outputs": [
    {
     "name": "stdout",
     "output_type": "stream",
     "text": [
      "/Users/mikhail_zybin/food-order-chat-bot/src\n"
     ]
    }
   ],
   "source": [
    "%cd ../src"
   ]
  },
  {
   "cell_type": "code",
   "execution_count": 2,
   "id": "52897c0b-d019-4564-999d-6cd92b63565f",
   "metadata": {},
   "outputs": [],
   "source": [
    "%load_ext autoreload\n",
    "%autoreload 2\n",
    "\n",
    "import evaluator\n",
    "from pathlib import Path\n",
    "import seaborn as sns\n",
    "import numpy as np"
   ]
  },
  {
   "cell_type": "code",
   "execution_count": null,
   "id": "951c06eb-ec94-469c-800a-15847284cece",
   "metadata": {},
   "outputs": [
    {
     "name": "stderr",
     "output_type": "stream",
     "text": [
      "\u001b[32m2024-12-20 15:20:30.403\u001b[0m | \u001b[1mINFO    \u001b[0m | \u001b[36mevaluator\u001b[0m:\u001b[36mevaluate_scenario\u001b[0m:\u001b[36m60\u001b[0m - \u001b[1mEvaluating scenario 1\u001b[0m\n",
      "\u001b[32m2024-12-20 15:20:47.482\u001b[0m | \u001b[1mINFO    \u001b[0m | \u001b[36mevaluator\u001b[0m:\u001b[36mevaluate_scenario\u001b[0m:\u001b[36m79\u001b[0m - \u001b[1m--------------------predicted_message--------------------\u001b[0m\n",
      "\u001b[32m2024-12-20 15:20:47.485\u001b[0m | \u001b[1mINFO    \u001b[0m | \u001b[36mevaluator\u001b[0m:\u001b[36mevaluate_scenario\u001b[0m:\u001b[36m80\u001b[0m - \u001b[1mPasta sounds delicious! Unfortunately, I couldn't find any pasta dishes in the available restaurants. However, I can suggest some restaurants that might have similar dishes.\n",
      "\n",
      "Based on your interest in pasta, I recommend checking out the following restaurants:\n",
      "\n",
      "1. **Roman Holiday** - They have a variety of Italian dishes, including Spaghetti Carbonara (pasta) for $14.99.\n",
      "2. **Sukhothai** - They have a dish called Chicken Pad See Ew, which is a stir-fried wide rice noodle dish with broccoli, egg, and chicken in a sweet soy sauce. It's not exactly pasta, but it might be something you'd enjoy.\n",
      "\n",
      "Would you like to order from one of these restaurants or choose a different option?\u001b[0m\n",
      "\u001b[32m2024-12-20 15:20:47.487\u001b[0m | \u001b[1mINFO    \u001b[0m | \u001b[36mevaluator\u001b[0m:\u001b[36mevaluate_scenario\u001b[0m:\u001b[36m81\u001b[0m - \u001b[1m--------------------ground_truth--------------------\u001b[0m\n",
      "\u001b[32m2024-12-20 15:20:47.488\u001b[0m | \u001b[1mINFO    \u001b[0m | \u001b[36mevaluator\u001b[0m:\u001b[36mevaluate_scenario\u001b[0m:\u001b[36m82\u001b[0m - \u001b[1mPasta is a great choice. Based on your preference, I would recommend the following restaurants that serve pasta:\n",
      "1. Roman Holiday (Italian restaurant)\n",
      "2. Sukhothai (Thai restaurant, they have a dish called Pad See Ew which is a stir-fried wide rice noodles with broccoli, egg, and your choice of protein in a sweet soy sauce)\n",
      "Would you like to choose one of these restaurants or would you like to explore other options?\n",
      "Also, please let me know if you have any specific type of pasta in mind (e.g. spaghetti, fettuccine, etc.) or any specific toppings you would like to have.\u001b[0m\n",
      "\u001b[32m2024-12-20 15:21:10.565\u001b[0m | \u001b[1mINFO    \u001b[0m | \u001b[36mevaluator\u001b[0m:\u001b[36mevaluate_scenario\u001b[0m:\u001b[36m95\u001b[0m - \u001b[1m{'factual_correctness': 0.5, 'factual_correctness_explanation': 'The chatbot correctly mentioned Roman Holiday as a restaurant with a pasta dish, but incorrectly stated that Sukhothai has a dish similar to pasta.', 'appropriateness': 0.5, 'appropriateness_explanation': \"The chatbot acknowledged the user's interest in pasta and provided some recommendations, but did not fully address the user's request and was not very informative.\"}\u001b[0m\n",
      "\u001b[32m2024-12-20 15:21:30.287\u001b[0m | \u001b[1mINFO    \u001b[0m | \u001b[36mevaluator\u001b[0m:\u001b[36mevaluate_scenario\u001b[0m:\u001b[36m79\u001b[0m - \u001b[1m--------------------predicted_message--------------------\u001b[0m\n",
      "\u001b[32m2024-12-20 15:21:30.289\u001b[0m | \u001b[1mINFO    \u001b[0m | \u001b[36mevaluator\u001b[0m:\u001b[36mevaluate_scenario\u001b[0m:\u001b[36m80\u001b[0m - \u001b[1mRoman Holiday has the following pasta dishes on their menu:\n",
      "\n",
      "1. Spaghetti Carbonara (pasta) - a classic Italian dish made with egg, pancetta, pecorino cheese, and black pepper.\n",
      "2. Lasagna al Forno - layers of pasta, Bolognese sauce, bechamel, and melted cheese baked to perfection.\n",
      "3. Gnocchi alla Sorrentina - potato dumplings with tomato sauce, mozzarella, and basil.\n",
      "\n",
      "These are the pasta options available at Roman Holiday. Would you like to order from here or would you like to explore other options?\u001b[0m\n",
      "\u001b[32m2024-12-20 15:21:30.290\u001b[0m | \u001b[1mINFO    \u001b[0m | \u001b[36mevaluator\u001b[0m:\u001b[36mevaluate_scenario\u001b[0m:\u001b[36m81\u001b[0m - \u001b[1m--------------------ground_truth--------------------\u001b[0m\n",
      "\u001b[32m2024-12-20 15:21:30.292\u001b[0m | \u001b[1mINFO    \u001b[0m | \u001b[36mevaluator\u001b[0m:\u001b[36mevaluate_scenario\u001b[0m:\u001b[36m82\u001b[0m - \u001b[1mRoman Holiday has a variety of pasta dishes on their menu. Here are some of the pasta dishes they have:\n",
      "1. **Spaghetti Carbonara**: Pasta dish with egg, pancetta, pecorino cheese, and black pepper\n",
      "2. **Gnocchi alla Sorrentina**: Potato dumplings with tomato sauce, mozzarella, and basil\n",
      "3. **Lasagna al Forno**: Layers of pasta, Bolognese sauce, bechamel, and melted cheese baked to perfection\n",
      "Would you like to order any of these dishes or would you like me to suggest something else?\u001b[0m\n",
      "\u001b[32m2024-12-20 15:21:49.974\u001b[0m | \u001b[1mINFO    \u001b[0m | \u001b[36mevaluator\u001b[0m:\u001b[36mevaluate_scenario\u001b[0m:\u001b[36m95\u001b[0m - \u001b[1m{'factual_correctness': 0.75, 'factual_correctness_explanation': \"The chatbot's response is factually correct, but not entirely accurate, as it only mentions three pasta dishes instead of four.\", 'appropriateness': 0.5, 'appropriateness_explanation': \"The chatbot's response is somewhat appropriate, but could be more specific and detailed, as it only mentions a few pasta dishes without providing any descriptions or prices.\"}\u001b[0m\n",
      "\u001b[32m2024-12-20 15:22:16.963\u001b[0m | \u001b[1mINFO    \u001b[0m | \u001b[36mevaluator\u001b[0m:\u001b[36mevaluate_scenario\u001b[0m:\u001b[36m79\u001b[0m - \u001b[1m--------------------predicted_message--------------------\u001b[0m\n",
      "\u001b[32m2024-12-20 15:22:16.965\u001b[0m | \u001b[1mINFO    \u001b[0m | \u001b[36mevaluator\u001b[0m:\u001b[36mevaluate_scenario\u001b[0m:\u001b[36m80\u001b[0m - \u001b[1mSpaghetti Carbonara is a classic Italian dish. To confirm your order, I just need to know a few more details.\n",
      "\n",
      "You would like to order **Spaghetti Carbonara** from **Roman Holiday**. Is that correct?\n",
      "\n",
      "Also, how many portions of Spaghetti Carbonara would you like to order? (Please choose from 1 to 15 portions)\n",
      "\n",
      "And finally, by what time would you like to receive your order? (Please choose from \"within 1 hour\", \"by a specific time today\", or \"by a specific time tomorrow\")\u001b[0m\n",
      "\u001b[32m2024-12-20 15:22:16.965\u001b[0m | \u001b[1mINFO    \u001b[0m | \u001b[36mevaluator\u001b[0m:\u001b[36mevaluate_scenario\u001b[0m:\u001b[36m81\u001b[0m - \u001b[1m--------------------ground_truth--------------------\u001b[0m\n",
      "\u001b[32m2024-12-20 15:22:16.966\u001b[0m | \u001b[1mINFO    \u001b[0m | \u001b[36mevaluator\u001b[0m:\u001b[36mevaluate_scenario\u001b[0m:\u001b[36m82\u001b[0m - \u001b[1mSpaghetti Carbonara is a classic Italian dish. I'll add it to your order.\n",
      "So, to confirm:\n",
      "* Restaurant: Roman Holiday\n",
      "* Dish: Spaghetti Carbonara\n",
      "Now, let's talk about delivery time. When would you like to receive your order?\u001b[0m\n",
      "\u001b[32m2024-12-20 15:22:33.626\u001b[0m | \u001b[1mINFO    \u001b[0m | \u001b[36mevaluator\u001b[0m:\u001b[36mevaluate_scenario\u001b[0m:\u001b[36m95\u001b[0m - \u001b[1m{'factual_correctness': 1.0, 'factual_correctness_explanation': \"The chatbot correctly identified the restaurants that serve pasta and listed the pasta dishes available at Roman Holiday. The chatbot also correctly confirmed the user's order and asked for the delivery time.\", 'appropriateness': 1.0, 'appropriateness_explanation': \"The chatbot's responses were appropriate and relevant to the user's queries. The chatbot provided the user with options and asked for clarification when necessary. The chatbot also confirmed the user's order and asked for the delivery time, which is a standard part of the ordering process.\"}\u001b[0m\n",
      "\u001b[32m2024-12-20 15:23:01.385\u001b[0m | \u001b[1mINFO    \u001b[0m | \u001b[36mevaluator\u001b[0m:\u001b[36mevaluate_scenario\u001b[0m:\u001b[36m79\u001b[0m - \u001b[1m--------------------predicted_message--------------------\u001b[0m\n",
      "\u001b[32m2024-12-20 15:23:01.387\u001b[0m | \u001b[1mINFO    \u001b[0m | \u001b[36mevaluator\u001b[0m:\u001b[36mevaluate_scenario\u001b[0m:\u001b[36m80\u001b[0m - \u001b[1mYou have chosen to order 1 portion of Spaghetti Carbonara from Roman Holiday by 16:00. Is that accurate?\u001b[0m\n",
      "\u001b[32m2024-12-20 15:23:01.388\u001b[0m | \u001b[1mINFO    \u001b[0m | \u001b[36mevaluator\u001b[0m:\u001b[36mevaluate_scenario\u001b[0m:\u001b[36m81\u001b[0m - \u001b[1m--------------------ground_truth--------------------\u001b[0m\n",
      "\u001b[32m2024-12-20 15:23:01.391\u001b[0m | \u001b[1mINFO    \u001b[0m | \u001b[36mevaluator\u001b[0m:\u001b[36mevaluate_scenario\u001b[0m:\u001b[36m82\u001b[0m - \u001b[1mYou have chosen to order Spaghetti Carbonara from Roman Holiday by 16:00. Is that correct?\u001b[0m\n",
      "\u001b[32m2024-12-20 15:23:10.661\u001b[0m | \u001b[1mINFO    \u001b[0m | \u001b[36mevaluator\u001b[0m:\u001b[36mevaluate_scenario\u001b[0m:\u001b[36m95\u001b[0m - \u001b[1m{'factual_correctness': 1.0, 'factual_correctness_explanation': 'The chatbot response is factually correct because it correctly states the chosen restaurant and dish, and the user confirms the order.', 'appropriateness': 1.0, 'appropriateness_explanation': 'The chatbot response is appropriate because it asks for the order confirmation and clarification, and the user confirms the order. The chatbot also correctly states the chosen restaurant and dish.'}\u001b[0m\n",
      "\u001b[32m2024-12-20 15:23:10.710\u001b[0m | \u001b[1mINFO    \u001b[0m | \u001b[36mevaluator\u001b[0m:\u001b[36mevaluate_scenario\u001b[0m:\u001b[36m60\u001b[0m - \u001b[1mEvaluating scenario 2\u001b[0m\n"
     ]
    },
    {
     "name": "stdout",
     "output_type": "stream",
     "text": [
      "[0.8125] 0.8125 0.0\n",
      "[0.75] 0.75 0.0\n",
      "####################\n"
     ]
    },
    {
     "name": "stderr",
     "output_type": "stream",
     "text": [
      "\u001b[32m2024-12-20 15:23:32.002\u001b[0m | \u001b[1mINFO    \u001b[0m | \u001b[36mevaluator\u001b[0m:\u001b[36mevaluate_scenario\u001b[0m:\u001b[36m79\u001b[0m - \u001b[1m--------------------predicted_message--------------------\u001b[0m\n",
      "\u001b[32m2024-12-20 15:23:32.004\u001b[0m | \u001b[1mINFO    \u001b[0m | \u001b[36mevaluator\u001b[0m:\u001b[36mevaluate_scenario\u001b[0m:\u001b[36m80\u001b[0m - \u001b[1mPasta and pizza sound delicious!\n",
      "\n",
      "Based on your preferences, I would recommend the following restaurants:\n",
      "\n",
      "* Roman Holiday: They have a variety of pasta dishes, including Spaghetti Carbonara (pasta) and Lasagna al Forno, as well as a classic Margherita Pizza.\n",
      "* Nippon: Although they specialize in Japanese cuisine, they do have a few dishes that might not be what you're looking for, but they do have a dish called \"Okonomiyaki\" which is a savory pancake made with cabbage, pork, and seafood, topped with a sweet and tangy sauce. It's not a traditional pasta or pizza, but it's a savory dish that might interest you.\n",
      "* Burger Shef: Unfortunately, they don't have any pasta or pizza on their menu, but they do have a variety of burgers that might be worth considering.\n",
      "\n",
      "If you're interested in ordering from Roman Holiday, I can provide you with their menu options. Would you like to proceed with ordering from Roman Holiday, or would you like to explore other options?\u001b[0m\n",
      "\u001b[32m2024-12-20 15:23:32.004\u001b[0m | \u001b[1mINFO    \u001b[0m | \u001b[36mevaluator\u001b[0m:\u001b[36mevaluate_scenario\u001b[0m:\u001b[36m81\u001b[0m - \u001b[1m--------------------ground_truth--------------------\u001b[0m\n",
      "\u001b[32m2024-12-20 15:23:32.005\u001b[0m | \u001b[1mINFO    \u001b[0m | \u001b[36mevaluator\u001b[0m:\u001b[36mevaluate_scenario\u001b[0m:\u001b[36m82\u001b[0m - \u001b[1mPasta and pizza sound delicious!\n",
      "Based on your preferences, I would recommend the following restaurant:\n",
      "**Roman Holiday** - They have a variety of pasta dishes, such as Spaghetti Carbonara and Lasagna al Forno, and also offer classic pizzas like Margherita Pizza.\n",
      "Would you like to order from Roman Holiday?\n",
      "Please let me know if you'd like to proceed with Roman Holiday or explore other options.\n",
      "Also, could you please tell me what time would you like the order to be delivered?\u001b[0m\n",
      "\u001b[32m2024-12-20 15:23:48.328\u001b[0m | \u001b[1mINFO    \u001b[0m | \u001b[36mevaluator\u001b[0m:\u001b[36mevaluate_scenario\u001b[0m:\u001b[36m95\u001b[0m - \u001b[1m{'factual_correctness': 0.8, 'factual_correctness_explanation': \"The chatbot correctly identifies Roman Holiday as a restaurant that serves pasta and pizza, but also provides unnecessary information about Nippon's 'Okonomiyaki' dish.\", 'appropriateness': 0.7, 'appropriateness_explanation': 'The chatbot correctly identifies Roman Holiday as a good option for pasta and pizza, but also provides unnecessary information that distracts from the main point of the conversation.'}\u001b[0m\n",
      "\u001b[32m2024-12-20 15:24:14.405\u001b[0m | \u001b[1mINFO    \u001b[0m | \u001b[36mevaluator\u001b[0m:\u001b[36mevaluate_scenario\u001b[0m:\u001b[36m79\u001b[0m - \u001b[1m--------------------predicted_message--------------------\u001b[0m\n",
      "\u001b[32m2024-12-20 15:24:14.407\u001b[0m | \u001b[1mINFO    \u001b[0m | \u001b[36mevaluator\u001b[0m:\u001b[36mevaluate_scenario\u001b[0m:\u001b[36m80\u001b[0m - \u001b[1mRoman Holiday has a wonderful menu. Here are their options:\n",
      "\n",
      "**Pasta:**\n",
      "\n",
      "1. **Spaghetti Carbonara (pasta)** - Pasta dish with egg, pancetta, pecorino cheese, and black pepper ($14.99)\n",
      "2. **Lasagna al Forno** - Layers of pasta, Bolognese sauce, bechamel, and melted cheese baked to perfection ($13.99)\n",
      "3. **Gnocchi alla Sorrentina** - Potato dumplings with tomato sauce, mozzarella, and basil ($11.99)\n",
      "\n",
      "**Pizza:**\n",
      "\n",
      "1. **Margherita Pizza** - Traditional pizza topped with tomato sauce, fresh mozzarella, basil, and olive oil ($12.99)\n",
      "\n",
      "Please let me know which dishes you'd like to order, and how many portions of each dish you'd like. Also, don't forget to tell me the time for delivery!\u001b[0m\n",
      "\u001b[32m2024-12-20 15:24:14.409\u001b[0m | \u001b[1mINFO    \u001b[0m | \u001b[36mevaluator\u001b[0m:\u001b[36mevaluate_scenario\u001b[0m:\u001b[36m81\u001b[0m - \u001b[1m--------------------ground_truth--------------------\u001b[0m\n",
      "\u001b[32m2024-12-20 15:24:14.410\u001b[0m | \u001b[1mINFO    \u001b[0m | \u001b[36mevaluator\u001b[0m:\u001b[36mevaluate_scenario\u001b[0m:\u001b[36m82\u001b[0m - \u001b[1mRoman Holiday has a wonderful menu. Here are some of their pasta and pizza options:\n",
      "**Pasta:**\n",
      "1. **Spaghetti Carbonara** - Pasta dish with egg, pancetta, pecorino cheese, and black pepper ($14.99)\n",
      "2. **Lasagna al Forno** - Layers of pasta, Bolognese sauce, bechamel, and melted cheese baked to perfection ($13.99)\n",
      "3. **Gnocchi alla Sorrentina** - Potato dumplings with tomato sauce, mozzarella, and basil ($11.99)\n",
      "**Pizza:**\n",
      "1. **Margherita Pizza** - Traditional pizza topped with tomato sauce, fresh mozzarella, basil, and olive oil ($12.99)\n",
      "2. **Caprese Salad** - Fresh tomatoes, mozzarella cheese, basil, olive oil, and balsamic glaze (Note: This is a salad, not a pizza, but it's a great option if you want a lighter meal!)\n",
      "Please let me know which pasta or pizza option you'd like to order. If you'd like to order multiple items, just let me know and I'll be happy to help!\n",
      "Also, don't forget to tell me what time you'd like the order to be delivered.\u001b[0m\n",
      "\u001b[32m2024-12-20 15:24:38.831\u001b[0m | \u001b[1mINFO    \u001b[0m | \u001b[36mevaluator\u001b[0m:\u001b[36mevaluate_scenario\u001b[0m:\u001b[36m95\u001b[0m - \u001b[1m{'factual_correctness': 0.8, 'factual_correctness_explanation': 'The chatbot response is mostly factually correct, but it misses the Caprese Salad option, which is a pizza option in the ground truth response.', 'appropriateness': 0.8, 'appropriateness_explanation': 'The chatbot response is mostly appropriate, but it could be more specific in its recommendations and provide more details about the dishes.'}\u001b[0m\n",
      "\u001b[32m2024-12-20 15:25:01.328\u001b[0m | \u001b[1mINFO    \u001b[0m | \u001b[36mevaluator\u001b[0m:\u001b[36mevaluate_scenario\u001b[0m:\u001b[36m79\u001b[0m - \u001b[1m--------------------predicted_message--------------------\u001b[0m\n",
      "\u001b[32m2024-12-20 15:25:01.335\u001b[0m | \u001b[1mINFO    \u001b[0m | \u001b[36mevaluator\u001b[0m:\u001b[36mevaluate_scenario\u001b[0m:\u001b[36m80\u001b[0m - \u001b[1mYou've chosen two delicious options from Roman Holiday.\n",
      "\n",
      "To confirm your order:\n",
      "\n",
      "* You'd like to order **Spaghetti Carbonara** ($14.99) and **Margherita Pizza** ($12.99) from Roman Holiday.\n",
      "* You'd like the order to be delivered by **16:00**.\n",
      "\n",
      "Is this correct?\n",
      "\n",
      "Also, please let me know how many portions of each dish you'd like to order. You can order up to 15 portions of each dish.\u001b[0m\n",
      "\u001b[32m2024-12-20 15:25:01.336\u001b[0m | \u001b[1mINFO    \u001b[0m | \u001b[36mevaluator\u001b[0m:\u001b[36mevaluate_scenario\u001b[0m:\u001b[36m81\u001b[0m - \u001b[1m--------------------ground_truth--------------------\u001b[0m\n",
      "\u001b[32m2024-12-20 15:25:01.337\u001b[0m | \u001b[1mINFO    \u001b[0m | \u001b[36mevaluator\u001b[0m:\u001b[36mevaluate_scenario\u001b[0m:\u001b[36m82\u001b[0m - \u001b[1mYou have chosen to order Spaghetti Carbonara, Margherita Pizza from Roman Holiday by 16:00. Is that correct?\u001b[0m\n",
      "\u001b[32m2024-12-20 15:25:15.198\u001b[0m | \u001b[1mINFO    \u001b[0m | \u001b[36mevaluator\u001b[0m:\u001b[36mevaluate_scenario\u001b[0m:\u001b[36m95\u001b[0m - \u001b[1m{'factual_correctness': 0.8, 'factual_correctness_explanation': \"The chatbot correctly identified the user's preference for pasta and pizza, and recommended Roman Holiday as a suitable restaurant. However, it did not provide a complete list of pasta and pizza options available at Roman Holiday, which is a minor factual inaccuracy.\", 'appropriateness': 0.9, 'appropriateness_explanation': \"The chatbot's response was generally appropriate, as it acknowledged the user's preference and provided a suitable restaurant recommendation. However, it could have been more specific in its response, and provided more detailed information about the available options at Roman Holiday.\"}\u001b[0m\n",
      "\u001b[32m2024-12-20 15:25:15.241\u001b[0m | \u001b[1mINFO    \u001b[0m | \u001b[36mevaluator\u001b[0m:\u001b[36mevaluate_scenario\u001b[0m:\u001b[36m60\u001b[0m - \u001b[1mEvaluating scenario 3\u001b[0m\n"
     ]
    },
    {
     "name": "stdout",
     "output_type": "stream",
     "text": [
      "[0.8125, 0.8000000000000002] 0.8062500000000001 0.006249999999999922\n",
      "[0.75, 0.7999999999999999] 0.7749999999999999 0.024999999999999967\n",
      "####################\n"
     ]
    },
    {
     "name": "stderr",
     "output_type": "stream",
     "text": [
      "\u001b[32m2024-12-20 15:25:29.336\u001b[0m | \u001b[1mINFO    \u001b[0m | \u001b[36mevaluator\u001b[0m:\u001b[36mevaluate_scenario\u001b[0m:\u001b[36m79\u001b[0m - \u001b[1m--------------------predicted_message--------------------\u001b[0m\n",
      "\u001b[32m2024-12-20 15:25:29.337\u001b[0m | \u001b[1mINFO    \u001b[0m | \u001b[36mevaluator\u001b[0m:\u001b[36mevaluate_scenario\u001b[0m:\u001b[36m80\u001b[0m - \u001b[1mUnfortunately, pancakes are not mentioned in the menu of any of the available restaurants. Could you please choose a different dish or cuisine? I can suggest some restaurants that might have what you're looking for.\n",
      "\n",
      "Here are some restaurants that might have pancakes or similar dishes:\n",
      "\n",
      "* Roman Holiday (Italian cuisine) - They have a variety of Italian desserts, but no pancakes.\n",
      "* Gagimarjos (Georgian cuisine) - They have some sweet dishes, but no pancakes.\n",
      "\n",
      "If you're interested in trying something else, I can suggest some popular dishes from these restaurants. Alternatively, you can choose a different cuisine or dish, and I'll do my best to help you find a suitable restaurant.\n",
      "\n",
      "What would you like to do?\u001b[0m\n",
      "\u001b[32m2024-12-20 15:25:29.338\u001b[0m | \u001b[1mINFO    \u001b[0m | \u001b[36mevaluator\u001b[0m:\u001b[36mevaluate_scenario\u001b[0m:\u001b[36m81\u001b[0m - \u001b[1m--------------------ground_truth--------------------\u001b[0m\n",
      "\u001b[32m2024-12-20 15:25:29.340\u001b[0m | \u001b[1mINFO    \u001b[0m | \u001b[36mevaluator\u001b[0m:\u001b[36mevaluate_scenario\u001b[0m:\u001b[36m82\u001b[0m - \u001b[1mPancakes sound delicious! Unfortunately, pancakes are not a dish that is typically found in the menus of the restaurants I have access to. \n",
      "However, I can suggest some restaurants that might have a similar dish or a dish that you might enjoy.\u001b[0m\n",
      "\u001b[32m2024-12-20 15:25:41.973\u001b[0m | \u001b[1mINFO    \u001b[0m | \u001b[36mevaluator\u001b[0m:\u001b[36mevaluate_scenario\u001b[0m:\u001b[36m95\u001b[0m - \u001b[1m{'factual_correctness': 1.0, 'factual_correctness_explanation': 'The chatbot correctly states that pancakes are not available in any of the restaurants.', 'appropriateness': 0.8, 'appropriateness_explanation': 'The chatbot provides a relevant suggestion for alternative restaurants and dishes, but could be more specific in its suggestions.'}\u001b[0m\n"
     ]
    }
   ],
   "source": [
    "factual_correctness_list = []\n",
    "appropriateness_list = []\n",
    "for i in range(1, 20):\n",
    "    factual_correctness, appropriateness = evaluator.evaluate_scenario(i)\n",
    "    factual_correctness_list.append(factual_correctness)\n",
    "    appropriateness_list.append(appropriateness)\n",
    "    print(factual_correctness_list, np.mean(np.array(factual_correctness_list)), np.std(np.array(factual_correctness_list)))\n",
    "    print(appropriateness_list, np.mean(np.array(appropriateness_list)), np.std(np.array(appropriateness_list)))\n",
    "    print(\"#\"*20)"
   ]
  },
  {
   "cell_type": "code",
   "execution_count": null,
   "id": "05676f03-defe-4aa6-ab98-e48f59b7f06a",
   "metadata": {},
   "outputs": [],
   "source": [
    "sns.barplot(factual_correctness_list)"
   ]
  },
  {
   "cell_type": "code",
   "execution_count": null,
   "id": "00ee8942-bf31-4ac4-ab70-ee6db4da3e8f",
   "metadata": {},
   "outputs": [],
   "source": [
    "sns.barplot(appropriateness_list)\n"
   ]
  },
  {
   "cell_type": "code",
   "execution_count": 3,
   "id": "8e1236ce-58b2-4d9d-b5ba-8f5856378bce",
   "metadata": {},
   "outputs": [
    {
     "name": "stderr",
     "output_type": "stream",
     "text": [
      "\u001b[32m2024-12-20 15:09:41.303\u001b[0m | \u001b[1mINFO    \u001b[0m | \u001b[36mevaluator\u001b[0m:\u001b[36mevaluate_scenario\u001b[0m:\u001b[36m60\u001b[0m - \u001b[1mEvaluating scenario 6\u001b[0m\n",
      "\u001b[32m2024-12-20 15:10:04.210\u001b[0m | \u001b[1mINFO    \u001b[0m | \u001b[36mevaluator\u001b[0m:\u001b[36mevaluate_scenario\u001b[0m:\u001b[36m79\u001b[0m - \u001b[1m--------------------predicted_message--------------------\u001b[0m\n",
      "\u001b[32m2024-12-20 15:10:04.212\u001b[0m | \u001b[1mINFO    \u001b[0m | \u001b[36mevaluator\u001b[0m:\u001b[36mevaluate_scenario\u001b[0m:\u001b[36m80\u001b[0m - \u001b[1mKhinkali is a traditional Georgian dish. Based on your request, I would recommend the Gagimarjos restaurant, which serves a variety of khinkali dishes. \n",
      "\n",
      "Here is a brief description of the Gagimarjos restaurant:\n",
      "Gagimarjos is a Georgian restaurant that offers a unique and vibrant dining experience. Their menu showcases the diverse culinary heritage of Georgia, with dishes such as khachapuri, khinkali, and hearty stews bursting with herbs and spices.\n",
      "\n",
      "Here is the menu of the Gagimarjos restaurant:\n",
      "\n",
      "**Khinkali**\n",
      "\n",
      "* Kalakuri Khinkali: Juicy dumplings filled with spiced meat. ($8.99)\n",
      "* Mtiuluri Khinkali: Mountain-style khinkali, filled with meat, spices, and broth. ($8.99)\n",
      "\n",
      "Would you like to order from the Gagimarjos restaurant?\u001b[0m\n",
      "\u001b[32m2024-12-20 15:10:04.213\u001b[0m | \u001b[1mINFO    \u001b[0m | \u001b[36mevaluator\u001b[0m:\u001b[36mevaluate_scenario\u001b[0m:\u001b[36m81\u001b[0m - \u001b[1m--------------------ground_truth--------------------\u001b[0m\n",
      "\u001b[32m2024-12-20 15:10:04.214\u001b[0m | \u001b[1mINFO    \u001b[0m | \u001b[36mevaluator\u001b[0m:\u001b[36mevaluate_scenario\u001b[0m:\u001b[36m82\u001b[0m - \u001b[1mKhinkali is a traditional Georgian dish. I see that Gagimarjos restaurant serves Khinkali. Would you like to order from Gagimarjos?\n",
      "Here is their menu:\n",
      "Khinkali - Juicy dumplings filled with spiced meat or vegetables - $8.99\n",
      "Adjaruli Khachapuri - Boat-shaped bread filled with cheese, butter, and egg - $14.99\n",
      "Mtsvadi - Grilled skewers of marinated meat (pork, beef, or chicken) - $11.99\n",
      "Lobio - Spicy bean stew with herbs and spices - $9.99\n",
      "Chakapuli - Lamb stew with tarragon, onions, and white wine - $15.99\n",
      "Badrijani Nigvzit - Eggplant rolls filled with walnut paste and pomegranate seeds - $10.99\n",
      "Pkhali - Vegetable or meat patties with walnut and garlic sauce - $8.99\n",
      "Churchkhela - Walnut and grape juice candy on a string - $5.99\n",
      "Would you like to order Khinkali from Gagimarjos?\u001b[0m\n",
      "\u001b[32m2024-12-20 15:10:14.752\u001b[0m | \u001b[1mINFO    \u001b[0m | \u001b[36mevaluator\u001b[0m:\u001b[36mevaluate_scenario\u001b[0m:\u001b[36m95\u001b[0m - \u001b[1m{'factual_correctness': 0.8, 'factual_correctness_explanation': 'The chatbot correctly identified the Gagimarjos restaurant as serving khinkali, but did not provide the full menu as in the ground truth response. The chatbot also did not mention that the user can order khinkali from the Gagimarjos restaurant.', 'appropriateness': 0.8, 'appropriateness_explanation': \"The chatbot's response was somewhat relevant to the user's request, but could have been more specific and detailed. The chatbot did not ask the user to confirm their order or provide additional information about the restaurant and its menu.\"}\u001b[0m\n",
      "\u001b[32m2024-12-20 15:10:30.482\u001b[0m | \u001b[1mINFO    \u001b[0m | \u001b[36mevaluator\u001b[0m:\u001b[36mevaluate_scenario\u001b[0m:\u001b[36m79\u001b[0m - \u001b[1m--------------------predicted_message--------------------\u001b[0m\n",
      "\u001b[32m2024-12-20 15:10:30.486\u001b[0m | \u001b[1mINFO    \u001b[0m | \u001b[36mevaluator\u001b[0m:\u001b[36mevaluate_scenario\u001b[0m:\u001b[36m80\u001b[0m - \u001b[1mYou have chosen to order 10 portions of Khinkali from Gagimarjos by 12:00. Is that accurate?\u001b[0m\n",
      "\u001b[32m2024-12-20 15:10:30.487\u001b[0m | \u001b[1mINFO    \u001b[0m | \u001b[36mevaluator\u001b[0m:\u001b[36mevaluate_scenario\u001b[0m:\u001b[36m81\u001b[0m - \u001b[1m--------------------ground_truth--------------------\u001b[0m\n",
      "\u001b[32m2024-12-20 15:10:30.488\u001b[0m | \u001b[1mINFO    \u001b[0m | \u001b[36mevaluator\u001b[0m:\u001b[36mevaluate_scenario\u001b[0m:\u001b[36m82\u001b[0m - \u001b[1mYou have chosen to order Khinkali from Gagimarjos by 12:00. Is that correct?\u001b[0m\n",
      "\u001b[32m2024-12-20 15:10:41.618\u001b[0m | \u001b[1mINFO    \u001b[0m | \u001b[36mevaluator\u001b[0m:\u001b[36mevaluate_scenario\u001b[0m:\u001b[36m95\u001b[0m - \u001b[1m{'factual_correctness': 1.0, 'factual_correctness_explanation': \"The chatbot response is factually correct because it correctly identifies the user's order as 10 portions of Khinkali from Gagimarjos by 12:00, which is present in the user's input.\", 'appropriateness': 1.0, 'appropriateness_explanation': \"The chatbot response is appropriate because it asks for confirmation of the order, which is a common practice in food ordering conversations. The chatbot also correctly identifies the user's order and provides a clear question for confirmation.\"}\u001b[0m\n",
      "\u001b[32m2024-12-20 15:10:57.170\u001b[0m | \u001b[1mINFO    \u001b[0m | \u001b[36mevaluator\u001b[0m:\u001b[36mevaluate_scenario\u001b[0m:\u001b[36m79\u001b[0m - \u001b[1m--------------------predicted_message--------------------\u001b[0m\n",
      "\u001b[32m2024-12-20 15:10:57.173\u001b[0m | \u001b[1mINFO    \u001b[0m | \u001b[36mevaluator\u001b[0m:\u001b[36mevaluate_scenario\u001b[0m:\u001b[36m80\u001b[0m - \u001b[1mYou have chosen to order 10 portions of Khinkali, 3 portions of Churchkhela from Gagimarjos by 12:00. Is that accurate?\u001b[0m\n",
      "\u001b[32m2024-12-20 15:10:57.175\u001b[0m | \u001b[1mINFO    \u001b[0m | \u001b[36mevaluator\u001b[0m:\u001b[36mevaluate_scenario\u001b[0m:\u001b[36m81\u001b[0m - \u001b[1m--------------------ground_truth--------------------\u001b[0m\n",
      "\u001b[32m2024-12-20 15:10:57.177\u001b[0m | \u001b[1mINFO    \u001b[0m | \u001b[36mevaluator\u001b[0m:\u001b[36mevaluate_scenario\u001b[0m:\u001b[36m82\u001b[0m - \u001b[1mYou have chosen to order Khinkali, Churchkhela from Gagimarjos by 12:00. Is that correct?\u001b[0m\n",
      "\u001b[32m2024-12-20 15:11:09.809\u001b[0m | \u001b[1mINFO    \u001b[0m | \u001b[36mevaluator\u001b[0m:\u001b[36mevaluate_scenario\u001b[0m:\u001b[36m95\u001b[0m - \u001b[1m{'factual_correctness': 0.8, 'factual_correctness_explanation': \"The chatbot correctly identified the user's order as Khinkali and Churchkhela from Gagimarjos. However, it incorrectly stated the number of portions of Khinkali as 10, whereas the user only mentioned 'yes, 10 khinkali by 12:00' without specifying the quantity. The chatbot also failed to ask for the number of portions of Churchkhela.\", 'appropriateness': 0.8, 'appropriateness_explanation': \"The chatbot's response was somewhat relevant to the user's input, as it correctly identified the user's order and the restaurant. However, it failed to ask for the number of portions of Churchkhela, which is an important detail. The chatbot also failed to clarify the user's order, asking instead if it was accurate, which is not necessary given the user's confirmation.\"}\u001b[0m\n",
      "\u001b[32m2024-12-20 15:11:27.992\u001b[0m | \u001b[1mINFO    \u001b[0m | \u001b[36mevaluator\u001b[0m:\u001b[36mevaluate_scenario\u001b[0m:\u001b[36m79\u001b[0m - \u001b[1m--------------------predicted_message--------------------\u001b[0m\n",
      "\u001b[32m2024-12-20 15:11:27.994\u001b[0m | \u001b[1mINFO    \u001b[0m | \u001b[36mevaluator\u001b[0m:\u001b[36mevaluate_scenario\u001b[0m:\u001b[36m80\u001b[0m - \u001b[1mYou have chosen to order 3 portions of Churchkhela, 1 portion of Lobio from Gagimarjos by 12:00. Is that accurate?\u001b[0m\n",
      "\u001b[32m2024-12-20 15:11:27.995\u001b[0m | \u001b[1mINFO    \u001b[0m | \u001b[36mevaluator\u001b[0m:\u001b[36mevaluate_scenario\u001b[0m:\u001b[36m81\u001b[0m - \u001b[1m--------------------ground_truth--------------------\u001b[0m\n",
      "\u001b[32m2024-12-20 15:11:27.995\u001b[0m | \u001b[1mINFO    \u001b[0m | \u001b[36mevaluator\u001b[0m:\u001b[36mevaluate_scenario\u001b[0m:\u001b[36m82\u001b[0m - \u001b[1mYou have chosen to order Churchkhela, Lobio from Gagimarjos by 12:00. Is that correct?\u001b[0m\n",
      "\u001b[32m2024-12-20 15:11:40.976\u001b[0m | \u001b[1mINFO    \u001b[0m | \u001b[36mevaluator\u001b[0m:\u001b[36mevaluate_scenario\u001b[0m:\u001b[36m95\u001b[0m - \u001b[1m{'factual_correctness': 0.8, 'factual_correctness_explanation': 'The chatbot response is mostly factually correct, but it incorrectly states that the user ordered 3 portions of Churchkhela and 1 portion of Lobio. The user actually ordered 10 portions of Khinkali and 3 portions of Churchkhela, and then removed Khinkali and added Lobio. The chatbot should have reflected these changes in the order.', 'appropriateness': 0.9, 'appropriateness_explanation': \"The chatbot response is mostly appropriate, but it could be more precise in reflecting the user's changes to the order. The chatbot should have asked for confirmation of the updated order, which includes 3 portions of Churchkhela and 1 portion of Lobio from Gagimarjos by 12:00.\"}\u001b[0m\n"
     ]
    },
    {
     "data": {
      "text/plain": [
       "(0.8500000000000001, 0.875)"
      ]
     },
     "execution_count": 3,
     "metadata": {},
     "output_type": "execute_result"
    }
   ],
   "source": [
    "evaluator.evaluate_scenario(6)"
   ]
  },
  {
   "cell_type": "code",
   "execution_count": 4,
   "id": "4cb9caf9-5455-4ab4-8c62-09fbab6fcb09",
   "metadata": {},
   "outputs": [
    {
     "name": "stderr",
     "output_type": "stream",
     "text": [
      "\u001b[32m2024-12-20 15:11:41.051\u001b[0m | \u001b[1mINFO    \u001b[0m | \u001b[36mevaluator\u001b[0m:\u001b[36mevaluate_scenario\u001b[0m:\u001b[36m60\u001b[0m - \u001b[1mEvaluating scenario 9\u001b[0m\n",
      "\u001b[32m2024-12-20 15:12:01.081\u001b[0m | \u001b[1mINFO    \u001b[0m | \u001b[36mevaluator\u001b[0m:\u001b[36mevaluate_scenario\u001b[0m:\u001b[36m79\u001b[0m - \u001b[1m--------------------predicted_message--------------------\u001b[0m\n",
      "\u001b[32m2024-12-20 15:12:01.082\u001b[0m | \u001b[1mINFO    \u001b[0m | \u001b[36mevaluator\u001b[0m:\u001b[36mevaluate_scenario\u001b[0m:\u001b[36m80\u001b[0m - \u001b[1mA small lunch with something spicy sounds like a great idea!\n",
      "\n",
      "Based on your request, I would recommend the following restaurants that serve spicy dishes:\n",
      "\n",
      "1. **Sukhothai**: This Thai restaurant has a variety of spicy dishes, such as Tom Yum Soup, Som Tum (Papaya Salad), and Panang Curry. Their dishes are made with fresh and aromatic ingredients, and they have a good balance of spicy and sour flavors.\n",
      "2. **Gagimarjos**: This Georgian restaurant has some spicy dishes, such as Lobio (Spicy bean stew) and Pkhali (Minced vegetables mixed with walnuts, herbs, and spices). Their dishes are made with a blend of spices and herbs that will add a nice kick to your meal.\n",
      "\n",
      "Both of these restaurants have a great selection of spicy dishes that I think you'll enjoy. Would you like to choose one of these restaurants or would you like me to suggest more options?\u001b[0m\n",
      "\u001b[32m2024-12-20 15:12:01.082\u001b[0m | \u001b[1mINFO    \u001b[0m | \u001b[36mevaluator\u001b[0m:\u001b[36mevaluate_scenario\u001b[0m:\u001b[36m81\u001b[0m - \u001b[1m--------------------ground_truth--------------------\u001b[0m\n",
      "\u001b[32m2024-12-20 15:12:01.083\u001b[0m | \u001b[1mINFO    \u001b[0m | \u001b[36mevaluator\u001b[0m:\u001b[36mevaluate_scenario\u001b[0m:\u001b[36m82\u001b[0m - \u001b[1mA small lunch with something spicy sounds like a great idea!\n",
      "Considering your request for something spicy, I'd recommend checking out Sukhothai, a Thai restaurant. They have a variety of spicy dishes on their menu, such as Tom Yum Soup, Green Curry, and Som Tum (Papaya Salad).\n",
      "Would you like to order from Sukhothai?\n",
      "Here's a brief description of their menu:\n",
      "**Sukhothai Menu**\n",
      "* Pad Thai: Stir-fried rice noodles with shrimp, tofu, egg, bean sprouts, and peanuts in a tangy tamarind sauce ($12.99)\n",
      "* Tom Yum Soup: Spicy and sour soup with shrimp, mushrooms, lemongrass, and Thai herbs ($10.99)\n",
      "* Green Curry: Creamy coconut milk curry with chicken, eggplant, bamboo shoots, and basil ($13.99)\n",
      "* Som Tum (Papaya Salad): Shredded green papaya salad with tomatoes, green beans, peanuts, and a spicy lime dressing ($9.99)\n",
      "* And many more!\n",
      "Which dish catches your eye?\u001b[0m\n",
      "\u001b[32m2024-12-20 15:12:27.057\u001b[0m | \u001b[1mINFO    \u001b[0m | \u001b[36mevaluator\u001b[0m:\u001b[36mevaluate_scenario\u001b[0m:\u001b[36m95\u001b[0m - \u001b[1m{'factual_correctness': 0.8, 'factual_correctness_explanation': 'The chatbot response is factually correct, but it could have been more specific and detailed.', 'appropriateness': 0.8, 'appropriateness_explanation': \"The chatbot response is relevant to the user's request and provides a good starting point for the conversation.\"}\u001b[0m\n",
      "\u001b[32m2024-12-20 15:12:48.460\u001b[0m | \u001b[1mINFO    \u001b[0m | \u001b[36mevaluator\u001b[0m:\u001b[36mevaluate_scenario\u001b[0m:\u001b[36m79\u001b[0m - \u001b[1m--------------------predicted_message--------------------\u001b[0m\n",
      "\u001b[32m2024-12-20 15:12:48.463\u001b[0m | \u001b[1mINFO    \u001b[0m | \u001b[36mevaluator\u001b[0m:\u001b[36mevaluate_scenario\u001b[0m:\u001b[36m80\u001b[0m - \u001b[1mGreen Curry is a popular and delicious dish from Sukhothai's menu. It's a creamy coconut milk curry with chicken, eggplant, bamboo shoots, and basil, and it's indeed quite spicy.\n",
      "\n",
      "So, to confirm, you'd like to order Green Curry from Sukhothai, correct?\n",
      "\n",
      "Now, let's talk about the order details. How many portions of Green Curry would you like to order? We can deliver up to 15 portions of any dish.\n",
      "\n",
      "Also, what time would you like to receive your order? Would you like it delivered within the next hour, or would you prefer a specific time today or tomorrow?\u001b[0m\n",
      "\u001b[32m2024-12-20 15:12:48.464\u001b[0m | \u001b[1mINFO    \u001b[0m | \u001b[36mevaluator\u001b[0m:\u001b[36mevaluate_scenario\u001b[0m:\u001b[36m81\u001b[0m - \u001b[1m--------------------ground_truth--------------------\u001b[0m\n",
      "\u001b[32m2024-12-20 15:12:48.466\u001b[0m | \u001b[1mINFO    \u001b[0m | \u001b[36mevaluator\u001b[0m:\u001b[36mevaluate_scenario\u001b[0m:\u001b[36m82\u001b[0m - \u001b[1mGreen Curry is a delicious and spicy dish.\n",
      "To confirm, you'd like to order Green Curry from Sukhothai. Here are the details:\n",
      "* Dish: Green Curry\n",
      "* Restaurant: Sukhothai\n",
      "* Quantity: How many portions would you like to order? (Please note that the maximum quantity is 15 portions.)\n",
      "Also, would you like to specify any special requests or modifications for your order?\n",
      "And, would you like to choose a delivery time? Sukhothai can deliver within the next hour or by a specific time today or tomorrow.\u001b[0m\n",
      "\u001b[32m2024-12-20 15:13:11.972\u001b[0m | \u001b[1mINFO    \u001b[0m | \u001b[36mevaluator\u001b[0m:\u001b[36mevaluate_scenario\u001b[0m:\u001b[36m95\u001b[0m - \u001b[1m{'factual_correctness': 0.8, 'factual_correctness_explanation': \"The chatbot's response is factually correct, as Green Curry is a dish available at Sukhothai's menu. However, the chatbot's response is not entirely accurate, as it mentions that the dish is 'indeed quite spicy', which is not explicitly stated in the menu description.\", 'appropriateness': 0.6, 'appropriateness_explanation': \"The chatbot's response is not entirely clear, as it asks the user to confirm the order, but the user has already confirmed the order by choosing the dish. The chatbot's response is also not entirely clear, as it asks the user to specify the quantity of the dish, but the user has already chosen the dish and confirmed the order.\"}\u001b[0m\n",
      "\u001b[32m2024-12-20 15:13:46.255\u001b[0m | \u001b[1mINFO    \u001b[0m | \u001b[36mevaluator\u001b[0m:\u001b[36mevaluate_scenario\u001b[0m:\u001b[36m79\u001b[0m - \u001b[1m--------------------predicted_message--------------------\u001b[0m\n",
      "\u001b[32m2024-12-20 15:13:46.258\u001b[0m | \u001b[1mINFO    \u001b[0m | \u001b[36mevaluator\u001b[0m:\u001b[36mevaluate_scenario\u001b[0m:\u001b[36m80\u001b[0m - \u001b[1mConsidering your allergy to mushrooms, I've removed the Green Curry from the list.\n",
      "Here are the remaining dishes from Sukhothai that don't contain mushrooms:\n",
      "**Sukhothai Menu (Mushroom-Free)**\n",
      "* Pad Thai: Stir-fried rice noodles with shrimp, tofu, egg, bean sprouts, and peanuts in a tangy tamarind sauce ($12.99)\n",
      "* Tom Yum Soup: Spicy and sour soup with shrimp, lemongrass, and Thai herbs ($10.99)\n",
      "* Som Tum (Papaya Salad): Shredded green papaya salad with tomatoes, green beans, peanuts, and a spicy lime dressing ($9.99)\n",
      "* Chicken Satay: Grilled marinated chicken skewers served with peanut sauce and cucumber salad ($8.99)\n",
      "* Panang Curry: Thick and spicy curry with pork, bell peppers, kaffir lime leaves, and coconut milk ($12.99)\n",
      "* Chicken Pad See Ew: Stir-fried wide rice noodles with broccoli, egg, and chicken in a sweet soy sauce ($11.99)\n",
      "* Mango Sticky Rice Dessert: Sweet dessert made with ripe mango, sticky rice, and coconut milk ($7.99)\n",
      "\n",
      "Which dish from this list would you like to order instead?\u001b[0m\n",
      "\u001b[32m2024-12-20 15:13:46.260\u001b[0m | \u001b[1mINFO    \u001b[0m | \u001b[36mevaluator\u001b[0m:\u001b[36mevaluate_scenario\u001b[0m:\u001b[36m81\u001b[0m - \u001b[1m--------------------ground_truth--------------------\u001b[0m\n",
      "\u001b[32m2024-12-20 15:13:46.261\u001b[0m | \u001b[1mINFO    \u001b[0m | \u001b[36mevaluator\u001b[0m:\u001b[36mevaluate_scenario\u001b[0m:\u001b[36m82\u001b[0m - \u001b[1mI've removed the Green Curry from the options since it contains mushrooms.\n",
      "Here are the remaining dishes from Sukhothai that don't contain mushrooms:\n",
      "**Sukhothai Menu (Mushroom-Free)**\n",
      "* Pad Thai: Stir-fried rice noodles with shrimp, tofu, egg, bean sprouts, and peanuts in a tangy tamarind sauce ($12.99)\n",
      "* Tom Yum Soup: Spicy and sour soup with shrimp, lemongrass, and Thai herbs ($10.99)\n",
      "* Som Tum (Papaya Salad): Shredded green papaya salad with tomatoes, green beans, peanuts, and a spicy lime dressing ($9.99)\n",
      "* Pad See Ew: Stir-fried wide rice noodles with broccoli, egg, and your choice of protein in a sweet soy sauce ($11.99)\n",
      "* Massaman Curry: Rich and flavorful curry with beef, potatoes, onions, and peanuts in a fragrant sauce ($14.99)\n",
      "* Thai Iced Tea: Sweet and creamy iced tea made with strong brewed black tea, condensed milk, and sugar ($4.99)\n",
      "* Chicken Satay: Grilled marinated chicken skewers served with peanut sauce and cucumber salad ($8.99)\n",
      "* Panang Curry: Thick and spicy curry with pork, bell peppers, kaffir lime leaves, and coconut milk ($12.99)\n",
      "Which dish from this list would you like to order instead?\u001b[0m\n",
      "\u001b[32m2024-12-20 15:14:21.494\u001b[0m | \u001b[1mINFO    \u001b[0m | \u001b[36mevaluator\u001b[0m:\u001b[36mevaluate_scenario\u001b[0m:\u001b[36m95\u001b[0m - \u001b[1m{'factual_correctness': 0.8, 'factual_correctness_explanation': \"The chatbot's response is factually correct because it correctly removed the Green Curry from the list and provided the remaining dishes from Sukhothai that don't contain mushrooms. However, the chatbot's response is not entirely accurate because it included Chicken Pad See Ew, which contains mushrooms, and Thai Iced Tea, which is not a dish from Sukhothai.\", 'appropriateness': 0.6, 'appropriateness_explanation': \"The chatbot's response is not entirely appropriate because it did not provide the correct list of dishes from Sukhothai that don't contain mushrooms. The ground truth response is more appropriate because it provided the correct list of dishes from Sukhothai that don't contain mushrooms.\"}\u001b[0m\n",
      "\u001b[32m2024-12-20 15:14:50.370\u001b[0m | \u001b[1mINFO    \u001b[0m | \u001b[36mevaluator\u001b[0m:\u001b[36mevaluate_scenario\u001b[0m:\u001b[36m79\u001b[0m - \u001b[1m--------------------predicted_message--------------------\u001b[0m\n",
      "\u001b[32m2024-12-20 15:14:50.373\u001b[0m | \u001b[1mINFO    \u001b[0m | \u001b[36mevaluator\u001b[0m:\u001b[36mevaluate_scenario\u001b[0m:\u001b[36m80\u001b[0m - \u001b[1mMassaman Curry is a rich and flavorful dish.\n",
      "To confirm, you'd like to order Massaman Curry from Sukhothai. Here are the details:\n",
      "* Dish: Massaman Curry\n",
      "* Restaurant: Sukhothai\n",
      "* Quantity: How many portions would you like to order? (Please note that the maximum quantity is 15 portions.)\n",
      "\n",
      "Also, would you like to choose a delivery time? Sukhothai can deliver within the next hour or by a specific time today or tomorrow.\n",
      "\n",
      "Please let me know the quantity and delivery time, and I'll finalize your order!\u001b[0m\n",
      "\u001b[32m2024-12-20 15:14:50.374\u001b[0m | \u001b[1mINFO    \u001b[0m | \u001b[36mevaluator\u001b[0m:\u001b[36mevaluate_scenario\u001b[0m:\u001b[36m81\u001b[0m - \u001b[1m--------------------ground_truth--------------------\u001b[0m\n",
      "\u001b[32m2024-12-20 15:14:50.374\u001b[0m | \u001b[1mINFO    \u001b[0m | \u001b[36mevaluator\u001b[0m:\u001b[36mevaluate_scenario\u001b[0m:\u001b[36m82\u001b[0m - \u001b[1mMassaman Curry is a rich and flavorful dish.\n",
      "To confirm, you'd like to order Massaman Curry from Sukhothai. Here are the details:\n",
      "* Dish: Massaman Curry\n",
      "* Restaurant: Sukhothai\n",
      "* Quantity: How many portions would you like to order? (Please note that the maximum quantity is 15 portions.)\n",
      "And, would you like to choose a delivery time? Sukhothai can deliver within the next hour or by a specific time today or tomorrow.\n",
      "Please let me know your quantity and delivery time, and I'll finalize your order!\u001b[0m\n",
      "\u001b[32m2024-12-20 15:15:14.633\u001b[0m | \u001b[1mINFO    \u001b[0m | \u001b[36mevaluator\u001b[0m:\u001b[36mevaluate_scenario\u001b[0m:\u001b[36m95\u001b[0m - \u001b[1m{'factual_correctness': 1.0, 'factual_correctness_explanation': 'The chatbot correctly states that Massaman Curry is a dish from Sukhothai, and it is a rich and flavorful dish. The chatbot also correctly asks for the quantity and delivery time, which is in line with the available data.', 'appropriateness': 1.0, 'appropriateness_explanation': \"The chatbot correctly responds to the user's request to order Massaman Curry, and it provides the necessary details for the order. The chatbot also asks for the quantity and delivery time, which is a relevant question in the context of the conversation.\"}\u001b[0m\n",
      "\u001b[32m2024-12-20 15:15:30.099\u001b[0m | \u001b[1mINFO    \u001b[0m | \u001b[36mevaluator\u001b[0m:\u001b[36mevaluate_scenario\u001b[0m:\u001b[36m79\u001b[0m - \u001b[1m--------------------predicted_message--------------------\u001b[0m\n",
      "\u001b[32m2024-12-20 15:15:30.102\u001b[0m | \u001b[1mINFO    \u001b[0m | \u001b[36mevaluator\u001b[0m:\u001b[36mevaluate_scenario\u001b[0m:\u001b[36m80\u001b[0m - \u001b[1mYou have chosen to order 1 portion of Massaman Curry, 1 portion of Thai Iced Tea from Sukhothai by 14:00. Is that accurate?\u001b[0m\n",
      "\u001b[32m2024-12-20 15:15:30.103\u001b[0m | \u001b[1mINFO    \u001b[0m | \u001b[36mevaluator\u001b[0m:\u001b[36mevaluate_scenario\u001b[0m:\u001b[36m81\u001b[0m - \u001b[1m--------------------ground_truth--------------------\u001b[0m\n",
      "\u001b[32m2024-12-20 15:15:30.105\u001b[0m | \u001b[1mINFO    \u001b[0m | \u001b[36mevaluator\u001b[0m:\u001b[36mevaluate_scenario\u001b[0m:\u001b[36m82\u001b[0m - \u001b[1mYou have chosen to order 1 portion of Massaman Curry, 1 portion of Thai Iced Tea from Sukhothai by 14:00. Is that correct?\u001b[0m\n",
      "\u001b[32m2024-12-20 15:15:44.838\u001b[0m | \u001b[1mINFO    \u001b[0m | \u001b[36mevaluator\u001b[0m:\u001b[36mevaluate_scenario\u001b[0m:\u001b[36m95\u001b[0m - \u001b[1m{'factual_correctness': 1.0, 'factual_correctness_explanation': \"The chatbot correctly identified the user's request for a spicy dish and recommended Sukhothai as a suitable restaurant. It also correctly listed the available dishes from Sukhothai that do not contain mushrooms. Finally, it correctly confirmed the user's order for Massaman Curry and Thai Iced Tea from Sukhothai.\", 'appropriateness': 1.0, 'appropriateness_explanation': \"The chatbot's responses were highly relevant to the user's requests. It provided a clear and concise description of the available dishes from Sukhothai and helped the user to make an informed decision. The chatbot also correctly asked for clarification on the user's request for a mushroom-free dish and provided a suitable alternative. Overall, the chatbot's responses were well-structured and easy to follow.\"}\u001b[0m\n"
     ]
    },
    {
     "data": {
      "text/plain": [
       "(0.8800000000000001, 0.8)"
      ]
     },
     "execution_count": 4,
     "metadata": {},
     "output_type": "execute_result"
    }
   ],
   "source": [
    "evaluator.evaluate_scenario(9)"
   ]
  },
  {
   "cell_type": "code",
   "execution_count": null,
   "id": "75391c75-d5dc-4326-8cb4-ffcb9d8e2186",
   "metadata": {},
   "outputs": [],
   "source": []
  },
  {
   "cell_type": "code",
   "execution_count": null,
   "id": "e33cea16-de6d-48da-99cb-881be35fe3fd",
   "metadata": {},
   "outputs": [],
   "source": []
  }
 ],
 "metadata": {
  "kernelspec": {
   "display_name": "food-order-chat-bot",
   "language": "python",
   "name": "food-order-chat-bot"
  },
  "language_info": {
   "codemirror_mode": {
    "name": "ipython",
    "version": 3
   },
   "file_extension": ".py",
   "mimetype": "text/x-python",
   "name": "python",
   "nbconvert_exporter": "python",
   "pygments_lexer": "ipython3",
   "version": "3.9.20"
  }
 },
 "nbformat": 4,
 "nbformat_minor": 5
}
