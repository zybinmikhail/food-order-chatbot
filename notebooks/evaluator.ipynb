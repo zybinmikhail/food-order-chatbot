{
 "cells": [
  {
   "cell_type": "code",
   "execution_count": null,
   "id": "106c1ece-1df7-4127-88ac-77de907e0f47",
   "metadata": {},
   "outputs": [],
   "source": [
    "%cd ../src"
   ]
  },
  {
   "cell_type": "code",
   "execution_count": 2,
   "id": "52897c0b-d019-4564-999d-6cd92b63565f",
   "metadata": {},
   "outputs": [],
   "source": [
    "%load_ext autoreload\n",
    "%autoreload 2\n",
    "\n",
    "import numpy as np\n",
    "from loguru import logger\n",
    "\n",
    "import evaluator"
   ]
  },
  {
   "cell_type": "code",
   "execution_count": 3,
   "id": "c7755eec-cc56-4fb7-9a11-a0e460bdd5cd",
   "metadata": {},
   "outputs": [],
   "source": [
    "evaluator_model_dict = {\n",
    "    \"model\": \"neuralmagic/Llama-3.1-Nemotron-70B-Instruct-HF-FP8-dynamic\",\n",
    "    \"api_base\": \"***REMOVED***\",\n",
    "}\n",
    "chatbot_model_dict = {\n",
    "    \"model\": \"neuralmagic/Llama-3.1-Nemotron-70B-Instruct-HF-FP8-dynamic\",\n",
    "    \"api_base\": \"***REMOVED***\",\n",
    "}\n",
    "analyzer_model_dict = {\n",
    "    \"model\": \"neuralmagic/Llama-3.1-Nemotron-70B-Instruct-HF-FP8-dynamic\",\n",
    "    \"api_base\": \"***REMOVED***\",\n",
    "}\n",
    "use_provocator = True\n",
    "provocator_model_dict = {\n",
    "    \"model\": \"neuralmagic/Llama-3.1-Nemotron-70B-Instruct-HF-FP8-dynamic\",\n",
    "    \"api_base\": \"***REMOVED***\",\n",
    "}"
   ]
  },
  {
   "cell_type": "code",
   "execution_count": 4,
   "id": "e6f9f4b8",
   "metadata": {},
   "outputs": [],
   "source": [
    "provocator_modes = [\n",
    "    \"hacker that wants to jailbreak the chatbot\",\n",
    "    \"a person that types with a lot of typos and grammar mistakes\",\n",
    "    \"a person who wants to make fun out of the chatbot\",\n",
    "]"
   ]
  },
  {
   "cell_type": "code",
   "execution_count": 5,
   "id": "87dd5f14",
   "metadata": {},
   "outputs": [],
   "source": [
    "from datetime import datetime"
   ]
  },
  {
   "cell_type": "code",
   "execution_count": 6,
   "id": "68462620",
   "metadata": {},
   "outputs": [],
   "source": [
    "logger.remove()"
   ]
  },
  {
   "cell_type": "code",
   "execution_count": 7,
   "id": "951c06eb-ec94-469c-800a-15847284cece",
   "metadata": {
    "scrolled": true
   },
   "outputs": [],
   "source": [
    "factual_correctness_list = []\n",
    "appropriateness_list = []\n",
    "for i in range(16, 20):\n",
    "    now = datetime.now()\n",
    "    formatted_now = now.strftime(\"%Y-%m-%d_%H:%M:%S\")\n",
    "    logfile = f\"../logs/{formatted_now}_{i}.txt\"\n",
    "    with open(logfile, \"w\") as fout:\n",
    "        fout.write(\"evaluator_model_dict\" + \" \" + str(evaluator_model_dict) + \"\\n\")\n",
    "        fout.write(\"chatbot_model_dict\" + \" \" + str(chatbot_model_dict) + \"\\n\")\n",
    "        fout.write(\"analyzer_model_dict\" + \" \" + str(analyzer_model_dict) + \"\\n\")\n",
    "        if use_provocator:\n",
    "            fout.write(\n",
    "                \"provocator_model_dict\" + \" \" + str(provocator_model_dict) + \"\\n\"\n",
    "            )\n",
    "            provocator_mode = 2\n",
    "\n",
    "    logger.add(logfile)\n",
    "    factual_correctness, appropriateness = evaluator.evaluate_scenario(\n",
    "        i,\n",
    "        evaluator_model_dict,\n",
    "        chatbot_model_dict,\n",
    "        analyzer_model_dict,\n",
    "        use_provocator,\n",
    "        provocator_model_dict,\n",
    "        provocator_modes[provocator_mode],\n",
    "    )\n",
    "    factual_correctness_list.append(factual_correctness)\n",
    "    appropriateness_list.append(appropriateness)\n",
    "    logger.remove()\n",
    "\n",
    "    with open(logfile, \"a\") as fout:\n",
    "        print(\n",
    "            factual_correctness_list,\n",
    "            np.mean(np.array(factual_correctness_list)),\n",
    "            np.std(np.array(factual_correctness_list)),\n",
    "            file=fout,\n",
    "        )\n",
    "        print(\n",
    "            appropriateness_list,\n",
    "            np.mean(np.array(appropriateness_list)),\n",
    "            np.std(np.array(appropriateness_list)),\n",
    "            file=fout,\n",
    "        )\n",
    "        print(\"#\" * 20, file=fout)"
   ]
  }
 ],
 "metadata": {
  "kernelspec": {
   "display_name": "food-order-chat-bot",
   "language": "python",
   "name": "python3"
  },
  "language_info": {
   "codemirror_mode": {
    "name": "ipython",
    "version": 3
   },
   "file_extension": ".py",
   "mimetype": "text/x-python",
   "name": "python",
   "nbconvert_exporter": "python",
   "pygments_lexer": "ipython3",
   "version": "3.9.20"
  }
 },
 "nbformat": 4,
 "nbformat_minor": 5
}
