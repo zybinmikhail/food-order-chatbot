{
 "cells": [
  {
   "cell_type": "code",
   "execution_count": 1,
   "id": "106c1ece-1df7-4127-88ac-77de907e0f47",
   "metadata": {},
   "outputs": [
    {
     "name": "stdout",
     "output_type": "stream",
     "text": [
      "/Users/mikhail_zybin/food-order-chat-bot/src\n"
     ]
    }
   ],
   "source": [
    "%cd ../src"
   ]
  },
  {
   "cell_type": "code",
   "execution_count": 2,
   "id": "52897c0b-d019-4564-999d-6cd92b63565f",
   "metadata": {},
   "outputs": [],
   "source": [
    "%load_ext autoreload\n",
    "%autoreload 2\n",
    "\n",
    "import evaluator\n",
    "from pathlib import Path\n",
    "import seaborn as sns\n",
    "import numpy as np"
   ]
  },
  {
   "cell_type": "code",
   "execution_count": null,
   "id": "951c06eb-ec94-469c-800a-15847284cece",
   "metadata": {},
   "outputs": [
    {
     "name": "stderr",
     "output_type": "stream",
     "text": [
      "\u001b[32m2024-12-23 12:23:05.610\u001b[0m | \u001b[1mINFO    \u001b[0m | \u001b[36mevaluator\u001b[0m:\u001b[36mevaluate_scenario\u001b[0m:\u001b[36m60\u001b[0m - \u001b[1mEvaluating scenario 1\u001b[0m\n",
      "\u001b[32m2024-12-23 12:23:10.983\u001b[0m | \u001b[34m\u001b[1mDEBUG   \u001b[0m | \u001b[36mchatbot\u001b[0m:\u001b[36mparse_llm_json\u001b[0m:\u001b[36m29\u001b[0m - \u001b[34m\u001b[1m```json\n",
      "{\n",
      "  \"dish_names\": [\"Miso Soup\"],\n",
      "  \"dish_quantities\": [1],\n",
      "  \"restaurant_name\": \"Nippon\",\n",
      "  \"delivery_time\": \"by 2:00 PM\",\n",
      "  \"explanation\": \"The user chose Nippon restaurant and ordered Miso Soup. The user also specified the delivery time as by 2:00 PM.\"\n",
      "\u001b[0m\n",
      "\u001b[32m2024-12-23 12:23:10.988\u001b[0m | \u001b[1mINFO    \u001b[0m | \u001b[36mevaluator\u001b[0m:\u001b[36mevaluate_scenario\u001b[0m:\u001b[36m79\u001b[0m - \u001b[1m--------------------predicted_message--------------------\u001b[0m\n",
      "\u001b[32m2024-12-23 12:23:10.992\u001b[0m | \u001b[1mINFO    \u001b[0m | \u001b[36mevaluator\u001b[0m:\u001b[36mevaluate_scenario\u001b[0m:\u001b[36m80\u001b[0m - \u001b[1mYou have chosen to order 1 portion of Miso Soup from Nippon by by 2:00 PM. Is that accurate?\u001b[0m\n",
      "\u001b[32m2024-12-23 12:23:10.996\u001b[0m | \u001b[1mINFO    \u001b[0m | \u001b[36mevaluator\u001b[0m:\u001b[36mevaluate_scenario\u001b[0m:\u001b[36m81\u001b[0m - \u001b[1m--------------------ground_truth--------------------\u001b[0m\n",
      "\u001b[32m2024-12-23 12:23:11.000\u001b[0m | \u001b[1mINFO    \u001b[0m | \u001b[36mevaluator\u001b[0m:\u001b[36mevaluate_scenario\u001b[0m:\u001b[36m82\u001b[0m - \u001b[1mPasta is a great choice. Based on your preference, I would recommend the following restaurants that serve pasta:\n",
      "1. Roman Holiday (Italian restaurant)\n",
      "2. Sukhothai (Thai restaurant, they have a dish called Pad See Ew which is a stir-fried wide rice noodles with broccoli, egg, and your choice of protein in a sweet soy sauce)\n",
      "Would you like to choose one of these restaurants or would you like to explore other options?\n",
      "Also, please let me know if you have any specific type of pasta in mind (e.g. spaghetti, fettuccine, etc.) or any specific toppings you would like to have.\u001b[0m\n",
      "\u001b[32m2024-12-23 12:23:16.767\u001b[0m | \u001b[34m\u001b[1mDEBUG   \u001b[0m | \u001b[36mchatbot\u001b[0m:\u001b[36mparse_llm_json\u001b[0m:\u001b[36m29\u001b[0m - \u001b[34m\u001b[1m```json\n",
      "{\n",
      "  \"factual_correctness\": 0.0,\n",
      "  \"factual_correctness_explanation\": \"The chatbot response does not match the ground truth response. The ground truth response suggests pasta options from Roman Holiday and Sukhothai, while the chatbot response suggests Miso Soup from Nippon.\",\n",
      "  \"appropriateness\": 0.0,\n",
      "  \"appropriateness_explanation\": \"The chatbot response does not match the user's request for pasta. The chatbot should have suggested available pasta options from the restaurants that offer pasta.\"\n",
      "}\n",
      "```\u001b[0m\n",
      "\u001b[32m2024-12-23 12:23:16.770\u001b[0m | \u001b[1mINFO    \u001b[0m | \u001b[36mevaluator\u001b[0m:\u001b[36mevaluate_scenario\u001b[0m:\u001b[36m100\u001b[0m - \u001b[1m{'factual_correctness': 0.0, 'factual_correctness_explanation': 'The chatbot response does not match the ground truth response. The ground truth response suggests pasta options from Roman Holiday and Sukhothai, while the chatbot response suggests Miso Soup from Nippon.', 'appropriateness': 0.0, 'appropriateness_explanation': \"The chatbot response does not match the user's request for pasta. The chatbot should have suggested available pasta options from the restaurants that offer pasta.\"}\u001b[0m\n",
      "\u001b[32m2024-12-23 12:23:20.813\u001b[0m | \u001b[34m\u001b[1mDEBUG   \u001b[0m | \u001b[36mchatbot\u001b[0m:\u001b[36mparse_llm_json\u001b[0m:\u001b[36m29\u001b[0m - \u001b[34m\u001b[1m```json\n",
      "{\n",
      "  \"dish_names\": [\"Pasta\"],\n",
      "  \"dish_quantities\": [1],\n",
      "  \"restaurant_name\": \"Roman Holiday\",\n",
      "  \"delivery_time\": \"\",\n",
      "  \"explanation\": \"The user chose pasta from Roman Holiday menu and did not specify any other dishes or delivery time.\"\n",
      "\u001b[0m\n",
      "\u001b[32m2024-12-23 12:23:20.814\u001b[0m | \u001b[34m\u001b[1mDEBUG   \u001b[0m | \u001b[36mchatbot\u001b[0m:\u001b[36mget_next_ai_message\u001b[0m:\u001b[36m154\u001b[0m - \u001b[34m\u001b[1mDetermining if the order is made and confirmed\u001b[0m\n",
      "\u001b[32m2024-12-23 12:23:21.538\u001b[0m | \u001b[34m\u001b[1mDEBUG   \u001b[0m | \u001b[36mchatbot\u001b[0m:\u001b[36mparse_llm_json\u001b[0m:\u001b[36m29\u001b[0m - \u001b[34m\u001b[1m{\n",
      "  \"meaning\": 0\n",
      "}\u001b[0m\n",
      "\u001b[32m2024-12-23 12:23:21.539\u001b[0m | \u001b[34m\u001b[1mDEBUG   \u001b[0m | \u001b[36mchatbot\u001b[0m:\u001b[36mget_next_ai_message\u001b[0m:\u001b[36m159\u001b[0m - \u001b[34m\u001b[1mIs the conversation finished0\u001b[0m\n",
      "\u001b[32m2024-12-23 12:23:27.097\u001b[0m | \u001b[1mINFO    \u001b[0m | \u001b[36mevaluator\u001b[0m:\u001b[36mevaluate_scenario\u001b[0m:\u001b[36m79\u001b[0m - \u001b[1m--------------------predicted_message--------------------\u001b[0m\n",
      "\u001b[32m2024-12-23 12:23:27.100\u001b[0m | \u001b[1mINFO    \u001b[0m | \u001b[36mevaluator\u001b[0m:\u001b[36mevaluate_scenario\u001b[0m:\u001b[36m80\u001b[0m - \u001b[1mRoman Holiday has the following pasta dishes on their menu:\n",
      "\n",
      "1. Spaghetti Carbonara (pasta) - a classic Italian dish made with egg, pancetta, pecorino cheese, and black pepper.\n",
      "2. Lasagna al Forno - layers of pasta, Bolognese sauce, bechamel, and melted cheese baked to perfection.\n",
      "3. Gnocchi alla Sorrentina - potato dumplings with tomato sauce, mozzarella, and basil.\n",
      "\n",
      "These are the pasta options available at Roman Holiday. Would you like to order from here or would you like to explore other options?\u001b[0m\n",
      "\u001b[32m2024-12-23 12:23:27.101\u001b[0m | \u001b[1mINFO    \u001b[0m | \u001b[36mevaluator\u001b[0m:\u001b[36mevaluate_scenario\u001b[0m:\u001b[36m81\u001b[0m - \u001b[1m--------------------ground_truth--------------------\u001b[0m\n",
      "\u001b[32m2024-12-23 12:23:27.110\u001b[0m | \u001b[1mINFO    \u001b[0m | \u001b[36mevaluator\u001b[0m:\u001b[36mevaluate_scenario\u001b[0m:\u001b[36m82\u001b[0m - \u001b[1mRoman Holiday has a variety of pasta dishes on their menu. Here are some of the pasta dishes they have:\n",
      "1. **Spaghetti Carbonara**: Pasta dish with egg, pancetta, pecorino cheese, and black pepper\n",
      "2. **Gnocchi alla Sorrentina**: Potato dumplings with tomato sauce, mozzarella, and basil\n",
      "3. **Lasagna al Forno**: Layers of pasta, Bolognese sauce, bechamel, and melted cheese baked to perfection\n",
      "Would you like to order any of these dishes or would you like me to suggest something else?\u001b[0m\n",
      "\u001b[32m2024-12-23 12:23:32.914\u001b[0m | \u001b[34m\u001b[1mDEBUG   \u001b[0m | \u001b[36mchatbot\u001b[0m:\u001b[36mparse_llm_json\u001b[0m:\u001b[36m29\u001b[0m - \u001b[34m\u001b[1m```json\n",
      "{\n",
      "  \"factual_correctness\": 0.8,\n",
      "  \"factual_correctness_explanation\": \"The chatbot correctly mentioned the pasta dishes available at Roman Holiday, but missed one option (Margherita Pizza is not a pasta dish, but the chatbot did not mention it).\",\n",
      "  \"appropriateness\": 0.9,\n",
      "  \"appropriateness_explanation\": \"The chatbot asked the user to choose one of the recommended restaurants and offered to explore other options, which is an appropriate response to the user's request for pasta.\"\n",
      "}\n",
      "```\u001b[0m\n",
      "\u001b[32m2024-12-23 12:23:32.915\u001b[0m | \u001b[1mINFO    \u001b[0m | \u001b[36mevaluator\u001b[0m:\u001b[36mevaluate_scenario\u001b[0m:\u001b[36m100\u001b[0m - \u001b[1m{'factual_correctness': 0.8, 'factual_correctness_explanation': 'The chatbot correctly mentioned the pasta dishes available at Roman Holiday, but missed one option (Margherita Pizza is not a pasta dish, but the chatbot did not mention it).', 'appropriateness': 0.9, 'appropriateness_explanation': \"The chatbot asked the user to choose one of the recommended restaurants and offered to explore other options, which is an appropriate response to the user's request for pasta.\"}\u001b[0m\n"
     ]
    }
   ],
   "source": [
    "factual_correctness_list = []\n",
    "appropriateness_list = []\n",
    "for i in range(1, 20):\n",
    "    factual_correctness, appropriateness = evaluator.evaluate_scenario(i)\n",
    "    factual_correctness_list.append(factual_correctness)\n",
    "    appropriateness_list.append(appropriateness)\n",
    "    print(factual_correctness_list, np.mean(np.array(factual_correctness_list)), np.std(np.array(factual_correctness_list)))\n",
    "    print(appropriateness_list, np.mean(np.array(appropriateness_list)), np.std(np.array(appropriateness_list)))\n",
    "    print(\"#\"*20)"
   ]
  },
  {
   "cell_type": "code",
   "execution_count": null,
   "id": "05676f03-defe-4aa6-ab98-e48f59b7f06a",
   "metadata": {},
   "outputs": [],
   "source": [
    "sns.barplot(factual_correctness_list)"
   ]
  },
  {
   "cell_type": "code",
   "execution_count": null,
   "id": "00ee8942-bf31-4ac4-ab70-ee6db4da3e8f",
   "metadata": {},
   "outputs": [],
   "source": [
    "sns.barplot(appropriateness_list)\n"
   ]
  },
  {
   "cell_type": "code",
   "execution_count": null,
   "id": "8e1236ce-58b2-4d9d-b5ba-8f5856378bce",
   "metadata": {},
   "outputs": [],
   "source": [
    "evaluator.evaluate_scenario(6)"
   ]
  },
  {
   "cell_type": "code",
   "execution_count": null,
   "id": "4cb9caf9-5455-4ab4-8c62-09fbab6fcb09",
   "metadata": {},
   "outputs": [],
   "source": [
    "evaluator.evaluate_scenario(9)"
   ]
  },
  {
   "cell_type": "code",
   "execution_count": null,
   "id": "75391c75-d5dc-4326-8cb4-ffcb9d8e2186",
   "metadata": {},
   "outputs": [],
   "source": []
  },
  {
   "cell_type": "code",
   "execution_count": null,
   "id": "e33cea16-de6d-48da-99cb-881be35fe3fd",
   "metadata": {},
   "outputs": [],
   "source": []
  }
 ],
 "metadata": {
  "kernelspec": {
   "display_name": "food-order-chat-bot",
   "language": "python",
   "name": "food-order-chat-bot"
  },
  "language_info": {
   "codemirror_mode": {
    "name": "ipython",
    "version": 3
   },
   "file_extension": ".py",
   "mimetype": "text/x-python",
   "name": "python",
   "nbconvert_exporter": "python",
   "pygments_lexer": "ipython3",
   "version": "3.9.20"
  }
 },
 "nbformat": 4,
 "nbformat_minor": 5
}
