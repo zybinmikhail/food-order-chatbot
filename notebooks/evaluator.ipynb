{
 "cells": [
  {
   "cell_type": "code",
   "execution_count": null,
   "id": "52897c0b-d019-4564-999d-6cd92b63565f",
   "metadata": {},
   "outputs": [],
   "source": [
    "%cd ../src\n",
    "%load_ext autoreload\n",
    "%autoreload 2\n",
    "\n",
    "import json\n",
    "import numpy as np\n",
    "from loguru import logger\n",
    "from datetime import datetime\n",
    "\n",
    "import configuration\n",
    "import evaluator"
   ]
  },
  {
   "cell_type": "code",
   "execution_count": 13,
   "id": "c7755eec-cc56-4fb7-9a11-a0e460bdd5cd",
   "metadata": {},
   "outputs": [],
   "source": [
    "with open(\"../config_launch.json\", \"r\", encoding=\"utf-8\") as fin:\n",
    "    config_launch = json.load(fin)\n",
    "model_dicts = configuration.init_model_dicts()\n",
    "if len(model_dicts) == 3:\n",
    "    chatbot_model_dict, analyzer_model_dict, evaluator_model_dict = model_dicts\n",
    "    use_provocator = False\n",
    "else:\n",
    "    use_provocator = True\n",
    "    (\n",
    "        chatbot_model_dict,\n",
    "        analyzer_model_dict,\n",
    "        evaluator_model_dict,\n",
    "        provocator_model_dict,\n",
    "    ) = model_dicts\n",
    "    provocator_modes = [\n",
    "        \"hacker that wants to jailbreak the chatbot\",\n",
    "        \"a person that types with a lot of typos and grammar mistakes\",\n",
    "        \"a person who wants to make fun out of the chatbot\",\n",
    "    ]\n",
    "logger.remove()"
   ]
  },
  {
   "cell_type": "code",
   "execution_count": null,
   "id": "951c06eb-ec94-469c-800a-15847284cece",
   "metadata": {
    "scrolled": true
   },
   "outputs": [],
   "source": [
    "factual_correctness_list = []\n",
    "appropriateness_list = []\n",
    "for i in range(1, 20):\n",
    "    now = datetime.now()\n",
    "    formatted_now = now.strftime(\"%Y-%m-%d_%H:%M:%S\")\n",
    "    logfile = f\"../logs/{formatted_now}_{i}.txt\"\n",
    "    with open(logfile, \"w\") as fout:\n",
    "        fout.write(\"evaluator_model_dict\" + \" \" + str(evaluator_model_dict) + \"\\n\")\n",
    "        fout.write(\"chatbot_model_dict\" + \" \" + str(chatbot_model_dict) + \"\\n\")\n",
    "        fout.write(\"analyzer_model_dict\" + \" \" + str(analyzer_model_dict) + \"\\n\")\n",
    "        if use_provocator:\n",
    "            fout.write(\n",
    "                \"provocator_model_dict\" + \" \" + str(provocator_model_dict) + \"\\n\"\n",
    "            )\n",
    "\n",
    "    logger.add(logfile)\n",
    "    factual_correctness, appropriateness = evaluator.evaluate_scenario(\n",
    "        i,\n",
    "        model_dicts,\n",
    "        config_launch[\"provocator_mode\"],\n",
    "    )\n",
    "    factual_correctness_list.append(factual_correctness)\n",
    "    appropriateness_list.append(appropriateness)\n",
    "    logger.remove()\n",
    "\n",
    "    with open(logfile, \"a\") as fout:\n",
    "        print(\n",
    "            factual_correctness_list,\n",
    "            np.mean(np.array(factual_correctness_list)),\n",
    "            np.std(np.array(factual_correctness_list)),\n",
    "            file=fout,\n",
    "        )\n",
    "        print(\n",
    "            appropriateness_list,\n",
    "            np.mean(np.array(appropriateness_list)),\n",
    "            np.std(np.array(appropriateness_list)),\n",
    "            file=fout,\n",
    "        )\n",
    "        print(\"#\" * 20, file=fout)"
   ]
  },
  {
   "cell_type": "code",
   "execution_count": null,
   "id": "2f45dd85",
   "metadata": {},
   "outputs": [],
   "source": []
  }
 ],
 "metadata": {
  "kernelspec": {
   "display_name": "food-order-chat-bot",
   "language": "python",
   "name": "python3"
  },
  "language_info": {
   "codemirror_mode": {
    "name": "ipython",
    "version": 3
   },
   "file_extension": ".py",
   "mimetype": "text/x-python",
   "name": "python",
   "nbconvert_exporter": "python",
   "pygments_lexer": "ipython3",
   "version": "3.9.20"
  }
 },
 "nbformat": 4,
 "nbformat_minor": 5
}
