{
 "cells": [
  {
   "cell_type": "code",
   "execution_count": 1,
   "id": "106c1ece-1df7-4127-88ac-77de907e0f47",
   "metadata": {},
   "outputs": [
    {
     "name": "stdout",
     "output_type": "stream",
     "text": [
      "/Users/mikhail_zybin/food-order-chat-bot/src\n"
     ]
    }
   ],
   "source": [
    "%cd ../src"
   ]
  },
  {
   "cell_type": "code",
   "execution_count": 2,
   "id": "52897c0b-d019-4564-999d-6cd92b63565f",
   "metadata": {},
   "outputs": [],
   "source": [
    "import chatbot\n",
    "import openai"
   ]
  },
  {
   "cell_type": "code",
   "execution_count": 3,
   "id": "dfb71447-b016-4249-8eb5-df06f29e25ad",
   "metadata": {},
   "outputs": [],
   "source": [
    "def read_scenario(scenario_id: int) -> list[dict[str, str]]:\n",
    "    with open(f\"../evaluator_scenarios/scenario{scenario_id}.txt\", \"r\") as fin:\n",
    "        scenario = fin.readlines()\n",
    "\n",
    "    # This is to remove the commentaries\n",
    "    while not scenario[0].startswith(\"Chatbot\"):\n",
    "        scenario = scenario[1:]\n",
    "    \n",
    "    messages = []\n",
    "    current_replica = \"Please help me to order food\"\n",
    "    chatbot_speaks = True\n",
    "    for line in scenario:\n",
    "        line = line.lstrip()\n",
    "        if line.startswith(\"User\"):\n",
    "            messages.append({\"role\": \"assistant\", \"content\": current_replica.strip()})\n",
    "            chatbot_speaks = False\n",
    "            current_replica = line[5:]\n",
    "        elif line.startswith(\"Chatbot\"):\n",
    "            messages.append({\"role\": \"user\", \"content\": current_replica.strip()})\n",
    "            chatbot_speaks = True\n",
    "            current_replica = line[9:]\n",
    "        else:\n",
    "            current_replica += line\n",
    "    \n",
    "    return messages"
   ]
  },
  {
   "cell_type": "code",
   "execution_count": 4,
   "id": "ed75ef0e-8438-4e90-a67f-c74d5830f274",
   "metadata": {},
   "outputs": [],
   "source": [
    "system_prompt = chatbot.initialize_system_prompt()"
   ]
  },
  {
   "cell_type": "code",
   "execution_count": 5,
   "id": "26e1063c-3c43-4894-92f7-57e154d1825b",
   "metadata": {},
   "outputs": [],
   "source": [
    "scenario_id = 1\n",
    "messages = read_scenario(1)"
   ]
  },
  {
   "cell_type": "code",
   "execution_count": 6,
   "id": "2c6df9cf-37b4-4283-9dce-87f6ec49ed40",
   "metadata": {},
   "outputs": [],
   "source": [
    "api_base = \"https://llama3-1-8b-api.llm.lab.epam.com/v1\"\n",
    "model = \"meta-llama/Meta-Llama-3.1-8B-Instruct\"\n",
    "client = openai.OpenAI(api_key=\"***REMOVED***\", base_url=api_base)\n"
   ]
  },
  {
   "cell_type": "code",
   "execution_count": 7,
   "id": "dbf7ab9e-1cd8-451c-83b8-7f6a0ab8b4ee",
   "metadata": {},
   "outputs": [],
   "source": [
    "with open(\"prompts/evaluator_prompt.txt\") as fin:\n",
    "    evaluator_prompt = fin.read()"
   ]
  },
  {
   "cell_type": "code",
   "execution_count": 9,
   "id": "91fe5571-56d6-4df6-a1b7-9c702b1da601",
   "metadata": {},
   "outputs": [
    {
     "data": {
      "text/plain": [
       "[{'role': 'user', 'content': 'Please help me to order food'},\n",
       " {'role': 'assistant',\n",
       "  'content': 'Hello, Dear Customer!\\nI am food order chat bot! My function is to help you choose and order food from various cafes and restaurants.\\nWhat would you like to eat today?'},\n",
       " {'role': 'user', 'content': 'pasta'},\n",
       " {'role': 'assistant',\n",
       "  'content': 'Pasta is a great choice. Based on your preference, I would recommend the following restaurants that serve pasta:\\n1. Roman Holiday (Italian restaurant)\\n2. Sukhothai (Thai restaurant, they have a dish called Pad See Ew which is a stir-fried wide rice noodles with broccoli, egg, and your choice of protein in a sweet soy sauce)\\nWould you like to choose one of these restaurants or would you like to explore other options?\\nAlso, please let me know if you have any specific type of pasta in mind (e.g. spaghetti, fettuccine, etc.) or any specific toppings you would like to have.'},\n",
       " {'role': 'user',\n",
       "  'content': 'What kinds of pasta do they have in Roman Holiday?'},\n",
       " {'role': 'assistant',\n",
       "  'content': 'Roman Holiday has a variety of pasta dishes on their menu. Here are some of the pasta dishes they have:\\n1. **Spaghetti Carbonara**: Pasta dish with egg, pancetta, pecorino cheese, and black pepper\\n2. **Gnocchi alla Sorrentina**: Potato dumplings with tomato sauce, mozzarella, and basil\\n3. **Lasagna al Forno**: Layers of pasta, Bolognese sauce, bechamel, and melted cheese baked to perfection\\n4. **Risotto ai Funghi**: Creamy risotto with mixed mushrooms, Parmesan cheese, and white wine\\n5. **Caprese Salad** (not a traditional pasta dish, but a salad with fresh tomatoes, mozzarella cheese, basil, olive oil, and balsamic glaze)\\nThese are just a few examples of the pasta dishes they have on their menu. Would you like to order any of these dishes or would you like me to suggest something else?'},\n",
       " {'role': 'user',\n",
       "  'content': 'I want to order Spaghetti Carbonara from Roman Holiday'},\n",
       " {'role': 'assistant',\n",
       "  'content': \"Spaghetti Carbonara is a classic Italian dish. I'll add it to your order.\\nSo, to confirm:\\n* Restaurant: Roman Holiday\\n* Dish: Spaghetti Carbonara\\nNow, let's talk about delivery time. When would you like to receive your order?\"},\n",
       " {'role': 'user', 'content': 'This is correct. By 16:00.'},\n",
       " {'role': 'assistant',\n",
       "  'content': \"You have chosen to order Spaghetti Carbonara from Roman Holiday by 16:00. Is that correct? If so, please type 'I confirm' and our conversation will be over.\"},\n",
       " {'role': 'user', 'content': 'I confirm'}]"
      ]
     },
     "execution_count": 9,
     "metadata": {},
     "output_type": "execute_result"
    }
   ],
   "source": [
    "messages"
   ]
  },
  {
   "cell_type": "code",
   "execution_count": 8,
   "id": "1aa550fa-9c7d-4ee8-b9f8-9797c39a15b8",
   "metadata": {},
   "outputs": [],
   "source": [
    "def evaluate_ai_reply(\n",
    "    template: str,\n",
    "    messages: list[dict[str, str]],\n",
    "    predicted_message, \n",
    "    ground_truth,\n",
    "    model: str,\n",
    "    client: openai.OpenAI,    \n",
    "    temperature: float = 0.2,\n",
    ") -> str:\n",
    "    evaluator = client.chat.completions.create(\n",
    "        model=model,\n",
    "        messages=[\n",
    "            {\"role\": \"user\", \"content\": template.format(str(messages), predicted_message, ground_truth)}\n",
    "        ],\n",
    "        temperature=temperature,\n",
    "    )\n",
    "    return evaluator.choices[0].message.content"
   ]
  },
  {
   "cell_type": "code",
   "execution_count": null,
   "id": "c7085549-4ab5-44ec-affd-454b6e48f330",
   "metadata": {},
   "outputs": [],
   "source": [
    "from loguru import logger\n",
    "\n",
    "logger.disable(\"chatbot\")\n",
    "for i in range(4, len(messages), 2):\n",
    "    predicted_message = chatbot.get_next_ai_message(messages[:i], model, client)\n",
    "    ground_truth = messages[i][\"content\"]\n",
    "    print(\"-\"*20 + \"predicted_message\" + \"-\"*20)\n",
    "    print(predicted_message)\n",
    "    print(\"-\"*20 + \"ground_truth\" + \"-\"*20)\n",
    "    print(ground_truth)\n",
    "    print()\n",
    "    print(evaluate_ai_reply(evaluator_prompt, messages[:i], predicted_message, ground_truth, model, client))"
   ]
  },
  {
   "cell_type": "code",
   "execution_count": null,
   "id": "951c06eb-ec94-469c-800a-15847284cece",
   "metadata": {},
   "outputs": [],
   "source": []
  }
 ],
 "metadata": {
  "kernelspec": {
   "display_name": "food-order-chat-bot",
   "language": "python",
   "name": "food-order-chat-bot"
  },
  "language_info": {
   "codemirror_mode": {
    "name": "ipython",
    "version": 3
   },
   "file_extension": ".py",
   "mimetype": "text/x-python",
   "name": "python",
   "nbconvert_exporter": "python",
   "pygments_lexer": "ipython3",
   "version": "3.9.20"
  }
 },
 "nbformat": 4,
 "nbformat_minor": 5
}
